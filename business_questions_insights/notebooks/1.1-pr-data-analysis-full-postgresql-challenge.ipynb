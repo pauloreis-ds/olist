{
 "cells": [
  {
   "cell_type": "code",
   "execution_count": null,
   "metadata": {},
   "outputs": [],
   "source": []
  },
  {
   "cell_type": "code",
   "execution_count": null,
   "metadata": {},
   "outputs": [],
   "source": []
  },
  {
   "cell_type": "code",
   "execution_count": null,
   "metadata": {},
   "outputs": [],
   "source": []
  },
  {
   "cell_type": "code",
   "execution_count": null,
   "metadata": {},
   "outputs": [],
   "source": []
  },
  {
   "cell_type": "code",
   "execution_count": null,
   "metadata": {},
   "outputs": [],
   "source": [
    "intial_date = date(2017, 1, 1)\n",
    "final_date = date(2018, 1, 1)\n",
    "sales_per_month_query = f'''\n",
    "SELECT EXTRACT(MONTH FROM order_purchase_timestamp), SUM(PRICE)\n",
    "FROM orders LEFT JOIN order_items ON orders.order_id = order_items.order_id\n",
    "WHERE order_status='delivered' and\n",
    "      order_purchase_timestamp BETWEEN date('{intial_date}') AND date('{final_date}')\n",
    "GROUP BY EXTRACT(MONTH FROM order_purchase_timestamp)\n",
    "'''\n",
    "to_pandas(db.execute(sales_per_month_query), ['month','total_sales']).sort_values('month')"
   ]
  }
 ],
 "metadata": {
  "kernelspec": {
   "display_name": "Python 3",
   "language": "python",
   "name": "python3"
  },
  "language_info": {
   "codemirror_mode": {
    "name": "ipython",
    "version": 3
   },
   "file_extension": ".py",
   "mimetype": "text/x-python",
   "name": "python",
   "nbconvert_exporter": "python",
   "pygments_lexer": "ipython3",
   "version": "3.8.5"
  }
 },
 "nbformat": 4,
 "nbformat_minor": 4
}
