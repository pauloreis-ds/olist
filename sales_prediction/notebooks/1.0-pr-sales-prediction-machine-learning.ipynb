{
 "cells": [
  {
   "cell_type": "markdown",
   "metadata": {},
   "source": [
    "### Sales Forecast\n",
    "\n",
    "**Motivation! What's the context?**\n",
    "- In 2017 Olist started to forecast its monthly sales based on the average revenue from 3 months before. But now the company  wants to be able to predict future sales more accurately.\n",
    "\n",
    "**Why?**\n",
    "- To efficiently allocate resources for future projects, growth and manage its cash flow. \n",
    "\n",
    "**Who are the stakeholders?**\n",
    "- The financial sector will use the forecast to the set operating budgets and to project cash flows.\n",
    "- And the marketing team, who will have the opportunity to schedule promotions if it appears sales <br>\n",
    "will be weak and will be able to better allocate budget among other marketing activities.\n",
    "\n",
    "**What is the deliverable?**\n",
    "- A dashboard with the information about the forecast.\n",
    "\n",
    "\n",
    "> **ps: We will use the data to forecast the second quarter of 2018 and the third quarter will be our \"production data\".**"
   ]
  },
  {
   "cell_type": "markdown",
   "metadata": {},
   "source": [
    "# Cycle Notes\n",
    "\n",
    "**1st - Really Good Results! Overfitting? Probably.**\n",
    "\n",
    "On average, our predictions are 0.8% above or below the real value. <br>\n",
    "Which means an error of about R$ 7241.27\n",
    "\n",
    "        freight_percentage_from_price with a importance of 72%. Let's remove it now.\n",
    "        As well as freight_value, since we don't have this information at \"prediction time\".\n",
    "\n",
    "**2nd - Bad Bad**\n",
    "\n",
    "On average, our predictions are 36.66% above or below the real value.<br>\n",
    "Which means an error of about R$ 330307.79\n",
    "\n",
    "        I'll try to normalize the data instead of standardize\n",
    "\n",
    "**3rd - Still Bad**\n",
    "\n",
    "On average, our predictions are 36.96% above or below the real value.<br>\n",
    "Which means an error of about R$ 332950.2"
   ]
  },
  {
   "cell_type": "code",
   "execution_count": 1,
   "metadata": {},
   "outputs": [],
   "source": [
    "import os \n",
    "import pandas as pd\n",
    "import numpy as np \n",
    "\n",
    "from sklearn.preprocessing import MinMaxScaler, LabelEncoder\n",
    "\n",
    "from sklearn.ensemble import RandomForestRegressor\n",
    "from sklearn.linear_model import LinearRegression\n",
    "\n",
    "from sklearn.metrics import mean_absolute_error, mean_absolute_percentage_error"
   ]
  },
  {
   "cell_type": "code",
   "execution_count": 2,
   "metadata": {},
   "outputs": [],
   "source": [
    "# Settings\n",
    "__file__ = \"1.0-pr-sales-prediction-eda\"\n",
    "THIS_DIR = os.path.dirname(os.path.abspath(__file__))\n",
    "BASE_DIR = os.path.dirname(os.path.dirname(os.path.dirname(os.path.abspath(__file__))))\n",
    "DATA_DIR = os.path.join(os.path.join(BASE_DIR, 'data'))"
   ]
  },
  {
   "cell_type": "code",
   "execution_count": 3,
   "metadata": {},
   "outputs": [],
   "source": [
    "def evaluation(y_true, y_pred, show_results=True):\n",
    "    mae = mean_absolute_error(y_true, y_pred).round(2)\n",
    "    mape = mean_absolute_percentage_error(y_true, y_pred) * 100\n",
    "    if show_results:\n",
    "        print(f'''On average, our predictions are {mape.round(2)}% above or below the real value.''')\n",
    "        print(f'''Which means an error of about R$ {mae}''')\n",
    "    return mae, mape"
   ]
  },
  {
   "cell_type": "markdown",
   "metadata": {},
   "source": [
    "## Loading Data"
   ]
  },
  {
   "cell_type": "code",
   "execution_count": 77,
   "metadata": {},
   "outputs": [
    {
     "data": {
      "text/html": [
       "<div>\n",
       "<style scoped>\n",
       "    .dataframe tbody tr th:only-of-type {\n",
       "        vertical-align: middle;\n",
       "    }\n",
       "\n",
       "    .dataframe tbody tr th {\n",
       "        vertical-align: top;\n",
       "    }\n",
       "\n",
       "    .dataframe thead th {\n",
       "        text-align: right;\n",
       "    }\n",
       "</style>\n",
       "<table border=\"1\" class=\"dataframe\">\n",
       "  <thead>\n",
       "    <tr style=\"text-align: right;\">\n",
       "      <th></th>\n",
       "      <th></th>\n",
       "      <th>revenue</th>\n",
       "    </tr>\n",
       "    <tr>\n",
       "      <th>order_purchase_timestamp</th>\n",
       "      <th>order_purchase_timestamp</th>\n",
       "      <th></th>\n",
       "    </tr>\n",
       "  </thead>\n",
       "  <tbody>\n",
       "    <tr>\n",
       "      <th rowspan=\"12\" valign=\"top\">2017</th>\n",
       "      <th>1</th>\n",
       "      <td>127367.44</td>\n",
       "    </tr>\n",
       "    <tr>\n",
       "      <th>2</th>\n",
       "      <td>269399.65</td>\n",
       "    </tr>\n",
       "    <tr>\n",
       "      <th>3</th>\n",
       "      <td>413517.85</td>\n",
       "    </tr>\n",
       "    <tr>\n",
       "      <th>4</th>\n",
       "      <td>390205.37</td>\n",
       "    </tr>\n",
       "    <tr>\n",
       "      <th>5</th>\n",
       "      <td>564882.30</td>\n",
       "    </tr>\n",
       "    <tr>\n",
       "      <th>6</th>\n",
       "      <td>487400.36</td>\n",
       "    </tr>\n",
       "    <tr>\n",
       "      <th>7</th>\n",
       "      <td>564067.13</td>\n",
       "    </tr>\n",
       "    <tr>\n",
       "      <th>8</th>\n",
       "      <td>643593.37</td>\n",
       "    </tr>\n",
       "    <tr>\n",
       "      <th>9</th>\n",
       "      <td>697148.71</td>\n",
       "    </tr>\n",
       "    <tr>\n",
       "      <th>10</th>\n",
       "      <td>749240.68</td>\n",
       "    </tr>\n",
       "    <tr>\n",
       "      <th>11</th>\n",
       "      <td>1149233.20</td>\n",
       "    </tr>\n",
       "    <tr>\n",
       "      <th>12</th>\n",
       "      <td>841078.16</td>\n",
       "    </tr>\n",
       "    <tr>\n",
       "      <th rowspan=\"8\" valign=\"top\">2018</th>\n",
       "      <th>1</th>\n",
       "      <td>1076273.40</td>\n",
       "    </tr>\n",
       "    <tr>\n",
       "      <th>2</th>\n",
       "      <td>963208.29</td>\n",
       "    </tr>\n",
       "    <tr>\n",
       "      <th>3</th>\n",
       "      <td>1117526.68</td>\n",
       "    </tr>\n",
       "    <tr>\n",
       "      <th>4</th>\n",
       "      <td>1130099.01</td>\n",
       "    </tr>\n",
       "    <tr>\n",
       "      <th>5</th>\n",
       "      <td>1126620.93</td>\n",
       "    </tr>\n",
       "    <tr>\n",
       "      <th>6</th>\n",
       "      <td>1009037.40</td>\n",
       "    </tr>\n",
       "    <tr>\n",
       "      <th>7</th>\n",
       "      <td>1024797.19</td>\n",
       "    </tr>\n",
       "    <tr>\n",
       "      <th>8</th>\n",
       "      <td>982649.62</td>\n",
       "    </tr>\n",
       "  </tbody>\n",
       "</table>\n",
       "</div>"
      ],
      "text/plain": [
       "                                                      revenue\n",
       "order_purchase_timestamp order_purchase_timestamp            \n",
       "2017                     1                          127367.44\n",
       "                         2                          269399.65\n",
       "                         3                          413517.85\n",
       "                         4                          390205.37\n",
       "                         5                          564882.30\n",
       "                         6                          487400.36\n",
       "                         7                          564067.13\n",
       "                         8                          643593.37\n",
       "                         9                          697148.71\n",
       "                         10                         749240.68\n",
       "                         11                        1149233.20\n",
       "                         12                         841078.16\n",
       "2018                     1                         1076273.40\n",
       "                         2                          963208.29\n",
       "                         3                         1117526.68\n",
       "                         4                         1130099.01\n",
       "                         5                         1126620.93\n",
       "                         6                         1009037.40\n",
       "                         7                         1024797.19\n",
       "                         8                          982649.62"
      ]
     },
     "execution_count": 77,
     "metadata": {},
     "output_type": "execute_result"
    }
   ],
   "source": [
    "data_frame_to_process = pd.read_pickle(os.path.join(os.path.join(DATA_DIR, \"sales_forecast_data\"), \"ml_data_to_preprocess.pkl\"))\n",
    "data_frame_to_process['revenue'] = data_frame_to_process['freight_value'] + data_frame_to_process['price']\n",
    "df_evaluate = data_frame_to_process.copy()\n",
    "pd.DataFrame(df_evaluate.groupby([df_evaluate['order_purchase_timestamp'].dt.year, df_evaluate['order_purchase_timestamp'].dt.month])['revenue'].sum())"
   ]
  },
  {
   "cell_type": "code",
   "execution_count": 78,
   "metadata": {},
   "outputs": [],
   "source": [
    "mask = (data_frame_to_process['order_purchase_timestamp'] < '2018-4-1')\n",
    "x_train = data_frame_to_process.loc[mask].drop(columns=['revenue'])\n",
    "\n",
    "mask = (data_frame_to_process['order_purchase_timestamp'] >= '2018-4-1')\n",
    "x_test = data_frame_to_process.loc[mask].drop(columns=['revenue'])"
   ]
  },
  {
   "cell_type": "markdown",
   "metadata": {},
   "source": [
    "## 0.0 Filter Features"
   ]
  },
  {
   "cell_type": "code",
   "execution_count": 80,
   "metadata": {},
   "outputs": [],
   "source": [
    "to_drop = ['order_id', 'customer_id', 'order_status', 'order_purchase_timestamp', 'order_approved_at',\n",
    "           'order_delivered_carrier_date', 'order_delivered_customer_date', 'order_estimated_delivery_date',\n",
    "           'customer_unique_id', 'order_item_id', 'product_id', 'seller_id', 'shipping_limit_date', \n",
    "           'geolocation_zip_code_prefix', 'geolocation_city', 'geolocation_state', 'price',\n",
    "           'freight_percentage_from_price', 'freight_value']\n",
    "data_frame_to_process.drop(columns=to_drop, inplace=True)"
   ]
  },
  {
   "cell_type": "markdown",
   "metadata": {},
   "source": [
    "## 1.0 Data Preparation/Transformation"
   ]
  },
  {
   "cell_type": "code",
   "execution_count": 81,
   "metadata": {},
   "outputs": [],
   "source": [
    "data_frame = data_frame_to_process.copy()"
   ]
  },
  {
   "cell_type": "markdown",
   "metadata": {},
   "source": [
    "### 1.1 Rescaling\n",
    " \n",
    "**1.1.1. Min-Max Scaler**"
   ]
  },
  {
   "cell_type": "code",
   "execution_count": 82,
   "metadata": {
    "code_folding": []
   },
   "outputs": [],
   "source": [
    "columns = data_frame.select_dtypes(include=['int32', 'int64', 'float32', 'float64']).drop(columns=['revenue']).columns\n",
    "min_max_scaler = MinMaxScaler()\n",
    "\n",
    "for column in columns:\n",
    "    min_max_scaler = MinMaxScaler()\n",
    "    data_frame[column] = min_max_scaler.fit_transform(data_frame[[column]].values)"
   ]
  },
  {
   "cell_type": "code",
   "execution_count": 342,
   "metadata": {},
   "outputs": [],
   "source": [
    "# from sklearn import preprocessing\n",
    "# columns = data_frame.select_dtypes(include=['int64', 'float64']).drop(columns=['price']).columns\n",
    "# for column in columns:\n",
    "#     data_frame[column] = preprocessing.normalize([data_frame[column]])[0]"
   ]
  },
  {
   "cell_type": "markdown",
   "metadata": {},
   "source": [
    "### 1.2 Feature Encoding"
   ]
  },
  {
   "cell_type": "code",
   "execution_count": 83,
   "metadata": {},
   "outputs": [],
   "source": [
    "columns = data_frame.select_dtypes(exclude=['int32', 'int64', 'float32', 'float64', 'bool']).columns\n",
    "\n",
    "for column in columns:\n",
    "    label_encoder = LabelEncoder()\n",
    "    data_frame[column] = label_encoder.fit_transform( data_frame[column] )"
   ]
  },
  {
   "cell_type": "code",
   "execution_count": 84,
   "metadata": {},
   "outputs": [],
   "source": [
    "for column in columns:\n",
    "    min_max_scaler = MinMaxScaler()\n",
    "    data_frame[column] = min_max_scaler.fit_transform(data_frame[[column]].values)"
   ]
  },
  {
   "cell_type": "markdown",
   "metadata": {},
   "source": [
    "### 1.3 Response Variable Transformation"
   ]
  },
  {
   "cell_type": "code",
   "execution_count": 85,
   "metadata": {},
   "outputs": [],
   "source": [
    "data_frame['revenue'] =  np.log1p(data_frame['revenue'])"
   ]
  },
  {
   "cell_type": "markdown",
   "metadata": {},
   "source": [
    "### 1.4 Nature Transformation (dates)"
   ]
  },
  {
   "cell_type": "code",
   "execution_count": 86,
   "metadata": {},
   "outputs": [],
   "source": [
    "data_frame['purchase_timestamp_month_sin'] = data_frame['purchase_timestamp_month'].apply( lambda x: np.sin( x * ( 2. * np.pi/12 ) ) )\n",
    "data_frame['purchase_timestamp_month_cos'] = data_frame['purchase_timestamp_month'].apply( lambda x: np.cos( x * ( 2. * np.pi/12 ) ) )\n",
    "\n",
    "data_frame['estimated_delivery_date_month_sin'] = data_frame['estimated_delivery_date_month'].apply( lambda x: np.sin( x * ( 2. * np.pi/12 ) ) )\n",
    "data_frame['estimated_delivery_date_month_cos'] = data_frame['estimated_delivery_date_month'].apply( lambda x: np.cos( x * ( 2. * np.pi/12 ) ) )\n",
    "\n",
    "data_frame['purchase_timestamp_day_sin'] = data_frame['purchase_timestamp_day'].apply( lambda x: np.sin( x * ( 2. * np.pi/30 ) ) )\n",
    "data_frame['purchase_timestamp_day_cos'] = data_frame['purchase_timestamp_day'].apply( lambda x: np.cos( x * ( 2. * np.pi/30 ) ) )\n",
    "\n",
    "\n",
    "data_frame['purchase_timestamp_weekofyear_sin'] = data_frame['purchase_timestamp_weekofyear'].apply( lambda x: np.sin( x * ( 2. * np.pi/52 ) ) )\n",
    "data_frame['purchase_timestamp_weekofyear_cos'] = data_frame['purchase_timestamp_weekofyear'].apply( lambda x: np.cos( x * ( 2. * np.pi/52 ) ) )\n",
    "\n",
    "data_frame['estimated_delivery_date_weekofyear_sin'] = data_frame['estimated_delivery_date_weekofyear'].apply( lambda x: np.sin( x * ( 2. * np.pi/52 ) ) )\n",
    "data_frame['estimated_delivery_date_weekofyear_cos'] = data_frame['estimated_delivery_date_weekofyear'].apply( lambda x: np.cos( x * ( 2. * np.pi/52 ) ) )"
   ]
  },
  {
   "cell_type": "code",
   "execution_count": 87,
   "metadata": {},
   "outputs": [],
   "source": [
    "data_frame.drop(columns=['purchase_timestamp_month','estimated_delivery_date_month','purchase_timestamp_day', \n",
    "                         'purchase_timestamp_weekofyear','estimated_delivery_date_weekofyear'], inplace=True)"
   ]
  },
  {
   "cell_type": "markdown",
   "metadata": {},
   "source": [
    "## 2.0 Baseline Models"
   ]
  },
  {
   "cell_type": "code",
   "execution_count": 88,
   "metadata": {},
   "outputs": [],
   "source": [
    "df = data_frame.copy()"
   ]
  },
  {
   "cell_type": "markdown",
   "metadata": {},
   "source": [
    "### 2.1 raining Test Split"
   ]
  },
  {
   "cell_type": "code",
   "execution_count": 89,
   "metadata": {},
   "outputs": [],
   "source": [
    "x_train = df.loc[x_train.index].drop(columns=['revenue'])\n",
    "y_train = df.loc[x_train.index, 'revenue']\n",
    "\n",
    "x_test = df.loc[x_test.index].drop(columns=['revenue'])\n",
    "y_test = df.loc[x_test.index, 'revenue']"
   ]
  },
  {
   "cell_type": "markdown",
   "metadata": {},
   "source": [
    "#### 2.1.2 RandomForestRegressor\n",
    "\n",
    "Individual Prices\n",
    "\n",
    "1st cycle:\n",
    "\n",
    "    On average, our predictions are 2.29% above or below the real value.\n",
    "    Which means an error of about R$ 3.76\n",
    "    \n",
    "2nd cycle\n",
    "\n",
    "    On average, our predictions are 97.06% above or below the real value.\n",
    "    Which means an error of about R$ 81.45\n",
    "    \n",
    "3rd cycle\n",
    "\n",
    "    On average, our predictions are 96.64% above or below the real value.\n",
    "    Which means an error of about R$ 81.5"
   ]
  },
  {
   "cell_type": "code",
   "execution_count": 94,
   "metadata": {},
   "outputs": [
    {
     "name": "stdout",
     "output_type": "stream",
     "text": [
      "On average, our predictions are 71.52% above or below the real value.\n",
      "Which means an error of about R$ 86.57\n"
     ]
    },
    {
     "data": {
      "text/plain": [
       "(86.57, 71.52142966796171)"
      ]
     },
     "execution_count": 94,
     "metadata": {},
     "output_type": "execute_result"
    }
   ],
   "source": [
    "rf = RandomForestRegressor(min_samples_leaf=9)\n",
    "rf.fit(x_train, y_train)\n",
    "\n",
    "rf_predictions = rf.predict(x_test)\n",
    "evaluation(np.expm1(y_test), np.expm1(rf_predictions))"
   ]
  },
  {
   "cell_type": "code",
   "execution_count": 95,
   "metadata": {},
   "outputs": [
    {
     "data": {
      "text/plain": [
       "<AxesSubplot:xlabel='month'>"
      ]
     },
     "execution_count": 95,
     "metadata": {},
     "output_type": "execute_result"
    },
    {
     "data": {
      "image/png": "[encoded data removed]",
      "text/plain": [
       "<Figure size 1080x360 with 1 Axes>"
      ]
     },
     "metadata": {
      "needs_background": "light"
     },
     "output_type": "display_data"
    }
   ],
   "source": [
    "rf_evaluation = pd.concat([df_evaluate.loc[mask]['order_purchase_timestamp'],  np.expm1(y_test)], axis=1)\n",
    "rf_evaluation = pd.concat([rf_evaluation.reset_index(drop=True), pd.Series(np.expm1(rf_predictions), name='prediction')], axis=1)\n",
    "rf_evaluation['purchase_date'] = rf_evaluation['order_purchase_timestamp'].dt.date\n",
    "rf_evaluation['month'] = rf_evaluation['order_purchase_timestamp'].dt.month\n",
    "rf_evaluation.groupby('month').sum().plot(figsize=(15,5))"
   ]
  },
  {
   "cell_type": "code",
   "execution_count": 96,
   "metadata": {},
   "outputs": [
    {
     "name": "stdout",
     "output_type": "stream",
     "text": [
      "On average, our predictions are 29.79% above or below the real value.\n",
      "Which means an error of about R$ 314115.18\n"
     ]
    },
    {
     "data": {
      "text/plain": [
       "(314115.18, 29.789218424443987)"
      ]
     },
     "execution_count": 96,
     "metadata": {},
     "output_type": "execute_result"
    }
   ],
   "source": [
    "evaluation(rf_evaluation.groupby('month').sum()['revenue'], rf_evaluation.groupby('month').sum()['prediction'])"
   ]
  },
  {
   "cell_type": "markdown",
   "metadata": {},
   "source": [
    "#### 2.1.3 LinearRegression\n",
    "\n",
    "Individual Prices\n",
    "\n",
    "1st cycle:\n",
    "\n",
    "    On average, our predictions are 57.94% above or below the real value.\n",
    "    Which means an error of about R$ 308.92\n",
    "    \n",
    "2nd cycle\n",
    "\n",
    "    On average, our predictions are 100.31% above or below the real value.\n",
    "    Which means an error of about R$ 80.87\n",
    "    \n",
    "3rd cycle\n",
    "\n",
    "    On average, our predictions are 100.36% above or below the real value.\n",
    "    Which means an error of about R$ 80.88"
   ]
  },
  {
   "cell_type": "code",
   "execution_count": 90,
   "metadata": {},
   "outputs": [
    {
     "name": "stdout",
     "output_type": "stream",
     "text": [
      "On average, our predictions are 72.84% above or below the real value.\n",
      "Which means an error of about R$ 85.92\n"
     ]
    },
    {
     "data": {
      "text/plain": [
       "(85.92, 72.83533966260825)"
      ]
     },
     "execution_count": 90,
     "metadata": {},
     "output_type": "execute_result"
    }
   ],
   "source": [
    "lr = LinearRegression()\n",
    "lr.fit(x_train, y_train)\n",
    "\n",
    "lr_predictions = lr.predict(x_test)\n",
    "evaluation(np.expm1(y_test), np.expm1(lr_predictions))"
   ]
  },
  {
   "cell_type": "code",
   "execution_count": 91,
   "metadata": {},
   "outputs": [
    {
     "data": {
      "text/plain": [
       "<AxesSubplot:xlabel='month'>"
      ]
     },
     "execution_count": 91,
     "metadata": {},
     "output_type": "execute_result"
    },
    {
     "data": {
      "image/png": "[encoded data removed]",
      "text/plain": [
       "<Figure size 1080x360 with 1 Axes>"
      ]
     },
     "metadata": {
      "needs_background": "light"
     },
     "output_type": "display_data"
    }
   ],
   "source": [
    "lr_evaluation = pd.concat([df_evaluate.loc[mask]['order_purchase_timestamp'], np.expm1(y_test)], axis=1)\n",
    "lr_evaluation = pd.concat([lr_evaluation.reset_index(drop=True), pd.Series(np.expm1(lr_predictions), name='prediction')], axis=1)\n",
    "lr_evaluation['purchase_date'] = lr_evaluation['order_purchase_timestamp'].dt.date\n",
    "lr_evaluation['month'] = lr_evaluation['order_purchase_timestamp'].dt.month\n",
    "lr_evaluation.groupby('month').sum().plot(figsize=(15,5))"
   ]
  },
  {
   "cell_type": "code",
   "execution_count": 92,
   "metadata": {},
   "outputs": [
    {
     "name": "stdout",
     "output_type": "stream",
     "text": [
      "On average, our predictions are 27.22% above or below the real value.\n",
      "Which means an error of about R$ 287706.24\n"
     ]
    },
    {
     "data": {
      "text/plain": [
       "(287706.24, 27.223057624078212)"
      ]
     },
     "execution_count": 92,
     "metadata": {},
     "output_type": "execute_result"
    }
   ],
   "source": [
    "evaluation(lr_evaluation.groupby('month').sum()['revenue'], lr_evaluation.groupby('month').sum()['prediction'])"
   ]
  },
  {
   "cell_type": "markdown",
   "metadata": {},
   "source": [
    "## 3.0 Features Importances"
   ]
  },
  {
   "cell_type": "markdown",
   "metadata": {},
   "source": [
    "#### random forest importance"
   ]
  },
  {
   "cell_type": "code",
   "execution_count": 97,
   "metadata": {
    "scrolled": false
   },
   "outputs": [
    {
     "data": {
      "text/html": [
       "<div>\n",
       "<style scoped>\n",
       "    .dataframe tbody tr th:only-of-type {\n",
       "        vertical-align: middle;\n",
       "    }\n",
       "\n",
       "    .dataframe tbody tr th {\n",
       "        vertical-align: top;\n",
       "    }\n",
       "\n",
       "    .dataframe thead th {\n",
       "        text-align: right;\n",
       "    }\n",
       "</style>\n",
       "<table border=\"1\" class=\"dataframe\">\n",
       "  <thead>\n",
       "    <tr style=\"text-align: right;\">\n",
       "      <th></th>\n",
       "      <th>feature_importance</th>\n",
       "      <th>column</th>\n",
       "    </tr>\n",
       "  </thead>\n",
       "  <tbody>\n",
       "    <tr>\n",
       "      <th>3</th>\n",
       "      <td>0.17</td>\n",
       "      <td>geolocation_lat</td>\n",
       "    </tr>\n",
       "    <tr>\n",
       "      <th>0</th>\n",
       "      <td>0.15</td>\n",
       "      <td>customer_zip_code_prefix</td>\n",
       "    </tr>\n",
       "    <tr>\n",
       "      <th>4</th>\n",
       "      <td>0.14</td>\n",
       "      <td>geolocation_lng</td>\n",
       "    </tr>\n",
       "    <tr>\n",
       "      <th>9</th>\n",
       "      <td>0.10</td>\n",
       "      <td>estimated_delivery_date_day</td>\n",
       "    </tr>\n",
       "    <tr>\n",
       "      <th>1</th>\n",
       "      <td>0.07</td>\n",
       "      <td>customer_city</td>\n",
       "    </tr>\n",
       "    <tr>\n",
       "      <th>13</th>\n",
       "      <td>0.06</td>\n",
       "      <td>purchase_timestamp_dayofweek</td>\n",
       "    </tr>\n",
       "    <tr>\n",
       "      <th>21</th>\n",
       "      <td>0.05</td>\n",
       "      <td>purchase_timestamp_day_cos</td>\n",
       "    </tr>\n",
       "    <tr>\n",
       "      <th>20</th>\n",
       "      <td>0.05</td>\n",
       "      <td>purchase_timestamp_day_sin</td>\n",
       "    </tr>\n",
       "    <tr>\n",
       "      <th>14</th>\n",
       "      <td>0.05</td>\n",
       "      <td>estimated_delivery_date_dayofweek</td>\n",
       "    </tr>\n",
       "    <tr>\n",
       "      <th>25</th>\n",
       "      <td>0.03</td>\n",
       "      <td>estimated_delivery_date_weekofyear_cos</td>\n",
       "    </tr>\n",
       "    <tr>\n",
       "      <th>24</th>\n",
       "      <td>0.03</td>\n",
       "      <td>estimated_delivery_date_weekofyear_sin</td>\n",
       "    </tr>\n",
       "    <tr>\n",
       "      <th>23</th>\n",
       "      <td>0.03</td>\n",
       "      <td>purchase_timestamp_weekofyear_cos</td>\n",
       "    </tr>\n",
       "    <tr>\n",
       "      <th>22</th>\n",
       "      <td>0.03</td>\n",
       "      <td>purchase_timestamp_weekofyear_sin</td>\n",
       "    </tr>\n",
       "    <tr>\n",
       "      <th>17</th>\n",
       "      <td>0.01</td>\n",
       "      <td>purchase_timestamp_month_cos</td>\n",
       "    </tr>\n",
       "    <tr>\n",
       "      <th>19</th>\n",
       "      <td>0.01</td>\n",
       "      <td>estimated_delivery_date_month_cos</td>\n",
       "    </tr>\n",
       "    <tr>\n",
       "      <th>18</th>\n",
       "      <td>0.01</td>\n",
       "      <td>estimated_delivery_date_month_sin</td>\n",
       "    </tr>\n",
       "    <tr>\n",
       "      <th>16</th>\n",
       "      <td>0.01</td>\n",
       "      <td>purchase_timestamp_month_sin</td>\n",
       "    </tr>\n",
       "    <tr>\n",
       "      <th>7</th>\n",
       "      <td>0.01</td>\n",
       "      <td>purchase_timestamp_year</td>\n",
       "    </tr>\n",
       "    <tr>\n",
       "      <th>11</th>\n",
       "      <td>0.01</td>\n",
       "      <td>sellers_in_state</td>\n",
       "    </tr>\n",
       "    <tr>\n",
       "      <th>8</th>\n",
       "      <td>0.01</td>\n",
       "      <td>estimated_delivery_date_year</td>\n",
       "    </tr>\n",
       "    <tr>\n",
       "      <th>15</th>\n",
       "      <td>0.00</td>\n",
       "      <td>city_is_capital</td>\n",
       "    </tr>\n",
       "    <tr>\n",
       "      <th>2</th>\n",
       "      <td>0.00</td>\n",
       "      <td>customer_state</td>\n",
       "    </tr>\n",
       "    <tr>\n",
       "      <th>12</th>\n",
       "      <td>0.00</td>\n",
       "      <td>sellers_in_region</td>\n",
       "    </tr>\n",
       "    <tr>\n",
       "      <th>10</th>\n",
       "      <td>0.00</td>\n",
       "      <td>region</td>\n",
       "    </tr>\n",
       "    <tr>\n",
       "      <th>5</th>\n",
       "      <td>0.00</td>\n",
       "      <td>purchase_timestamp_is_holyday</td>\n",
       "    </tr>\n",
       "    <tr>\n",
       "      <th>6</th>\n",
       "      <td>0.00</td>\n",
       "      <td>estimated_delivery_date_is_holyday</td>\n",
       "    </tr>\n",
       "  </tbody>\n",
       "</table>\n",
       "</div>"
      ],
      "text/plain": [
       "    feature_importance                                  column\n",
       "3                 0.17                         geolocation_lat\n",
       "0                 0.15                customer_zip_code_prefix\n",
       "4                 0.14                         geolocation_lng\n",
       "9                 0.10             estimated_delivery_date_day\n",
       "1                 0.07                           customer_city\n",
       "13                0.06            purchase_timestamp_dayofweek\n",
       "21                0.05              purchase_timestamp_day_cos\n",
       "20                0.05              purchase_timestamp_day_sin\n",
       "14                0.05       estimated_delivery_date_dayofweek\n",
       "25                0.03  estimated_delivery_date_weekofyear_cos\n",
       "24                0.03  estimated_delivery_date_weekofyear_sin\n",
       "23                0.03       purchase_timestamp_weekofyear_cos\n",
       "22                0.03       purchase_timestamp_weekofyear_sin\n",
       "17                0.01            purchase_timestamp_month_cos\n",
       "19                0.01       estimated_delivery_date_month_cos\n",
       "18                0.01       estimated_delivery_date_month_sin\n",
       "16                0.01            purchase_timestamp_month_sin\n",
       "7                 0.01                 purchase_timestamp_year\n",
       "11                0.01                        sellers_in_state\n",
       "8                 0.01            estimated_delivery_date_year\n",
       "15                0.00                         city_is_capital\n",
       "2                 0.00                          customer_state\n",
       "12                0.00                       sellers_in_region\n",
       "10                0.00                                  region\n",
       "5                 0.00           purchase_timestamp_is_holyday\n",
       "6                 0.00      estimated_delivery_date_is_holyday"
      ]
     },
     "execution_count": 97,
     "metadata": {},
     "output_type": "execute_result"
    }
   ],
   "source": [
    "feature_importance = pd.concat([pd.Series(rf.feature_importances_, name='feature_importance'), pd.Series(x_train.columns, name='column')], axis=1)\n",
    "feature_importance.round(2).sort_values('feature_importance', ascending=False)#.plot(kind='barh', x='column', figsize=(10,6));"
   ]
  },
  {
   "cell_type": "markdown",
   "metadata": {},
   "source": [
    "##### Linear Regression Importance"
   ]
  },
  {
   "cell_type": "code",
   "execution_count": 93,
   "metadata": {},
   "outputs": [
    {
     "data": {
      "image/png": "[encoded data removed]",
      "text/plain": [
       "<Figure size 720x432 with 1 Axes>"
      ]
     },
     "metadata": {
      "needs_background": "light"
     },
     "output_type": "display_data"
    }
   ],
   "source": [
    "feature_importance = pd.concat([pd.Series(lr.coef_, name='feature_importance'), pd.Series(x_train.columns, name='column')], axis=1)\n",
    "feature_importance.round(2).sort_values('feature_importance', ascending=False).plot(kind='barh', x='column', figsize=(10,6));"
   ]
  }
 ],
 "metadata": {
  "kernelspec": {
   "display_name": "Python 3",
   "language": "python",
   "name": "python3"
  },
  "language_info": {
   "codemirror_mode": {
    "name": "ipython",
    "version": 3
   },
   "file_extension": ".py",
   "mimetype": "text/x-python",
   "name": "python",
   "nbconvert_exporter": "python",
   "pygments_lexer": "ipython3",
   "version": "3.8.5"
  }
 },
 "nbformat": 4,
 "nbformat_minor": 4
}
