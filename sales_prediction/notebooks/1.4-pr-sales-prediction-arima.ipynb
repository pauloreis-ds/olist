{
 "cells": [
  {
   "cell_type": "markdown",
   "metadata": {},
   "source": [
    "### Sales Forecast\n",
    "\n",
    "**Motivation! What's the context?**\n",
    "- In 2017 Olist started to forecast its monthly sales based on the average revenue from 3 months before. But now the company wants to be able to predict future sales more accurately with a wider time range (3 months).\n",
    "\n",
    "**Why?**\n",
    "- To efficiently allocate resources for future projects, growth and manage its cash flow. \n",
    "\n",
    "**Who are the stakeholders?**\n",
    "- The financial sector will use the forecast to the set operating budgets and to project cash flows.\n",
    "- And the marketing team, who will have the opportunity to schedule promotions if it appears sales <br>\n",
    "will be weak and will be able to better allocate budget among other marketing activities.\n",
    "\n",
    "**What is the deliverable?**\n",
    "- A dashboard with the information about the forecast.\n",
    "\n",
    "\n",
    "> **ps: We will use the data to forecast the second quarter of 2018 and the third quarter will be our \"production data\".**"
   ]
  },
  {
   "cell_type": "markdown",
   "metadata": {},
   "source": [
    "## Agenda\n",
    "\n",
    "[0.0 Loading Data](#0.0-Loading-Data)<br>\n",
    "&nbsp;[0.1 Train and Test Data Frame](#0.1-Train-and-Test-Data-Frame)<br>\n",
    "\n",
    "[1.0 ARIMA](#1.0-ARIMA)<br>\n",
    "\n",
    "[2.0 Final Model](#2.0-Final-Model)<br>\n",
    "\n",
    "[3.0 Results](#3.0-Results)<br>\n",
    "\n",
    "[4.0 Storytelling](#4.0-Storytelling)"
   ]
  },
  {
   "cell_type": "code",
   "execution_count": 1,
   "metadata": {},
   "outputs": [],
   "source": [
    "from notebook_utils.utils import *\n",
    "from notebook_utils.ml_utils import *\n",
    "\n",
    "import os \n",
    "import pandas as pd\n",
    "import numpy as np\n",
    "import matplotlib.pyplot as plt\n",
    "\n",
    "from statsmodels.tsa.arima.model import ARIMA"
   ]
  },
  {
   "cell_type": "code",
   "execution_count": 2,
   "metadata": {},
   "outputs": [],
   "source": [
    "directory = Directory(\"1.4-pr-sales-prediction-arima\")"
   ]
  },
  {
   "cell_type": "markdown",
   "metadata": {},
   "source": [
    "## 0.0 Loading Data\n",
    "\n",
    "Since We are not preprocessing any data we can use the project proposal serie itself."
   ]
  },
  {
   "cell_type": "code",
   "execution_count": 3,
   "metadata": {},
   "outputs": [
    {
     "data": {
      "text/html": [
       "<div>\n",
       "<style scoped>\n",
       "    .dataframe tbody tr th:only-of-type {\n",
       "        vertical-align: middle;\n",
       "    }\n",
       "\n",
       "    .dataframe tbody tr th {\n",
       "        vertical-align: top;\n",
       "    }\n",
       "\n",
       "    .dataframe thead th {\n",
       "        text-align: right;\n",
       "    }\n",
       "</style>\n",
       "<table border=\"1\" class=\"dataframe\">\n",
       "  <thead>\n",
       "    <tr style=\"text-align: right;\">\n",
       "      <th></th>\n",
       "      <th>known_revenue</th>\n",
       "      <th>estimated_revenue</th>\n",
       "    </tr>\n",
       "  </thead>\n",
       "  <tbody>\n",
       "    <tr>\n",
       "      <th>2017-01-31</th>\n",
       "      <td>127482.37</td>\n",
       "      <td>15551.25</td>\n",
       "    </tr>\n",
       "    <tr>\n",
       "      <th>2017-02-28</th>\n",
       "      <td>271239.32</td>\n",
       "      <td>57997.55</td>\n",
       "    </tr>\n",
       "    <tr>\n",
       "      <th>2017-03-31</th>\n",
       "      <td>414330.95</td>\n",
       "      <td>132913.77</td>\n",
       "    </tr>\n",
       "    <tr>\n",
       "      <th>2017-04-30</th>\n",
       "      <td>390812.40</td>\n",
       "      <td>271017.55</td>\n",
       "    </tr>\n",
       "    <tr>\n",
       "      <th>2017-05-31</th>\n",
       "      <td>566851.40</td>\n",
       "      <td>358794.22</td>\n",
       "    </tr>\n",
       "    <tr>\n",
       "      <th>2017-06-30</th>\n",
       "      <td>490050.37</td>\n",
       "      <td>457331.58</td>\n",
       "    </tr>\n",
       "    <tr>\n",
       "      <th>2017-07-31</th>\n",
       "      <td>566299.08</td>\n",
       "      <td>482571.39</td>\n",
       "    </tr>\n",
       "    <tr>\n",
       "      <th>2017-08-31</th>\n",
       "      <td>645832.36</td>\n",
       "      <td>541066.95</td>\n",
       "    </tr>\n",
       "    <tr>\n",
       "      <th>2017-09-30</th>\n",
       "      <td>701077.49</td>\n",
       "      <td>567393.94</td>\n",
       "    </tr>\n",
       "    <tr>\n",
       "      <th>2017-10-31</th>\n",
       "      <td>751117.01</td>\n",
       "      <td>637736.31</td>\n",
       "    </tr>\n",
       "    <tr>\n",
       "      <th>2017-11-30</th>\n",
       "      <td>1153364.20</td>\n",
       "      <td>699342.29</td>\n",
       "    </tr>\n",
       "    <tr>\n",
       "      <th>2017-12-31</th>\n",
       "      <td>843078.29</td>\n",
       "      <td>868519.57</td>\n",
       "    </tr>\n",
       "    <tr>\n",
       "      <th>2018-01-31</th>\n",
       "      <td>1077887.46</td>\n",
       "      <td>915853.17</td>\n",
       "    </tr>\n",
       "    <tr>\n",
       "      <th>2018-02-28</th>\n",
       "      <td>966168.41</td>\n",
       "      <td>1024776.65</td>\n",
       "    </tr>\n",
       "    <tr>\n",
       "      <th>2018-03-31</th>\n",
       "      <td>1120598.24</td>\n",
       "      <td>962378.05</td>\n",
       "    </tr>\n",
       "    <tr>\n",
       "      <th>2018-04-30</th>\n",
       "      <td>1132878.93</td>\n",
       "      <td>1054884.70</td>\n",
       "    </tr>\n",
       "    <tr>\n",
       "      <th>2018-05-31</th>\n",
       "      <td>1128774.52</td>\n",
       "      <td>1047217.12</td>\n",
       "    </tr>\n",
       "    <tr>\n",
       "      <th>2018-06-30</th>\n",
       "      <td>1011978.29</td>\n",
       "      <td>1074233.35</td>\n",
       "    </tr>\n",
       "    <tr>\n",
       "      <th>2018-07-31</th>\n",
       "      <td>1027807.28</td>\n",
       "      <td>1058778.39</td>\n",
       "    </tr>\n",
       "    <tr>\n",
       "      <th>2018-08-31</th>\n",
       "      <td>985491.64</td>\n",
       "      <td>1060076.29</td>\n",
       "    </tr>\n",
       "  </tbody>\n",
       "</table>\n",
       "</div>"
      ],
      "text/plain": [
       "            known_revenue  estimated_revenue\n",
       "2017-01-31      127482.37           15551.25\n",
       "2017-02-28      271239.32           57997.55\n",
       "2017-03-31      414330.95          132913.77\n",
       "2017-04-30      390812.40          271017.55\n",
       "2017-05-31      566851.40          358794.22\n",
       "2017-06-30      490050.37          457331.58\n",
       "2017-07-31      566299.08          482571.39\n",
       "2017-08-31      645832.36          541066.95\n",
       "2017-09-30      701077.49          567393.94\n",
       "2017-10-31      751117.01          637736.31\n",
       "2017-11-30     1153364.20          699342.29\n",
       "2017-12-31      843078.29          868519.57\n",
       "2018-01-31     1077887.46          915853.17\n",
       "2018-02-28      966168.41         1024776.65\n",
       "2018-03-31     1120598.24          962378.05\n",
       "2018-04-30     1132878.93         1054884.70\n",
       "2018-05-31     1128774.52         1047217.12\n",
       "2018-06-30     1011978.29         1074233.35\n",
       "2018-07-31     1027807.28         1058778.39\n",
       "2018-08-31      985491.64         1060076.29"
      ]
     },
     "execution_count": 3,
     "metadata": {},
     "output_type": "execute_result"
    }
   ],
   "source": [
    "df = pd.read_pickle(os.path.join(os.path.join(directory.DATA_DIR, 'sales_forecast_data'), 'olist_2017_forecasts_table_model.pkl'))\n",
    "dates_index = ['2017-01-31', '2017-02-28', '2017-03-31', '2017-04-30',\n",
    "               '2017-05-31', '2017-06-30', '2017-07-31', '2017-08-31',\n",
    "               '2017-09-30', '2017-10-31', '2017-11-30', '2017-12-31',\n",
    "               '2018-01-31', '2018-02-28', '2018-03-31', '2018-04-30',\n",
    "               '2018-05-31', '2018-06-30', '2018-07-31', '2018-08-31']\n",
    "df.index = pd.to_datetime(dates_index)\n",
    "annual_forecast = df.copy()\n",
    "df.round(2)"
   ]
  },
  {
   "cell_type": "markdown",
   "metadata": {},
   "source": [
    "### 0.1 Train and Test Data Frame"
   ]
  },
  {
   "cell_type": "code",
   "execution_count": 4,
   "metadata": {},
   "outputs": [],
   "source": [
    "training_data = df.loc['2017-01-31':'2018-03-31', 'known_revenue']\n",
    "testing_data = df.loc['2018-04-30':'2018-06-30', 'known_revenue']\n",
    "production_data = df.loc['2018-07-31':, 'known_revenue']"
   ]
  },
  {
   "cell_type": "markdown",
   "metadata": {},
   "source": [
    "## 1.0 ARIMA\n",
    "\n",
    "    We beat the baseline. Now We can retrain the model including the \n",
    "    testing data and then forecast the production data expecting an \n",
    "    error of 5.7% above or below the real revenue value."
   ]
  },
  {
   "cell_type": "code",
   "execution_count": 5,
   "metadata": {},
   "outputs": [
    {
     "name": "stdout",
     "output_type": "stream",
     "text": [
      "2nd Quarter of 2018\n",
      "On average, our predictions are 5.7% above or below the real value.\n",
      "Which means an error of about R$ 64,127.08\n"
     ]
    },
    {
     "data": {
      "text/plain": [
       "(64127.08, 5.7032082465927845)"
      ]
     },
     "execution_count": 5,
     "metadata": {},
     "output_type": "execute_result"
    }
   ],
   "source": [
    "model = ARIMA(training_data.values, order=(2,0,0)).fit()\n",
    "test_predictions = model.forecast(3)\n",
    "\n",
    "evaluation(testing_data, test_predictions, \"2nd Quarter of 2018\")"
   ]
  },
  {
   "cell_type": "code",
   "execution_count": 6,
   "metadata": {},
   "outputs": [],
   "source": [
    "# print(model.summary())"
   ]
  },
  {
   "cell_type": "markdown",
   "metadata": {},
   "source": [
    "## 2.0 Final Model"
   ]
  },
  {
   "cell_type": "code",
   "execution_count": 7,
   "metadata": {},
   "outputs": [],
   "source": [
    "x_train = df.loc['2017-01-31':'2018-06-30', 'known_revenue']"
   ]
  },
  {
   "cell_type": "code",
   "execution_count": 8,
   "metadata": {},
   "outputs": [
    {
     "name": "stdout",
     "output_type": "stream",
     "text": [
      "3rd Quarter of 2018\n",
      "On average, our predictions are 3.18% above or below the real value.\n",
      "Which means an error of about R$ 31,915.91\n"
     ]
    },
    {
     "data": {
      "text/plain": [
       "(31915.91, 3.1836173098377953)"
      ]
     },
     "execution_count": 8,
     "metadata": {},
     "output_type": "execute_result"
    }
   ],
   "source": [
    "model = ARIMA(x_train.values, order=(2,0,0)).fit()\n",
    "predictions = model.forecast(2)\n",
    "\n",
    "evaluation(production_data, predictions, \"3rd Quarter of 2018\")"
   ]
  },
  {
   "cell_type": "markdown",
   "metadata": {},
   "source": [
    "## 3.0 Results\n",
    "\n",
    "**We would have done great! Arima's Forecast would have an error lower than the moving average predictions.**"
   ]
  },
  {
   "cell_type": "code",
   "execution_count": 9,
   "metadata": {},
   "outputs": [
    {
     "name": "stdout",
     "output_type": "stream",
     "text": [
      "Moving Average Error\n",
      "On average, our predictions are 5.29% above or below the real value.\n",
      "Which means an error of about R$ 52,777.88\n"
     ]
    }
   ],
   "source": [
    "evaluation(production_data, df.loc['2018-07-31':, \"estimated_revenue\"], \"Moving Average Error\");"
   ]
  },
  {
   "cell_type": "markdown",
   "metadata": {},
   "source": [
    "## 4.0 Storytelling"
   ]
  },
  {
   "cell_type": "code",
   "execution_count": 10,
   "metadata": {},
   "outputs": [],
   "source": [
    "df['arima_forecast'] = np.concatenate( ( np.zeros(df['known_revenue'][:-5].shape), test_predictions, predictions ) )\n",
    "df.loc[:'2018-03-31', 'arima_forecast'] = np.nan"
   ]
  },
  {
   "cell_type": "markdown",
   "metadata": {},
   "source": [
    "**In the beginning of this project, Olist moving average predictive model has been showing large errors, even though it was getting lower.**"
   ]
  },
  {
   "cell_type": "code",
   "execution_count": 11,
   "metadata": {},
   "outputs": [],
   "source": [
    "initial_environment = df.copy()\n",
    "initial_environment['error'] = initial_environment['known_revenue'] - initial_environment['estimated_revenue']\n",
    "# initial_environment.index"
   ]
  },
  {
   "cell_type": "code",
   "execution_count": 12,
   "metadata": {},
   "outputs": [
    {
     "name": "stdout",
     "output_type": "stream",
     "text": [
      "1st Quarter of 2017\n",
      "On average, our predictions are 78.11% above or below the real value.\n",
      "Which means an error of about R$ 202,196.69\n",
      "\n",
      "2nd Quarter of 2017\n",
      "On average, our predictions are 24.68% above or below the real value.\n",
      "Which means an error of about R$ 120,190.27\n",
      "\n",
      "3rd Quarter of 2017\n",
      "On average, our predictions are 16.69% above or below the real value.\n",
      "Which means an error of about R$ 107,392.22\n",
      "\n",
      "4th Quarter of 2017\n",
      "On average, our predictions are 19.16% above or below the real value.\n",
      "Which means an error of about R$ 197,614.63\n",
      "\n",
      "\n",
      "1st Quarter of 2018\n",
      "On average, our predictions are 11.74% above or below the real value.\n",
      "Which means an error of about R$ 126,287.57\n",
      "\n",
      "2nd Quarter of 2018\n",
      "On average, our predictions are 6.75% above or below the real value.\n",
      "Which means an error of about R$ 73,935.56\n"
     ]
    }
   ],
   "source": [
    "q1 = initial_environment.loc[['2017-01-31', '2017-02-28', '2017-03-31']]\n",
    "q2 = initial_environment.loc[['2017-04-30', '2017-05-31', '2017-06-30']]\n",
    "q3 = initial_environment.loc[['2017-07-31', '2017-08-31', '2017-09-30']]\n",
    "q4 = initial_environment.loc[['2017-10-31', '2017-11-30', '2017-12-31']]\n",
    "\n",
    "evaluation(q1['known_revenue'], q1['estimated_revenue'], \"1st Quarter of 2017\")\n",
    "evaluation(q2['known_revenue'], q2['estimated_revenue'], \"\\n2nd Quarter of 2017\")\n",
    "evaluation(q3['known_revenue'], q3['estimated_revenue'], \"\\n3rd Quarter of 2017\")\n",
    "evaluation(q4['known_revenue'], q4['estimated_revenue'], \"\\n4th Quarter of 2017\")\n",
    "\n",
    "q1 = initial_environment.loc[['2018-01-31', '2018-02-28', '2018-03-31']]\n",
    "q2 = initial_environment.loc[['2018-04-30', '2018-05-31', '2018-06-30']]\n",
    "evaluation(q1['known_revenue'], q1['estimated_revenue'], \"\\n\\n1st Quarter of 2018\")\n",
    "evaluation(q2['known_revenue'], q2['estimated_revenue'], \"\\n2nd Quarter of 2018\");"
   ]
  },
  {
   "cell_type": "markdown",
   "metadata": {},
   "source": [
    "**For the next Quarter, Olist needs a model with an error lower than 6.75%.**"
   ]
  },
  {
   "cell_type": "code",
   "execution_count": 13,
   "metadata": {},
   "outputs": [
    {
     "data": {
      "image/png": "[encoded data removed]",
      "text/plain": [
       "<Figure size 1080x360 with 1 Axes>"
      ]
     },
     "metadata": {
      "needs_background": "light"
     },
     "output_type": "display_data"
    }
   ],
   "source": [
    "aux = initial_environment.drop(pd.to_datetime(['2018-07-31', '2018-08-31']))\n",
    "x = '2018-06-30'\n",
    "plt.box(False)\n",
    "aux['estimated_revenue'].plot(figsize=(15,5), color=['grey'], linewidth=2);\n",
    "ax = aux['known_revenue'].plot(color=['#1f77b4'], linewidth=2);\n",
    "aux['error'].plot(color=['lightgrey'], linewidth=2);\n",
    "plt.text(x=x, y=940000, s=\"Revenue\", color='#1f77b4', size=14, weight='bold')\n",
    "plt.text(x=x, y=1100000, s=\"Moving Average\\nPrediction\", color='grey', size=14, weight='bold')\n",
    "plt.text(x=x, y=-50000, s=\"Error\", color='grey', size=14)\n",
    "plt.tick_params(axis='y', length=0)\n",
    "plt.grid(axis='x', which='both', linewidth=.25)\n",
    "plt.ticklabel_format(axis=\"y\", style=\"plain\")\n",
    "ax.yaxis.set_major_formatter('R$ {x:,.0f}')\n",
    "plt.show()"
   ]
  },
  {
   "cell_type": "markdown",
   "metadata": {},
   "source": [
    "**The Project was successful, since We could deacrease the error when predicting the sales from second quarter of 2018. Now, Olist can forecast the 3rd quarter expecting an error of 5.7% above or below the real revenue value, instead of 6.7%.**\n",
    "\n",
    "**And... Yes, after two months of trial the arima model has been showing to be a more accurate model.**"
   ]
  },
  {
   "cell_type": "code",
   "execution_count": 14,
   "metadata": {},
   "outputs": [],
   "source": [
    "known_revenue = df['known_revenue']\n",
    "arima_forecast = known_revenue.copy()\n",
    "arima_forecast.loc['2018-04-30':'2018-09-30'] = df.loc['2018-04-30':'2018-09-30', 'arima_forecast']\n",
    "estimated_revenue = known_revenue.copy()\n",
    "estimated_revenue.loc['2018-04-30':'2018-09-30'] = df.loc['2018-04-30':'2018-09-30', 'estimated_revenue']"
   ]
  },
  {
   "cell_type": "code",
   "execution_count": 15,
   "metadata": {},
   "outputs": [
    {
     "data": {
      "image/png": "[encoded data removed]",
      "text/plain": [
       "<Figure size 1080x360 with 1 Axes>"
      ]
     },
     "metadata": {
      "needs_background": "light"
     },
     "output_type": "display_data"
    }
   ],
   "source": [
    "x = '2018-08-31'\n",
    "plt.box(False)\n",
    "estimated_revenue.plot(color='lightgrey', label='estimated_revenue', linewidth=2)\n",
    "arima_forecast.plot(color='#ff7f0e', label='arima_forecast', linewidth=2)\n",
    "ax = known_revenue.plot(figsize=(15,5), color = '#1f77b4', label='known_revenue', linewidth=2)\n",
    "plt.text(x=x , y=1100000, s=\"Moving Average\", color='grey', size=12)\n",
    "plt.text(x=x , y=1010000, s=\"Arima Forecast\", color='#ff7f0e', size=14,  weight='bold')\n",
    "plt.text(x=x , y=930000, s=\"Revenue\", color='#1f77b4', size=12,  weight='bold')\n",
    "\n",
    "plt.tick_params(axis='y', length=0)\n",
    "plt.grid(axis='x', which='both', linewidth=.25)\n",
    "plt.ticklabel_format(axis=\"y\", style=\"plain\")\n",
    "ax.yaxis.set_major_formatter('R$ {x:,.0f}')\n",
    "plt.show()"
   ]
  },
  {
   "cell_type": "markdown",
   "metadata": {},
   "source": [
    "**So, now, Olist can forecast 3 months ahead instead of 1 and more accurately than it has been doing.**"
   ]
  }
 ],
 "metadata": {
  "kernelspec": {
   "display_name": "Python 3",
   "language": "python",
   "name": "python3"
  },
  "language_info": {
   "codemirror_mode": {
    "name": "ipython",
    "version": 3
   },
   "file_extension": ".py",
   "mimetype": "text/x-python",
   "name": "python",
   "nbconvert_exporter": "python",
   "pygments_lexer": "ipython3",
   "version": "3.8.5"
  }
 },
 "nbformat": 4,
 "nbformat_minor": 4
}
