{
 "cells": [
  {
   "cell_type": "markdown",
   "metadata": {},
   "source": [
    "[Forecasting: Principles and Practice](https://otexts.com/fpp2/)\n",
    "\n",
    "## Agenda\n",
    "\n",
    "[0.0 Loading Data](#0.0-Loading-Data)<br>\n",
    "\n",
    "[1.0 Decomposition](#1.0-Decomposition)<br>\n",
    "\n",
    "[2.0 Stationarity](#2.0-Stationarity)<br>\n",
    "\n",
    "[3.0 Autocorrelation](#3.0-Autocorrelation)<br>\n",
    "\n",
    "[4.0 Partial Autocorrelation](#4.0-Partial-Autocorrelation)<br>\n",
    "\n",
    "\n",
    "[5.0 ARIMA](#5.0-ARIMA)<br>\n",
    "&nbsp;[5.1 Train Test Split](#5.1-Train-Test-Split)<br>\n",
    "&nbsp;[5.2 Finding Best P, D, Q](#5.2-Finding-Best-P,-D,-Q)<br>\n",
    "\n",
    "[6.0 Modeling](#6.0-Modeling)<br>\n",
    "&nbsp;[6.1 Modeling by Best pdq](#6.1-Modeling-by-Best-pdq)<br>\n",
    "\n",
    "[7.0 Final Model](#7.0-Final-Model)<br>\n",
    "\n",
    "[8.0 Results on Total Olist Sales](#8.0-Results-on-Total-Olist-Sales)\n",
    "\n",
    "[9.0 Deploy Model to Production](#9.0-Deploy-Model-to-Production)<br>\n",
    "&nbsp;[9.1 Save Model](#9.1-Save-Model)<br>\n",
    "&nbsp;[9.2 OlistSales Class](#9.2-OlistSales-Class)<br>"
   ]
  },
  {
   "cell_type": "code",
   "execution_count": 238,
   "metadata": {},
   "outputs": [],
   "source": [
    "from notebook_utils.utils import *\n",
    "from notebook_utils.ml_utils import *\n",
    "\n",
    "import os \n",
    "import pandas as pd\n",
    "import numpy as np\n",
    "import matplotlib.pyplot as plt\n",
    "\n",
    "from statsmodels.tsa.seasonal import seasonal_decompose\n",
    "from statsmodels.tsa.stattools import pacf, acf\n",
    "from statsmodels.graphics.tsaplots import plot_acf, plot_pacf\n",
    "from statsmodels.tsa.stattools import adfuller\n",
    "\n",
    "from statsmodels.tsa.arima.model import ARIMA\n",
    "from statsmodels.tsa.api import VAR\n",
    "\n",
    "import itertools\n",
    "import warnings\n",
    "\n",
    "from sklearn.metrics import mean_squared_error\n",
    "\n",
    "import joblib"
   ]
  },
  {
   "cell_type": "code",
   "execution_count": 2,
   "metadata": {},
   "outputs": [],
   "source": [
    "directory = Directory(\"1.5-pr-regional-sales-prediction\")"
   ]
  },
  {
   "cell_type": "code",
   "execution_count": 3,
   "metadata": {},
   "outputs": [],
   "source": [
    "def index_to_date(data_frame):\n",
    "    data_frame.index = pd.to_datetime(data_frame.index)\n",
    "    data_frame.index.name = 'date'\n",
    "    return data_frame\n",
    "\n",
    "def fig(x=15, y=5):\n",
    "    plt.rcParams['figure.figsize'] = (x, y)\n",
    "    \n",
    "def train_test_split(df):\n",
    "    training_data = df.loc['2017-01-31':'2018-03-31', 'revenue']\n",
    "    testing_data = df.loc['2018-04-30':'2018-06-30', 'revenue']\n",
    "    production_data = df.loc['2018-07-31':, 'revenue']\n",
    "    final_training_data = df.loc['2017-01-31':'2018-06-30', 'revenue']\n",
    "    \n",
    "    return training_data, testing_data, production_data, final_training_data\n",
    "\n",
    "def train_test(training_data, testing_data, p, d, q, return_model=False, forecast=3, evaluate=True,\n",
    "               evaluate_in=\"2nd Quarter of 2018\"):\n",
    "    model = ARIMA(training_data.values, order=(p, d, q)).fit()\n",
    "    if evaluate:\n",
    "        evaluation(testing_data, model.forecast(forecast), evaluate_in)\n",
    "    if return_model: return model\n",
    "\n",
    "def find_best_pdq(training_data, testing_data,\n",
    "                  p_range=range(0, 8), d_range=range(0, 2), q_range=range(0, 8),\n",
    "                  max_combinations=128, sort_values_by='rmse'):\n",
    "    with warnings.catch_warnings():\n",
    "        warnings.simplefilter(\"ignore\")\n",
    "\n",
    "        p, d, q = p_range, d_range, q_range\n",
    "        pdq_combination = list(itertools.product(p,d,q)) # 128 combinations\n",
    "        rmse = []\n",
    "        mae = []\n",
    "        mape = []\n",
    "        pdq_as_index = []\n",
    "\n",
    "        for pdq in pdq_combination[:max_combinations]:\n",
    "            try:\n",
    "                model = ARIMA(training_data.values, order=(pdq)).fit()\n",
    "                predictions = model.forecast(len(testing_data))\n",
    "                rmse_value = np.sqrt(mean_squared_error(testing_data, predictions))\n",
    "                mae_value = mean_absolute_error(testing_data, predictions)\n",
    "                mape_value = mean_absolute_percentage_error(testing_data, predictions)\n",
    "                pdq_as_index.append(pdq)\n",
    "                rmse.append(rmse_value)\n",
    "                mae.append(mae_value)\n",
    "                mape.append(mape_value)\n",
    "            except:\n",
    "                continue\n",
    "                                \n",
    "    return pd.DataFrame(data={'rmse': rmse, 'mae':mae, 'mape':mape},\n",
    "                        index=pd.Series(pdq_as_index, name='pdq')).sort_values(sort_values_by)\n",
    "\n"
   ]
  },
  {
   "cell_type": "markdown",
   "metadata": {},
   "source": [
    "## 0.0 Loading Data"
   ]
  },
  {
   "cell_type": "code",
   "execution_count": 4,
   "metadata": {},
   "outputs": [
    {
     "data": {
      "text/html": [
       "<div>\n",
       "<style scoped>\n",
       "    .dataframe tbody tr th:only-of-type {\n",
       "        vertical-align: middle;\n",
       "    }\n",
       "\n",
       "    .dataframe tbody tr th {\n",
       "        vertical-align: top;\n",
       "    }\n",
       "\n",
       "    .dataframe thead th {\n",
       "        text-align: right;\n",
       "    }\n",
       "</style>\n",
       "<table border=\"1\" class=\"dataframe\">\n",
       "  <thead>\n",
       "    <tr style=\"text-align: right;\">\n",
       "      <th></th>\n",
       "      <th></th>\n",
       "      <th>revenue</th>\n",
       "    </tr>\n",
       "    <tr>\n",
       "      <th>region</th>\n",
       "      <th>order_purchase_timestamp</th>\n",
       "      <th></th>\n",
       "    </tr>\n",
       "  </thead>\n",
       "  <tbody>\n",
       "    <tr>\n",
       "      <th rowspan=\"5\" valign=\"top\">midwest</th>\n",
       "      <th>2017-01-12</th>\n",
       "      <td>366.26</td>\n",
       "    </tr>\n",
       "    <tr>\n",
       "      <th>2017-01-13</th>\n",
       "      <td>149.62</td>\n",
       "    </tr>\n",
       "    <tr>\n",
       "      <th>2017-01-14</th>\n",
       "      <td>217.90</td>\n",
       "    </tr>\n",
       "    <tr>\n",
       "      <th>2017-01-15</th>\n",
       "      <td>54.95</td>\n",
       "    </tr>\n",
       "    <tr>\n",
       "      <th>2017-01-16</th>\n",
       "      <td>327.40</td>\n",
       "    </tr>\n",
       "  </tbody>\n",
       "</table>\n",
       "</div>"
      ],
      "text/plain": [
       "                                  revenue\n",
       "region  order_purchase_timestamp         \n",
       "midwest 2017-01-12                 366.26\n",
       "        2017-01-13                 149.62\n",
       "        2017-01-14                 217.90\n",
       "        2017-01-15                  54.95\n",
       "        2017-01-16                 327.40"
      ]
     },
     "execution_count": 4,
     "metadata": {},
     "output_type": "execute_result"
    }
   ],
   "source": [
    "data_frame_to_process = pd.read_pickle(os.path.join(os.path.join(directory.DATA_DIR, \"sales_forecast_data\"),\n",
    "                                                    \"ml_data_to_preprocess.pkl\"))\n",
    "data_frame_to_process['revenue'] = data_frame_to_process['freight_value'] + data_frame_to_process['price']\n",
    "df = data_frame_to_process.groupby([data_frame_to_process['region'],\n",
    "                                    data_frame_to_process['order_purchase_timestamp'].dt.date])[['revenue']].sum()\n",
    "df.head()"
   ]
  },
  {
   "cell_type": "code",
   "execution_count": 5,
   "metadata": {},
   "outputs": [],
   "source": [
    "# df.index.get_level_values('region').unique()"
   ]
  },
  {
   "cell_type": "code",
   "execution_count": 6,
   "metadata": {},
   "outputs": [],
   "source": [
    "midwest = index_to_date(df.loc['midwest']).resample(\"M\").sum()\n",
    "north = index_to_date(df.loc['north']).resample(\"M\").sum()\n",
    "northeast = index_to_date(df.loc['northeast']).resample(\"M\").sum()\n",
    "south = index_to_date(df.loc['south']).resample(\"M\").sum()\n",
    "southeast = index_to_date(df.loc['southeast']).resample(\"M\").sum()\n",
    "\n",
    "regions = {\n",
    "    'midwest':midwest,\n",
    "    'north':north,\n",
    "    'northeast':northeast,\n",
    "    'south':south,\n",
    "    'southeast':southeast\n",
    "}"
   ]
  },
  {
   "cell_type": "markdown",
   "metadata": {},
   "source": [
    "## 1.0 Decomposition"
   ]
  },
  {
   "cell_type": "code",
   "execution_count": 7,
   "metadata": {},
   "outputs": [],
   "source": [
    "fig(15, 9)"
   ]
  },
  {
   "cell_type": "code",
   "execution_count": 8,
   "metadata": {},
   "outputs": [
    {
     "data": {
      "image/png": "[encoded data removed]",
      "text/plain": [
       "<Figure size 1080x648 with 4 Axes>"
      ]
     },
     "metadata": {
      "needs_background": "light"
     },
     "output_type": "display_data"
    }
   ],
   "source": [
    "# Regions are pretty similar\n",
    "seasonal_decompose(regions['north'], period=1).plot()\n",
    "plt.show()"
   ]
  },
  {
   "cell_type": "markdown",
   "metadata": {},
   "source": [
    "## 2.0 Stationarity"
   ]
  },
  {
   "cell_type": "code",
   "execution_count": 9,
   "metadata": {},
   "outputs": [
    {
     "name": "stdout",
     "output_type": "stream",
     "text": [
      "     midwest\n",
      "p-value: 0.234520\n",
      "Stationary: False\n",
      "\n",
      "     north\n",
      "p-value: 0.042303\n",
      "Stationary: True\n",
      "\n",
      "     northeast\n",
      "p-value: 0.254943\n",
      "Stationary: False\n",
      "\n",
      "     south\n",
      "p-value: 0.259500\n",
      "Stationary: False\n",
      "\n",
      "     southeast\n",
      "p-value: 0.241518\n",
      "Stationary: False\n",
      "\n"
     ]
    }
   ],
   "source": [
    "for region in regions.keys():\n",
    "    result = adfuller(regions[region])\n",
    "    print(\"    \",region)\n",
    "    print('p-value: %f' % result[1])\n",
    "    print('Stationary:', (result[1] <= 0.05))\n",
    "    print()"
   ]
  },
  {
   "cell_type": "markdown",
   "metadata": {},
   "source": [
    "## 3.0 Autocorrelation\n",
    "\n",
    "        'midwest': 2,\n",
    "        'north': 0,\n",
    "        'northeast': 1,\n",
    "        'south': 2,\n",
    "        'southeast': 2"
   ]
  },
  {
   "cell_type": "code",
   "execution_count": 10,
   "metadata": {},
   "outputs": [],
   "source": [
    "fig(15, 4)"
   ]
  },
  {
   "cell_type": "code",
   "execution_count": 11,
   "metadata": {},
   "outputs": [
    {
     "name": "stdout",
     "output_type": "stream",
     "text": [
      "                                                        MIDWEST:\n"
     ]
    },
    {
     "data": {
      "image/png": "[encoded data removed]",
      "text/plain": [
       "<Figure size 1080x288 with 1 Axes>"
      ]
     },
     "metadata": {
      "needs_background": "light"
     },
     "output_type": "display_data"
    },
    {
     "name": "stdout",
     "output_type": "stream",
     "text": [
      "                                                        NORTH:\n"
     ]
    },
    {
     "data": {
      "image/png": "[encoded data removed]",
      "text/plain": [
       "<Figure size 1080x288 with 1 Axes>"
      ]
     },
     "metadata": {
      "needs_background": "light"
     },
     "output_type": "display_data"
    },
    {
     "name": "stdout",
     "output_type": "stream",
     "text": [
      "                                                        NORTHEAST:\n"
     ]
    },
    {
     "data": {
      "image/png": "[encoded data removed]",
      "text/plain": [
       "<Figure size 1080x288 with 1 Axes>"
      ]
     },
     "metadata": {
      "needs_background": "light"
     },
     "output_type": "display_data"
    },
    {
     "name": "stdout",
     "output_type": "stream",
     "text": [
      "                                                        SOUTH:\n"
     ]
    },
    {
     "data": {
      "image/png": "[encoded data removed]",
      "text/plain": [
       "<Figure size 1080x288 with 1 Axes>"
      ]
     },
     "metadata": {
      "needs_background": "light"
     },
     "output_type": "display_data"
    },
    {
     "name": "stdout",
     "output_type": "stream",
     "text": [
      "                                                        SOUTHEAST:\n"
     ]
    },
    {
     "data": {
      "image/png": "[encoded data removed]",
      "text/plain": [
       "<Figure size 1080x288 with 1 Axes>"
      ]
     },
     "metadata": {
      "needs_background": "light"
     },
     "output_type": "display_data"
    }
   ],
   "source": [
    "for region in regions.keys():\n",
    "    print(\" \"*55, region.upper() + \":\")\n",
    "    plot_acf(regions[region], alpha = 0.05);\n",
    "    plt.show()"
   ]
  },
  {
   "cell_type": "markdown",
   "metadata": {},
   "source": [
    "## 4.0 Partial Autocorrelation\n",
    "\n",
    "        'midwest': 1,\n",
    "        'north': 0,\n",
    "        'northeast': 1,\n",
    "        'south': 1,\n",
    "        'southeast': 1 "
   ]
  },
  {
   "cell_type": "code",
   "execution_count": 12,
   "metadata": {},
   "outputs": [
    {
     "name": "stdout",
     "output_type": "stream",
     "text": [
      "                                                        MIDWEST:\n"
     ]
    },
    {
     "data": {
      "image/png": "[encoded data removed]",
      "text/plain": [
       "<Figure size 1080x288 with 1 Axes>"
      ]
     },
     "metadata": {
      "needs_background": "light"
     },
     "output_type": "display_data"
    },
    {
     "name": "stdout",
     "output_type": "stream",
     "text": [
      "                                                        NORTH:\n"
     ]
    },
    {
     "data": {
      "image/png": "[encoded data removed]",
      "text/plain": [
       "<Figure size 1080x288 with 1 Axes>"
      ]
     },
     "metadata": {
      "needs_background": "light"
     },
     "output_type": "display_data"
    },
    {
     "name": "stdout",
     "output_type": "stream",
     "text": [
      "                                                        NORTHEAST:\n"
     ]
    },
    {
     "data": {
      "image/png": "[encoded data removed]",
      "text/plain": [
       "<Figure size 1080x288 with 1 Axes>"
      ]
     },
     "metadata": {
      "needs_background": "light"
     },
     "output_type": "display_data"
    },
    {
     "name": "stdout",
     "output_type": "stream",
     "text": [
      "                                                        SOUTH:\n"
     ]
    },
    {
     "data": {
      "image/png": "[encoded data removed]",
      "text/plain": [
       "<Figure size 1080x288 with 1 Axes>"
      ]
     },
     "metadata": {
      "needs_background": "light"
     },
     "output_type": "display_data"
    },
    {
     "name": "stdout",
     "output_type": "stream",
     "text": [
      "                                                        SOUTHEAST:\n"
     ]
    },
    {
     "data": {
      "image/png": "[encoded data removed]",
      "text/plain": [
       "<Figure size 1080x288 with 1 Axes>"
      ]
     },
     "metadata": {
      "needs_background": "light"
     },
     "output_type": "display_data"
    }
   ],
   "source": [
    "for region in regions.keys():\n",
    "    print(\" \"*55, region.upper() + \":\")\n",
    "    plot_pacf(regions[region], lags=9, alpha = 0.05);\n",
    "    plt.show()"
   ]
  },
  {
   "cell_type": "markdown",
   "metadata": {},
   "source": [
    "## 5.0 ARIMA"
   ]
  },
  {
   "cell_type": "markdown",
   "metadata": {},
   "source": [
    "### 5.1 Train Test Split"
   ]
  },
  {
   "cell_type": "code",
   "execution_count": 13,
   "metadata": {},
   "outputs": [],
   "source": [
    "midwest_train,   midwest_test,   midwest_production,   midwest_final_training   = train_test_split(midwest)\n",
    "north_train,     north_test,     north_production,     north_final_training     = train_test_split(north)\n",
    "northeast_train, northeast_test, northeast_production, northeast_final_training = train_test_split(northeast)\n",
    "south_train,     south_test,     south_production,     south_final_training     = train_test_split(south)\n",
    "southeast_train, southeast_test, southeast_production, southeast_final_training = train_test_split(southeast)"
   ]
  },
  {
   "cell_type": "markdown",
   "metadata": {},
   "source": [
    "### 5.2 Finding Best P, D, Q"
   ]
  },
  {
   "cell_type": "code",
   "execution_count": 14,
   "metadata": {},
   "outputs": [],
   "source": [
    "midwest_pdq_parameters   = find_best_pdq( midwest_train,   midwest_test, sort_values_by='mape')\n",
    "north_pdq_parameters     = find_best_pdq( north_train,     north_test, sort_values_by='mape')\n",
    "northeast_pdq_parameters = find_best_pdq( northeast_train, northeast_test, sort_values_by='mape')\n",
    "south_pdq_parameters     = find_best_pdq( south_train,     south_test, sort_values_by='mape')\n",
    "southeast_pdq_parameters = find_best_pdq( southeast_train, southeast_test, sort_values_by='mape')"
   ]
  },
  {
   "cell_type": "markdown",
   "metadata": {},
   "source": [
    "## 6.0 Modeling\n",
    "        \n",
    "        Autocorrelation\n",
    "            'midwest': 2,\n",
    "            'north': 0,\n",
    "            'northeast': 1,\n",
    "            'south': 2,\n",
    "            'southeast': 2\n",
    "       \n",
    "        Partial Autocorrelation:\n",
    "            'midwest': 1,\n",
    "            'north': 0,\n",
    "            'northeast': 1,\n",
    "            'south': 1,\n",
    "            'southeast': 1 \n",
    "            \n",
    "        north is stationary else is not"
   ]
  },
  {
   "cell_type": "code",
   "execution_count": 15,
   "metadata": {},
   "outputs": [
    {
     "name": "stdout",
     "output_type": "stream",
     "text": [
      "midwest\n",
      "2nd Quarter of 2018\n",
      "On average, our predictions are 14.13% above or below the real value.\n",
      "Which means an error of about R$ 9,556.43\n",
      "\n",
      "north\n",
      "2nd Quarter of 2018\n",
      "On average, our predictions are 19.87% above or below the real value.\n",
      "Which means an error of about R$ 4,841.40\n",
      "\n",
      "northeast\n"
     ]
    },
    {
     "name": "stderr",
     "output_type": "stream",
     "text": [
      "C:\\Users\\WALDENIO_NOT\\anaconda3\\lib\\site-packages\\statsmodels\\tsa\\statespace\\sarimax.py:965: UserWarning: Non-stationary starting autoregressive parameters found. Using zeros as starting parameters.\n",
      "  warn('Non-stationary starting autoregressive parameters'\n",
      "C:\\Users\\WALDENIO_NOT\\anaconda3\\lib\\site-packages\\statsmodels\\tsa\\statespace\\sarimax.py:977: UserWarning: Non-invertible starting MA parameters found. Using zeros as starting parameters.\n",
      "  warn('Non-invertible starting MA parameters found.'\n"
     ]
    },
    {
     "name": "stdout",
     "output_type": "stream",
     "text": [
      "2nd Quarter of 2018\n",
      "On average, our predictions are 10.44% above or below the real value.\n",
      "Which means an error of about R$ 11,211.44\n",
      "\n",
      "south\n",
      "2nd Quarter of 2018\n",
      "On average, our predictions are 19.75% above or below the real value.\n",
      "Which means an error of about R$ 30,398.81\n",
      "\n",
      "southeast\n",
      "2nd Quarter of 2018\n",
      "On average, our predictions are 8.41% above or below the real value.\n",
      "Which means an error of about R$ 56,411.25\n"
     ]
    },
    {
     "name": "stderr",
     "output_type": "stream",
     "text": [
      "C:\\Users\\WALDENIO_NOT\\anaconda3\\lib\\site-packages\\statsmodels\\tsa\\statespace\\sarimax.py:965: UserWarning: Non-stationary starting autoregressive parameters found. Using zeros as starting parameters.\n",
      "  warn('Non-stationary starting autoregressive parameters'\n",
      "C:\\Users\\WALDENIO_NOT\\anaconda3\\lib\\site-packages\\statsmodels\\tsa\\statespace\\sarimax.py:977: UserWarning: Non-invertible starting MA parameters found. Using zeros as starting parameters.\n",
      "  warn('Non-invertible starting MA parameters found.'\n"
     ]
    }
   ],
   "source": [
    "print(\"midwest\")\n",
    "train_test(midwest_train, midwest_test, p=2, d=1, q=1)\n",
    "print(\"\\nnorth\")\n",
    "train_test(north_train, north_test, p=0, d=0, q=0)\n",
    "print(\"\\nnortheast\")\n",
    "train_test(northeast_train, northeast_test, p=1, d=1, q=1)\n",
    "print(\"\\nsouth\")\n",
    "train_test(south_train, south_test, p=2, d=1, q=1)\n",
    "print(\"\\nsoutheast\")\n",
    "train_test(southeast_train, southeast_test, p=2, d=1, q=1)"
   ]
  },
  {
   "cell_type": "markdown",
   "metadata": {},
   "source": [
    "### 6.1 Modeling by Best pdq"
   ]
  },
  {
   "cell_type": "code",
   "execution_count": 16,
   "metadata": {},
   "outputs": [
    {
     "data": {
      "text/html": [
       "<div>\n",
       "<style scoped>\n",
       "    .dataframe tbody tr th:only-of-type {\n",
       "        vertical-align: middle;\n",
       "    }\n",
       "\n",
       "    .dataframe tbody tr th {\n",
       "        vertical-align: top;\n",
       "    }\n",
       "\n",
       "    .dataframe thead th {\n",
       "        text-align: right;\n",
       "    }\n",
       "</style>\n",
       "<table border=\"1\" class=\"dataframe\">\n",
       "  <thead>\n",
       "    <tr style=\"text-align: right;\">\n",
       "      <th>pdq</th>\n",
       "      <th>(5, 1, 2)</th>\n",
       "      <th>(6, 1, 1)</th>\n",
       "      <th>(4, 1, 5)</th>\n",
       "      <th>(5, 1, 5)</th>\n",
       "      <th>(7, 1, 3)</th>\n",
       "      <th>(5, 1, 7)</th>\n",
       "      <th>(5, 1, 1)</th>\n",
       "      <th>(6, 1, 5)</th>\n",
       "      <th>(4, 1, 0)</th>\n",
       "      <th>(6, 1, 7)</th>\n",
       "    </tr>\n",
       "  </thead>\n",
       "  <tbody>\n",
       "    <tr>\n",
       "      <th>rmse</th>\n",
       "      <td>4096.852953</td>\n",
       "      <td>3600.393585</td>\n",
       "      <td>3533.543860</td>\n",
       "      <td>3486.924702</td>\n",
       "      <td>4981.851509</td>\n",
       "      <td>4005.608297</td>\n",
       "      <td>5718.217550</td>\n",
       "      <td>4891.256156</td>\n",
       "      <td>8663.276897</td>\n",
       "      <td>5422.434874</td>\n",
       "    </tr>\n",
       "    <tr>\n",
       "      <th>mae</th>\n",
       "      <td>3170.195391</td>\n",
       "      <td>3349.316530</td>\n",
       "      <td>3471.956246</td>\n",
       "      <td>3469.935128</td>\n",
       "      <td>3653.009744</td>\n",
       "      <td>3827.776130</td>\n",
       "      <td>4590.291370</td>\n",
       "      <td>4276.272329</td>\n",
       "      <td>5537.846817</td>\n",
       "      <td>4450.661465</td>\n",
       "    </tr>\n",
       "    <tr>\n",
       "      <th>mape</th>\n",
       "      <td>0.042685</td>\n",
       "      <td>0.048715</td>\n",
       "      <td>0.050968</td>\n",
       "      <td>0.051082</td>\n",
       "      <td>0.055828</td>\n",
       "      <td>0.058536</td>\n",
       "      <td>0.062105</td>\n",
       "      <td>0.067301</td>\n",
       "      <td>0.070456</td>\n",
       "      <td>0.071083</td>\n",
       "    </tr>\n",
       "  </tbody>\n",
       "</table>\n",
       "</div>"
      ],
      "text/plain": [
       "pdq     (5, 1, 2)    (6, 1, 1)    (4, 1, 5)    (5, 1, 5)    (7, 1, 3)  \\\n",
       "rmse  4096.852953  3600.393585  3533.543860  3486.924702  4981.851509   \n",
       "mae   3170.195391  3349.316530  3471.956246  3469.935128  3653.009744   \n",
       "mape     0.042685     0.048715     0.050968     0.051082     0.055828   \n",
       "\n",
       "pdq     (5, 1, 7)    (5, 1, 1)    (6, 1, 5)    (4, 1, 0)    (6, 1, 7)  \n",
       "rmse  4005.608297  5718.217550  4891.256156  8663.276897  5422.434874  \n",
       "mae   3827.776130  4590.291370  4276.272329  5537.846817  4450.661465  \n",
       "mape     0.058536     0.062105     0.067301     0.070456     0.071083  "
      ]
     },
     "metadata": {},
     "output_type": "display_data"
    },
    {
     "data": {
      "text/html": [
       "<div>\n",
       "<style scoped>\n",
       "    .dataframe tbody tr th:only-of-type {\n",
       "        vertical-align: middle;\n",
       "    }\n",
       "\n",
       "    .dataframe tbody tr th {\n",
       "        vertical-align: top;\n",
       "    }\n",
       "\n",
       "    .dataframe thead th {\n",
       "        text-align: right;\n",
       "    }\n",
       "</style>\n",
       "<table border=\"1\" class=\"dataframe\">\n",
       "  <thead>\n",
       "    <tr style=\"text-align: right;\">\n",
       "      <th>pdq</th>\n",
       "      <th>(2, 0, 3)</th>\n",
       "      <th>(6, 0, 1)</th>\n",
       "      <th>(0, 0, 7)</th>\n",
       "      <th>(6, 0, 2)</th>\n",
       "      <th>(1, 0, 1)</th>\n",
       "      <th>(2, 0, 2)</th>\n",
       "      <th>(4, 0, 1)</th>\n",
       "      <th>(5, 0, 5)</th>\n",
       "      <th>(2, 0, 6)</th>\n",
       "      <th>(6, 0, 0)</th>\n",
       "    </tr>\n",
       "  </thead>\n",
       "  <tbody>\n",
       "    <tr>\n",
       "      <th>rmse</th>\n",
       "      <td>2203.379237</td>\n",
       "      <td>2021.738099</td>\n",
       "      <td>2650.116702</td>\n",
       "      <td>2322.619161</td>\n",
       "      <td>2213.822416</td>\n",
       "      <td>2150.524738</td>\n",
       "      <td>2134.497553</td>\n",
       "      <td>2378.336813</td>\n",
       "      <td>2759.846369</td>\n",
       "      <td>2646.775215</td>\n",
       "    </tr>\n",
       "    <tr>\n",
       "      <th>mae</th>\n",
       "      <td>1382.210620</td>\n",
       "      <td>1646.841417</td>\n",
       "      <td>1953.857766</td>\n",
       "      <td>1875.333531</td>\n",
       "      <td>1868.970673</td>\n",
       "      <td>2000.919642</td>\n",
       "      <td>2040.741582</td>\n",
       "      <td>2059.270286</td>\n",
       "      <td>2187.147365</td>\n",
       "      <td>2161.483273</td>\n",
       "    </tr>\n",
       "    <tr>\n",
       "      <th>mape</th>\n",
       "      <td>0.053006</td>\n",
       "      <td>0.068226</td>\n",
       "      <td>0.077630</td>\n",
       "      <td>0.077812</td>\n",
       "      <td>0.079408</td>\n",
       "      <td>0.084633</td>\n",
       "      <td>0.086697</td>\n",
       "      <td>0.087030</td>\n",
       "      <td>0.089878</td>\n",
       "      <td>0.090350</td>\n",
       "    </tr>\n",
       "  </tbody>\n",
       "</table>\n",
       "</div>"
      ],
      "text/plain": [
       "pdq     (2, 0, 3)    (6, 0, 1)    (0, 0, 7)    (6, 0, 2)    (1, 0, 1)  \\\n",
       "rmse  2203.379237  2021.738099  2650.116702  2322.619161  2213.822416   \n",
       "mae   1382.210620  1646.841417  1953.857766  1875.333531  1868.970673   \n",
       "mape     0.053006     0.068226     0.077630     0.077812     0.079408   \n",
       "\n",
       "pdq     (2, 0, 2)    (4, 0, 1)    (5, 0, 5)    (2, 0, 6)    (6, 0, 0)  \n",
       "rmse  2150.524738  2134.497553  2378.336813  2759.846369  2646.775215  \n",
       "mae   2000.919642  2040.741582  2059.270286  2187.147365  2161.483273  \n",
       "mape     0.084633     0.086697     0.087030     0.089878     0.090350  "
      ]
     },
     "metadata": {},
     "output_type": "display_data"
    },
    {
     "data": {
      "text/html": [
       "<div>\n",
       "<style scoped>\n",
       "    .dataframe tbody tr th:only-of-type {\n",
       "        vertical-align: middle;\n",
       "    }\n",
       "\n",
       "    .dataframe tbody tr th {\n",
       "        vertical-align: top;\n",
       "    }\n",
       "\n",
       "    .dataframe thead th {\n",
       "        text-align: right;\n",
       "    }\n",
       "</style>\n",
       "<table border=\"1\" class=\"dataframe\">\n",
       "  <thead>\n",
       "    <tr style=\"text-align: right;\">\n",
       "      <th>pdq</th>\n",
       "      <th>(7, 1, 1)</th>\n",
       "      <th>(6, 0, 5)</th>\n",
       "      <th>(1, 0, 5)</th>\n",
       "      <th>(2, 0, 0)</th>\n",
       "      <th>(5, 0, 5)</th>\n",
       "      <th>(1, 0, 1)</th>\n",
       "      <th>(1, 0, 7)</th>\n",
       "      <th>(3, 0, 7)</th>\n",
       "      <th>(4, 0, 5)</th>\n",
       "      <th>(0, 0, 7)</th>\n",
       "    </tr>\n",
       "  </thead>\n",
       "  <tbody>\n",
       "    <tr>\n",
       "      <th>rmse</th>\n",
       "      <td>9596.233876</td>\n",
       "      <td>10520.201511</td>\n",
       "      <td>10306.158106</td>\n",
       "      <td>12748.672258</td>\n",
       "      <td>11841.855190</td>\n",
       "      <td>12907.873459</td>\n",
       "      <td>12365.050726</td>\n",
       "      <td>12019.801473</td>\n",
       "      <td>12759.487717</td>\n",
       "      <td>13088.295662</td>\n",
       "    </tr>\n",
       "    <tr>\n",
       "      <th>mae</th>\n",
       "      <td>6570.765966</td>\n",
       "      <td>7969.658814</td>\n",
       "      <td>8813.436155</td>\n",
       "      <td>8535.616486</td>\n",
       "      <td>8892.619343</td>\n",
       "      <td>9445.922800</td>\n",
       "      <td>9766.948015</td>\n",
       "      <td>9860.302694</td>\n",
       "      <td>9831.516352</td>\n",
       "      <td>10702.178106</td>\n",
       "    </tr>\n",
       "    <tr>\n",
       "      <th>mape</th>\n",
       "      <td>0.060286</td>\n",
       "      <td>0.071704</td>\n",
       "      <td>0.077804</td>\n",
       "      <td>0.078562</td>\n",
       "      <td>0.080513</td>\n",
       "      <td>0.085711</td>\n",
       "      <td>0.087699</td>\n",
       "      <td>0.088050</td>\n",
       "      <td>0.088565</td>\n",
       "      <td>0.089797</td>\n",
       "    </tr>\n",
       "  </tbody>\n",
       "</table>\n",
       "</div>"
      ],
      "text/plain": [
       "pdq     (7, 1, 1)     (6, 0, 5)     (1, 0, 5)     (2, 0, 0)     (5, 0, 5)  \\\n",
       "rmse  9596.233876  10520.201511  10306.158106  12748.672258  11841.855190   \n",
       "mae   6570.765966   7969.658814   8813.436155   8535.616486   8892.619343   \n",
       "mape     0.060286      0.071704      0.077804      0.078562      0.080513   \n",
       "\n",
       "pdq      (1, 0, 1)     (1, 0, 7)     (3, 0, 7)     (4, 0, 5)     (0, 0, 7)  \n",
       "rmse  12907.873459  12365.050726  12019.801473  12759.487717  13088.295662  \n",
       "mae    9445.922800   9766.948015   9860.302694   9831.516352  10702.178106  \n",
       "mape      0.085711      0.087699      0.088050      0.088565      0.089797  "
      ]
     },
     "metadata": {},
     "output_type": "display_data"
    },
    {
     "data": {
      "text/html": [
       "<div>\n",
       "<style scoped>\n",
       "    .dataframe tbody tr th:only-of-type {\n",
       "        vertical-align: middle;\n",
       "    }\n",
       "\n",
       "    .dataframe tbody tr th {\n",
       "        vertical-align: top;\n",
       "    }\n",
       "\n",
       "    .dataframe thead th {\n",
       "        text-align: right;\n",
       "    }\n",
       "</style>\n",
       "<table border=\"1\" class=\"dataframe\">\n",
       "  <thead>\n",
       "    <tr style=\"text-align: right;\">\n",
       "      <th>pdq</th>\n",
       "      <th>(1, 0, 5)</th>\n",
       "      <th>(2, 0, 1)</th>\n",
       "      <th>(3, 0, 1)</th>\n",
       "      <th>(1, 0, 1)</th>\n",
       "      <th>(3, 0, 0)</th>\n",
       "      <th>(2, 0, 0)</th>\n",
       "      <th>(7, 0, 5)</th>\n",
       "      <th>(4, 0, 5)</th>\n",
       "      <th>(6, 0, 5)</th>\n",
       "      <th>(5, 0, 5)</th>\n",
       "    </tr>\n",
       "  </thead>\n",
       "  <tbody>\n",
       "    <tr>\n",
       "      <th>rmse</th>\n",
       "      <td>20273.118283</td>\n",
       "      <td>21090.168963</td>\n",
       "      <td>20994.695813</td>\n",
       "      <td>19559.146267</td>\n",
       "      <td>20967.224563</td>\n",
       "      <td>21066.180027</td>\n",
       "      <td>21614.779884</td>\n",
       "      <td>23007.546407</td>\n",
       "      <td>21400.236209</td>\n",
       "      <td>21635.777171</td>\n",
       "    </tr>\n",
       "    <tr>\n",
       "      <th>mae</th>\n",
       "      <td>14029.599325</td>\n",
       "      <td>14368.372295</td>\n",
       "      <td>14450.018492</td>\n",
       "      <td>14449.711814</td>\n",
       "      <td>14591.554100</td>\n",
       "      <td>14703.963461</td>\n",
       "      <td>14958.432864</td>\n",
       "      <td>15156.705317</td>\n",
       "      <td>15040.545455</td>\n",
       "      <td>15072.062825</td>\n",
       "    </tr>\n",
       "    <tr>\n",
       "      <th>mape</th>\n",
       "      <td>0.079405</td>\n",
       "      <td>0.080978</td>\n",
       "      <td>0.081838</td>\n",
       "      <td>0.082124</td>\n",
       "      <td>0.082588</td>\n",
       "      <td>0.083384</td>\n",
       "      <td>0.083410</td>\n",
       "      <td>0.084127</td>\n",
       "      <td>0.084134</td>\n",
       "      <td>0.084164</td>\n",
       "    </tr>\n",
       "  </tbody>\n",
       "</table>\n",
       "</div>"
      ],
      "text/plain": [
       "pdq      (1, 0, 5)     (2, 0, 1)     (3, 0, 1)     (1, 0, 1)     (3, 0, 0)  \\\n",
       "rmse  20273.118283  21090.168963  20994.695813  19559.146267  20967.224563   \n",
       "mae   14029.599325  14368.372295  14450.018492  14449.711814  14591.554100   \n",
       "mape      0.079405      0.080978      0.081838      0.082124      0.082588   \n",
       "\n",
       "pdq      (2, 0, 0)     (7, 0, 5)     (4, 0, 5)     (6, 0, 5)     (5, 0, 5)  \n",
       "rmse  21066.180027  21614.779884  23007.546407  21400.236209  21635.777171  \n",
       "mae   14703.963461  14958.432864  15156.705317  15040.545455  15072.062825  \n",
       "mape      0.083384      0.083410      0.084127      0.084134      0.084164  "
      ]
     },
     "metadata": {},
     "output_type": "display_data"
    },
    {
     "data": {
      "text/html": [
       "<div>\n",
       "<style scoped>\n",
       "    .dataframe tbody tr th:only-of-type {\n",
       "        vertical-align: middle;\n",
       "    }\n",
       "\n",
       "    .dataframe tbody tr th {\n",
       "        vertical-align: top;\n",
       "    }\n",
       "\n",
       "    .dataframe thead th {\n",
       "        text-align: right;\n",
       "    }\n",
       "</style>\n",
       "<table border=\"1\" class=\"dataframe\">\n",
       "  <thead>\n",
       "    <tr style=\"text-align: right;\">\n",
       "      <th>pdq</th>\n",
       "      <th>(1, 1, 6)</th>\n",
       "      <th>(7, 0, 3)</th>\n",
       "      <th>(4, 1, 1)</th>\n",
       "      <th>(6, 1, 3)</th>\n",
       "      <th>(5, 1, 3)</th>\n",
       "      <th>(7, 1, 3)</th>\n",
       "      <th>(7, 1, 2)</th>\n",
       "      <th>(2, 1, 3)</th>\n",
       "      <th>(0, 1, 0)</th>\n",
       "      <th>(1, 1, 3)</th>\n",
       "    </tr>\n",
       "  </thead>\n",
       "  <tbody>\n",
       "    <tr>\n",
       "      <th>rmse</th>\n",
       "      <td>39147.533518</td>\n",
       "      <td>41216.828996</td>\n",
       "      <td>54919.887115</td>\n",
       "      <td>44763.138330</td>\n",
       "      <td>44763.142118</td>\n",
       "      <td>44763.146744</td>\n",
       "      <td>44763.141322</td>\n",
       "      <td>44763.131546</td>\n",
       "      <td>44763.122546</td>\n",
       "      <td>51613.360875</td>\n",
       "    </tr>\n",
       "    <tr>\n",
       "      <th>mae</th>\n",
       "      <td>32400.043410</td>\n",
       "      <td>38778.597688</td>\n",
       "      <td>40691.938787</td>\n",
       "      <td>38962.929353</td>\n",
       "      <td>38962.935553</td>\n",
       "      <td>38962.933986</td>\n",
       "      <td>38962.936185</td>\n",
       "      <td>38962.941378</td>\n",
       "      <td>38962.956667</td>\n",
       "      <td>40781.319390</td>\n",
       "    </tr>\n",
       "    <tr>\n",
       "      <th>mape</th>\n",
       "      <td>0.045244</td>\n",
       "      <td>0.053788</td>\n",
       "      <td>0.055556</td>\n",
       "      <td>0.055782</td>\n",
       "      <td>0.055782</td>\n",
       "      <td>0.055782</td>\n",
       "      <td>0.055782</td>\n",
       "      <td>0.055782</td>\n",
       "      <td>0.055782</td>\n",
       "      <td>0.055892</td>\n",
       "    </tr>\n",
       "  </tbody>\n",
       "</table>\n",
       "</div>"
      ],
      "text/plain": [
       "pdq      (1, 1, 6)     (7, 0, 3)     (4, 1, 1)     (6, 1, 3)     (5, 1, 3)  \\\n",
       "rmse  39147.533518  41216.828996  54919.887115  44763.138330  44763.142118   \n",
       "mae   32400.043410  38778.597688  40691.938787  38962.929353  38962.935553   \n",
       "mape      0.045244      0.053788      0.055556      0.055782      0.055782   \n",
       "\n",
       "pdq      (7, 1, 3)     (7, 1, 2)     (2, 1, 3)     (0, 1, 0)     (1, 1, 3)  \n",
       "rmse  44763.146744  44763.141322  44763.131546  44763.122546  51613.360875  \n",
       "mae   38962.933986  38962.936185  38962.941378  38962.956667  40781.319390  \n",
       "mape      0.055782      0.055782      0.055782      0.055782      0.055892  "
      ]
     },
     "metadata": {},
     "output_type": "display_data"
    }
   ],
   "source": [
    "display(midwest_pdq_parameters.head(10).T)\n",
    "display(north_pdq_parameters.head(10).T)\n",
    "display(northeast_pdq_parameters.head(10).T)\n",
    "display(south_pdq_parameters.head(10).T)\n",
    "display(southeast_pdq_parameters.head(10).T)"
   ]
  },
  {
   "cell_type": "code",
   "execution_count": 17,
   "metadata": {},
   "outputs": [
    {
     "name": "stdout",
     "output_type": "stream",
     "text": [
      "midwest\n",
      "2nd Quarter of 2018\n",
      "On average, our predictions are 6.21% above or below the real value.\n",
      "Which means an error of about R$ 4,590.29\n",
      "\n",
      "north\n",
      "2nd Quarter of 2018\n",
      "On average, our predictions are 6.82% above or below the real value.\n",
      "Which means an error of about R$ 1,646.84\n",
      "\n",
      "northeast\n",
      "2nd Quarter of 2018\n",
      "On average, our predictions are 7.86% above or below the real value.\n",
      "Which means an error of about R$ 8,535.62\n",
      "\n",
      "south\n",
      "2nd Quarter of 2018\n",
      "On average, our predictions are 7.94% above or below the real value.\n",
      "Which means an error of about R$ 14,029.60\n",
      "\n",
      "southeast\n",
      "2nd Quarter of 2018\n",
      "On average, our predictions are 5.58% above or below the real value.\n",
      "Which means an error of about R$ 38,962.96\n"
     ]
    },
    {
     "name": "stderr",
     "output_type": "stream",
     "text": [
      "C:\\Users\\WALDENIO_NOT\\anaconda3\\lib\\site-packages\\statsmodels\\tsa\\statespace\\sarimax.py:865: UserWarning: Too few observations to estimate starting parameters for ARMA and trend. All parameters except for variances will be set to zeros.\n",
      "  warn('Too few observations to estimate starting parameters%s.'\n"
     ]
    }
   ],
   "source": [
    "print(\"midwest\")\n",
    "train_test(midwest_train, midwest_test, p=5, d=1, q=1) \n",
    "print(\"\\nnorth\")\n",
    "train_test(north_train, north_test, p=6, d=0, q=1)\n",
    "print(\"\\nnortheast\")\n",
    "train_test(northeast_train, northeast_test, p=2, d=0, q=0)\n",
    "print(\"\\nsouth\")\n",
    "train_test(south_train, south_test, p=1, d=0, q=5)\n",
    "print(\"\\nsoutheast\")\n",
    "train_test(southeast_train, southeast_test, p=0, d=1, q=0)"
   ]
  },
  {
   "cell_type": "markdown",
   "metadata": {},
   "source": [
    "## 7.0 Final Model"
   ]
  },
  {
   "cell_type": "code",
   "execution_count": 18,
   "metadata": {},
   "outputs": [],
   "source": [
    "# ??train_test"
   ]
  },
  {
   "cell_type": "code",
   "execution_count": 19,
   "metadata": {
    "scrolled": false
   },
   "outputs": [
    {
     "name": "stdout",
     "output_type": "stream",
     "text": [
      "midwest\n"
     ]
    },
    {
     "name": "stderr",
     "output_type": "stream",
     "text": [
      "C:\\Users\\WALDENIO_NOT\\anaconda3\\lib\\site-packages\\statsmodels\\tsa\\statespace\\sarimax.py:965: UserWarning: Non-stationary starting autoregressive parameters found. Using zeros as starting parameters.\n",
      "  warn('Non-stationary starting autoregressive parameters'\n",
      "C:\\Users\\WALDENIO_NOT\\anaconda3\\lib\\site-packages\\statsmodels\\tsa\\statespace\\sarimax.py:977: UserWarning: Non-invertible starting MA parameters found. Using zeros as starting parameters.\n",
      "  warn('Non-invertible starting MA parameters found.'\n"
     ]
    },
    {
     "name": "stdout",
     "output_type": "stream",
     "text": [
      "3rd Quarter of 2018\n",
      "On average, our predictions are 24.48% above or below the real value.\n",
      "Which means an error of about R$ 13,663.55\n",
      "\n",
      "north\n"
     ]
    },
    {
     "name": "stderr",
     "output_type": "stream",
     "text": [
      "C:\\Users\\WALDENIO_NOT\\anaconda3\\lib\\site-packages\\statsmodels\\tsa\\statespace\\sarimax.py:965: UserWarning: Non-stationary starting autoregressive parameters found. Using zeros as starting parameters.\n",
      "  warn('Non-stationary starting autoregressive parameters'\n",
      "C:\\Users\\WALDENIO_NOT\\anaconda3\\lib\\site-packages\\statsmodels\\tsa\\statespace\\sarimax.py:977: UserWarning: Non-invertible starting MA parameters found. Using zeros as starting parameters.\n",
      "  warn('Non-invertible starting MA parameters found.'\n",
      "C:\\Users\\WALDENIO_NOT\\anaconda3\\lib\\site-packages\\statsmodels\\base\\model.py:566: ConvergenceWarning: Maximum Likelihood optimization failed to converge. Check mle_retvals\n",
      "  warnings.warn(\"Maximum Likelihood optimization failed to \"\n"
     ]
    },
    {
     "name": "stdout",
     "output_type": "stream",
     "text": [
      "3rd Quarter of 2018\n",
      "On average, our predictions are 28.53% above or below the real value.\n",
      "Which means an error of about R$ 7,562.00\n",
      "\n",
      "northeast\n",
      "3rd Quarter of 2018\n",
      "On average, our predictions are 40.12% above or below the real value.\n",
      "Which means an error of about R$ 42,181.79\n",
      "\n",
      "south\n",
      "3rd Quarter of 2018\n",
      "On average, our predictions are 1.58% above or below the real value.\n",
      "Which means an error of about R$ 2,195.12\n",
      "\n",
      "southeast\n"
     ]
    },
    {
     "name": "stderr",
     "output_type": "stream",
     "text": [
      "C:\\Users\\WALDENIO_NOT\\anaconda3\\lib\\site-packages\\statsmodels\\tsa\\statespace\\sarimax.py:865: UserWarning: Too few observations to estimate starting parameters for ARMA and trend. All parameters except for variances will be set to zeros.\n",
      "  warn('Too few observations to estimate starting parameters%s.'\n",
      "C:\\Users\\WALDENIO_NOT\\anaconda3\\lib\\site-packages\\statsmodels\\tsa\\statespace\\sarimax.py:865: UserWarning: Too few observations to estimate starting parameters for ARMA and trend. All parameters except for variances will be set to zeros.\n",
      "  warn('Too few observations to estimate starting parameters%s.'\n"
     ]
    },
    {
     "name": "stdout",
     "output_type": "stream",
     "text": [
      "3rd Quarter of 2018\n",
      "On average, our predictions are 10.31% above or below the real value.\n",
      "Which means an error of about R$ 66,034.08\n"
     ]
    }
   ],
   "source": [
    "print(\"midwest\")\n",
    "train_test(midwest_final_training, midwest_production, p=5, d=1, q=2, forecast=2, evaluate_in='3rd Quarter of 2018') \n",
    "print(\"\\nnorth\")\n",
    "train_test(north_final_training, north_production, p=2, d=0, q=3, forecast=2, evaluate_in='3rd Quarter of 2018')\n",
    "print(\"\\nnortheast\")\n",
    "train_test(northeast_final_training, northeast_production, p=7, d=1, q=1, forecast=2, evaluate_in='3rd Quarter of 2018')\n",
    "print(\"\\nsouth\")\n",
    "train_test(south_final_training, south_production, p=1, d=0, q=6, forecast=2, evaluate_in='3rd Quarter of 2018')\n",
    "print(\"\\nsoutheast\")\n",
    "train_test(southeast_final_training, southeast_production, p=1, d=1, q=6, forecast=2, evaluate_in='3rd Quarter of 2018')"
   ]
  },
  {
   "cell_type": "markdown",
   "metadata": {},
   "source": [
    "## 8.0 Results on Total Olist Sales"
   ]
  },
  {
   "cell_type": "code",
   "execution_count": 86,
   "metadata": {},
   "outputs": [
    {
     "name": "stderr",
     "output_type": "stream",
     "text": [
      "C:\\Users\\WALDENIO_NOT\\anaconda3\\lib\\site-packages\\statsmodels\\tsa\\statespace\\sarimax.py:865: UserWarning: Too few observations to estimate starting parameters for ARMA and trend. All parameters except for variances will be set to zeros.\n",
      "  warn('Too few observations to estimate starting parameters%s.'\n"
     ]
    }
   ],
   "source": [
    "midwest_model = train_test(midwest_final_training, midwest_production, p=5, d=1, q=1, return_model=True, evaluate=False) \n",
    "\n",
    "north_model = train_test(north_final_training, north_production, p=6, d=0, q=1, return_model=True, evaluate=False)\n",
    "\n",
    "northeast_model = train_test(northeast_final_training, northeast_production, p=2, d=0, q=0, return_model=True, evaluate=False)\n",
    "\n",
    "south_model = train_test(south_final_training, south_production, p=1, d=0, q=6, return_model=True, evaluate=False)\n",
    "\n",
    "southeast_model = train_test(southeast_final_training, southeast_production, p=1, d=1, q=6, return_model=True, evaluate=False)"
   ]
  },
  {
   "cell_type": "code",
   "execution_count": 87,
   "metadata": {},
   "outputs": [],
   "source": [
    "df_final_train = {\n",
    "    'midwest':midwest_final_training,\n",
    "    'north':north_final_training,\n",
    "    'northeast':northeast_final_training,\n",
    "    'south':south_final_training,\n",
    "    'southeast':southeast_final_training\n",
    "}\n",
    "\n",
    "df_production = {\n",
    "    'midwest':midwest_production,\n",
    "    'north':north_production,\n",
    "    'northeast':northeast_production,\n",
    "    'south':south_production,\n",
    "    'southeast':southeast_production    \n",
    "}\n",
    "\n",
    "data_final_train = pd.DataFrame(data=df_final_train)\n",
    "data_production = pd.DataFrame(data=df_production)\n",
    "\n",
    "preds = {\n",
    "    'midwest':midwest_model.forecast(2),\n",
    "    'north':north_model.forecast(2),\n",
    "    'northeast':northeast_model.forecast(2),\n",
    "    'south':south_model.forecast(2),\n",
    "    'southeast':southeast_model.forecast(2)\n",
    "}\n",
    "predictions = pd.DataFrame(data=preds, index=data_production.index)"
   ]
  },
  {
   "cell_type": "code",
   "execution_count": 88,
   "metadata": {},
   "outputs": [
    {
     "data": {
      "image/png": "[encoded data removed]",
      "text/plain": [
       "<Figure size 1080x288 with 1 Axes>"
      ]
     },
     "metadata": {
      "needs_background": "light"
     },
     "output_type": "display_data"
    }
   ],
   "source": [
    "df_preds = pd.concat([data_final_train, predictions]).sum(axis=1)\n",
    "original_df = pd.concat([data_final_train, data_production]).sum(axis=1)\n",
    "\n",
    "df_preds.plot(color='orange')\n",
    "original_df.plot();"
   ]
  },
  {
   "cell_type": "code",
   "execution_count": 89,
   "metadata": {},
   "outputs": [
    {
     "name": "stdout",
     "output_type": "stream",
     "text": [
      "On average, our predictions are 4.54% above or below the real value.\n",
      "Which means an error of about R$ 45,900.02\n"
     ]
    },
    {
     "data": {
      "text/plain": [
       "(45900.02, 4.536166562706876)"
      ]
     },
     "execution_count": 89,
     "metadata": {},
     "output_type": "execute_result"
    }
   ],
   "source": [
    "evaluation(original_df.loc['2018-07-31':], df_preds.loc['2018-07-31':])"
   ]
  },
  {
   "cell_type": "markdown",
   "metadata": {},
   "source": [
    "## 9.0 Deploy Model to Production"
   ]
  },
  {
   "cell_type": "markdown",
   "metadata": {},
   "source": [
    "### 9.1 Save Model"
   ]
  },
  {
   "cell_type": "markdown",
   "metadata": {},
   "source": [
    "#### midwest_model\n",
    "north_model\n",
    "northeast_model\n",
    "south_model\n",
    "southeast_model.forecast(3)"
   ]
  },
  {
   "cell_type": "code",
   "execution_count": 97,
   "metadata": {},
   "outputs": [],
   "source": [
    "region_arima = {\n",
    "    'midwest':midwest_model,\n",
    "    'north':north_model,\n",
    "    'northeast':northeast_model,\n",
    "    'south':south_model,\n",
    "    'southeast':southeast_model    \n",
    "}\n",
    "\n",
    "filename = 'olist_arima_models_by_region.joblib'\n",
    "path = os.path.join(os.path.join(os.path.dirname(directory.THIS_DIR), \"models\"), filename)\n",
    "# joblib.dump(region_arima, path)"
   ]
  },
  {
   "cell_type": "code",
   "execution_count": 111,
   "metadata": {},
   "outputs": [
    {
     "data": {
      "text/plain": [
       "{'midwest': <statsmodels.tsa.arima.model.ARIMAResultsWrapper at 0x196794686a0>,\n",
       " 'north': <statsmodels.tsa.arima.model.ARIMAResultsWrapper at 0x19679459be0>,\n",
       " 'northeast': <statsmodels.tsa.arima.model.ARIMAResultsWrapper at 0x19679459ac0>,\n",
       " 'south': <statsmodels.tsa.arima.model.ARIMAResultsWrapper at 0x196794156a0>,\n",
       " 'southeast': <statsmodels.tsa.arima.model.ARIMAResultsWrapper at 0x1967bab23d0>}"
      ]
     },
     "execution_count": 111,
     "metadata": {},
     "output_type": "execute_result"
    }
   ],
   "source": [
    "arimas = joblib.load(path)\n",
    "arimas"
   ]
  },
  {
   "cell_type": "markdown",
   "metadata": {},
   "source": [
    "### 9.2 OlistSales Class"
   ]
  },
  {
   "cell_type": "code",
   "execution_count": 233,
   "metadata": {},
   "outputs": [],
   "source": [
    "def convert_region(region):\n",
    "    pt_en_regions = {\n",
    "        'centro oeste': 'midwest', \n",
    "        'norte': 'north', \n",
    "        'nordeste': 'northeast',\n",
    "        'sul': 'south',\n",
    "        'sudeste': 'southeast'\n",
    "    }\n",
    "    try: \n",
    "        return pt_en_regions[region]\n",
    "    except:\n",
    "        return region\n",
    "    \n",
    "\n",
    "class OlistSales:\n",
    "    def __init__(self):\n",
    "        self.arima = joblib.load(path)\n",
    "        self.valid_regions = ['midwest', 'north', 'northeast', 'south', 'southeast',\n",
    "                              'centro oeste', 'norte', 'nordeste', 'sul', 'sudeste',\n",
    "                              'all', 'todas']\n",
    "        \n",
    "    def get_forecast(self, region='all'):\n",
    "        region = region.strip(\" \").lower()\n",
    "        if region in ['all', 'todas', '']:\n",
    "            return self.get_sales_forecast()\n",
    "        if self.validate_region(region):\n",
    "            return self.arima[convert_region(region)].forecast(3)\n",
    "        else:\n",
    "            raise ValueError(f\"Invalid Region. Current Valid regions: {self.valid_regions}\")\n",
    "    \n",
    "    def validate_region(self, region):\n",
    "        if region in self.valid_regions:\n",
    "            return True\n",
    "        if not region:\n",
    "            print(\"not: \", region)\n",
    "            return True\n",
    "        else: return False\n",
    "        \n",
    "    def get_sales_forecast(self):\n",
    "        preds = {}\n",
    "        for region in self.arima.keys():\n",
    "            preds[region] = self.arima[region].forecast(3)        \n",
    "        return pd.DataFrame(data=preds).sum(axis=1)"
   ]
  },
  {
   "cell_type": "code",
   "execution_count": 235,
   "metadata": {},
   "outputs": [],
   "source": [
    "olist_sales = OlistSales()\n",
    "try:\n",
    "   olist_sales.get_forecast(str())\n",
    "except Exception as e:\n",
    "    print(e)"
   ]
  }
 ],
 "metadata": {
  "kernelspec": {
   "display_name": "Python 3",
   "language": "python",
   "name": "python3"
  },
  "language_info": {
   "codemirror_mode": {
    "name": "ipython",
    "version": 3
   },
   "file_extension": ".py",
   "mimetype": "text/x-python",
   "name": "python",
   "nbconvert_exporter": "python",
   "pygments_lexer": "ipython3",
   "version": "3.8.5"
  }
 },
 "nbformat": 4,
 "nbformat_minor": 4
}
