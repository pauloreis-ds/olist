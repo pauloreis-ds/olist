{
 "cells": [
  {
   "cell_type": "markdown",
   "metadata": {},
   "source": [
    "### Sales Forecast\n",
    "\n",
    "**Motivation! What's the context?**\n",
    "- In 2017 Olist started to forecast its monthly sales based on the average revenue from 3 months before. But now the company  wants to be able to predict future sales more accurately.\n",
    "\n",
    "**Why?**\n",
    "- To efficiently allocate resources for future projects, growth and manage its cash flow. \n",
    "\n",
    "**Who are the stakeholders?**\n",
    "- The financial sector will use the forecast to the set operating budgets and to project cash flows.\n",
    "- And the marketing team, who will have the opportunity to schedule promotions if it appears sales <br>\n",
    "will be weak and will be able to better allocate budget among other marketing activities.\n",
    "\n",
    "**What is the deliverable?**\n",
    "- A dashboard with the information about the forecast.\n",
    "\n",
    "\n",
    "> **ps: We will use the data to forecast the second quarter of 2018 and the third quarter will be our \"production data\".**"
   ]
  },
  {
   "cell_type": "markdown",
   "metadata": {},
   "source": [
    "## Agenda\n",
    "\n",
    "[Cycles Notes](#Cycles-Notes)<br>\n",
    "\n",
    "[](#)<br>\n",
    "&nbsp;[](#)<br>\n",
    "&nbsp;[](#)<br>\n",
    "&nbsp;[](#)<br>\n",
    "&nbsp;[](#)<br>\n",
    "&nbsp;[](#)<br>\n",
    "&nbsp;[](#)<br>\n",
    "\n",
    "&nbsp;&nbsp;[](#)<br>\n",
    "&nbsp;&nbsp;[](#)<br>\n",
    "&nbsp;&nbsp;[](#)<br>\n",
    "&nbsp;&nbsp;[](#)<br>\n",
    "&nbsp;&nbsp;[](#)<br>\n",
    "&nbsp;&nbsp;[](#)<br>\n"
   ]
  },
  {
   "cell_type": "markdown",
   "metadata": {},
   "source": [
    "# Cycles Notes\n",
    "\n",
    "**1st - .**\n",
    "\n",
    "**2nd - .**\n",
    "\n",
    "**3rd - .**"
   ]
  },
  {
   "cell_type": "code",
   "execution_count": 1,
   "metadata": {},
   "outputs": [],
   "source": [
    "from notebook_utils.utils import *\n",
    "from notebook_utils.ml_utils import *\n",
    "\n",
    "import os \n",
    "import pandas as pd\n",
    "import numpy as np\n",
    "\n",
    "from statsmodels.tsa.arima.model import ARIMA"
   ]
  },
  {
   "cell_type": "code",
   "execution_count": 2,
   "metadata": {},
   "outputs": [],
   "source": [
    "directory = Directory(\"1.2-pr-sales-prediction-machine-learning-arima\")"
   ]
  },
  {
   "cell_type": "markdown",
   "metadata": {},
   "source": [
    "## 0.0 Loading Data\n",
    "\n",
    "Since We are not preprocessing any dat we can use the project proposal serie itself."
   ]
  },
  {
   "cell_type": "code",
   "execution_count": 73,
   "metadata": {},
   "outputs": [],
   "source": [
    " df = pd.read_pickle(os.path.join(os.path.join(directory.DATA_DIR, 'sales_forecast_data'), 'olist_2017_forecasts_table_model.pkl'))"
   ]
  },
  {
   "cell_type": "code",
   "execution_count": 74,
   "metadata": {},
   "outputs": [],
   "source": [
    "y_train = df[:-5]['known_revenue']\n",
    "y_test = df[-5:]['known_revenue']"
   ]
  },
  {
   "cell_type": "code",
   "execution_count": 75,
   "metadata": {},
   "outputs": [
    {
     "data": {
      "text/html": [
       "<div>\n",
       "<style scoped>\n",
       "    .dataframe tbody tr th:only-of-type {\n",
       "        vertical-align: middle;\n",
       "    }\n",
       "\n",
       "    .dataframe tbody tr th {\n",
       "        vertical-align: top;\n",
       "    }\n",
       "\n",
       "    .dataframe thead th {\n",
       "        text-align: right;\n",
       "    }\n",
       "</style>\n",
       "<table border=\"1\" class=\"dataframe\">\n",
       "  <thead>\n",
       "    <tr style=\"text-align: right;\">\n",
       "      <th></th>\n",
       "      <th></th>\n",
       "      <th>known_revenue</th>\n",
       "      <th>estimated_revenue</th>\n",
       "    </tr>\n",
       "    <tr>\n",
       "      <th>year</th>\n",
       "      <th>month</th>\n",
       "      <th></th>\n",
       "      <th></th>\n",
       "    </tr>\n",
       "  </thead>\n",
       "  <tbody>\n",
       "    <tr>\n",
       "      <th rowspan=\"12\" valign=\"top\">2017</th>\n",
       "      <th>1</th>\n",
       "      <td>127482.37</td>\n",
       "      <td>15551.25</td>\n",
       "    </tr>\n",
       "    <tr>\n",
       "      <th>2</th>\n",
       "      <td>271239.32</td>\n",
       "      <td>57997.55</td>\n",
       "    </tr>\n",
       "    <tr>\n",
       "      <th>3</th>\n",
       "      <td>414330.95</td>\n",
       "      <td>132913.77</td>\n",
       "    </tr>\n",
       "    <tr>\n",
       "      <th>4</th>\n",
       "      <td>390812.40</td>\n",
       "      <td>271017.55</td>\n",
       "    </tr>\n",
       "    <tr>\n",
       "      <th>5</th>\n",
       "      <td>566851.40</td>\n",
       "      <td>358794.22</td>\n",
       "    </tr>\n",
       "    <tr>\n",
       "      <th>6</th>\n",
       "      <td>490050.37</td>\n",
       "      <td>457331.58</td>\n",
       "    </tr>\n",
       "    <tr>\n",
       "      <th>7</th>\n",
       "      <td>566299.08</td>\n",
       "      <td>482571.39</td>\n",
       "    </tr>\n",
       "    <tr>\n",
       "      <th>8</th>\n",
       "      <td>645832.36</td>\n",
       "      <td>541066.95</td>\n",
       "    </tr>\n",
       "    <tr>\n",
       "      <th>9</th>\n",
       "      <td>701077.49</td>\n",
       "      <td>567393.94</td>\n",
       "    </tr>\n",
       "    <tr>\n",
       "      <th>10</th>\n",
       "      <td>751117.01</td>\n",
       "      <td>637736.31</td>\n",
       "    </tr>\n",
       "    <tr>\n",
       "      <th>11</th>\n",
       "      <td>1153364.20</td>\n",
       "      <td>699342.29</td>\n",
       "    </tr>\n",
       "    <tr>\n",
       "      <th>12</th>\n",
       "      <td>843078.29</td>\n",
       "      <td>868519.57</td>\n",
       "    </tr>\n",
       "    <tr>\n",
       "      <th rowspan=\"8\" valign=\"top\">2018</th>\n",
       "      <th>1</th>\n",
       "      <td>1077887.46</td>\n",
       "      <td>915853.17</td>\n",
       "    </tr>\n",
       "    <tr>\n",
       "      <th>2</th>\n",
       "      <td>966168.41</td>\n",
       "      <td>1024776.65</td>\n",
       "    </tr>\n",
       "    <tr>\n",
       "      <th>3</th>\n",
       "      <td>1120598.24</td>\n",
       "      <td>962378.05</td>\n",
       "    </tr>\n",
       "    <tr>\n",
       "      <th>4</th>\n",
       "      <td>1132878.93</td>\n",
       "      <td>1054884.70</td>\n",
       "    </tr>\n",
       "    <tr>\n",
       "      <th>5</th>\n",
       "      <td>1128774.52</td>\n",
       "      <td>1047217.12</td>\n",
       "    </tr>\n",
       "    <tr>\n",
       "      <th>6</th>\n",
       "      <td>1011978.29</td>\n",
       "      <td>1074233.35</td>\n",
       "    </tr>\n",
       "    <tr>\n",
       "      <th>7</th>\n",
       "      <td>1027807.28</td>\n",
       "      <td>1058778.39</td>\n",
       "    </tr>\n",
       "    <tr>\n",
       "      <th>8</th>\n",
       "      <td>985491.64</td>\n",
       "      <td>1060076.29</td>\n",
       "    </tr>\n",
       "  </tbody>\n",
       "</table>\n",
       "</div>"
      ],
      "text/plain": [
       "            known_revenue  estimated_revenue\n",
       "year month                                  \n",
       "2017 1          127482.37           15551.25\n",
       "     2          271239.32           57997.55\n",
       "     3          414330.95          132913.77\n",
       "     4          390812.40          271017.55\n",
       "     5          566851.40          358794.22\n",
       "     6          490050.37          457331.58\n",
       "     7          566299.08          482571.39\n",
       "     8          645832.36          541066.95\n",
       "     9          701077.49          567393.94\n",
       "     10         751117.01          637736.31\n",
       "     11        1153364.20          699342.29\n",
       "     12         843078.29          868519.57\n",
       "2018 1         1077887.46          915853.17\n",
       "     2          966168.41         1024776.65\n",
       "     3         1120598.24          962378.05\n",
       "     4         1132878.93         1054884.70\n",
       "     5         1128774.52         1047217.12\n",
       "     6         1011978.29         1074233.35\n",
       "     7         1027807.28         1058778.39\n",
       "     8          985491.64         1060076.29"
      ]
     },
     "execution_count": 75,
     "metadata": {},
     "output_type": "execute_result"
    }
   ],
   "source": [
    "df.round(2)"
   ]
  },
  {
   "cell_type": "code",
   "execution_count": 82,
   "metadata": {},
   "outputs": [
    {
     "name": "stdout",
     "output_type": "stream",
     "text": [
      "On average, our predictions are 6.87% above or below the real value.\n",
      "Which means an error of about R$ 73592.07\n"
     ]
    },
    {
     "data": {
      "text/plain": [
       "(73592.07, 6.8728356213716975)"
      ]
     },
     "execution_count": 82,
     "metadata": {},
     "output_type": "execute_result"
    }
   ],
   "source": [
    "model = ARIMA(y_train.values, order=(6,0,0)).fit()\n",
    "predictions = model.forecast(5)\n",
    "evaluation(y_test, predictions)"
   ]
  },
  {
   "cell_type": "code",
   "execution_count": 83,
   "metadata": {},
   "outputs": [
    {
     "data": {
      "image/png": "[encoded data removed]",
      "text/plain": [
       "<Figure size 1080x360 with 1 Axes>"
      ]
     },
     "metadata": {
      "needs_background": "light"
     },
     "output_type": "display_data"
    }
   ],
   "source": [
    "arima_evaluation = pd.concat([pd.Series(y_test.ravel(), name='revenue'), pd.Series(predictions.ravel(), name='prediction')], axis=1)\n",
    "arima_evaluation.plot(figsize=(15,5));"
   ]
  },
  {
   "cell_type": "code",
   "execution_count": 84,
   "metadata": {},
   "outputs": [
    {
     "name": "stdout",
     "output_type": "stream",
     "text": [
      "On average, our predictions are 8.48% above or below the real value.\n",
      "Which means an error of about R$ 93319.29\n"
     ]
    },
    {
     "data": {
      "text/plain": [
       "(93319.29, 8.483813190670453)"
      ]
     },
     "execution_count": 84,
     "metadata": {},
     "output_type": "execute_result"
    }
   ],
   "source": [
    "evaluation(y_test[:3], predictions[:3])"
   ]
  },
  {
   "cell_type": "code",
   "execution_count": 85,
   "metadata": {},
   "outputs": [
    {
     "name": "stdout",
     "output_type": "stream",
     "text": [
      "On average, our predictions are 4.46% above or below the real value.\n",
      "Which means an error of about R$ 44001.24\n"
     ]
    },
    {
     "data": {
      "text/plain": [
       "(44001.24, 4.456369267423567)"
      ]
     },
     "execution_count": 85,
     "metadata": {},
     "output_type": "execute_result"
    }
   ],
   "source": [
    "evaluation(y_test[3:], predictions[3:])"
   ]
  },
  {
   "cell_type": "code",
   "execution_count": 86,
   "metadata": {},
   "outputs": [
    {
     "name": "stderr",
     "output_type": "stream",
     "text": [
      "<ipython-input-86-a2f4e0dc1ec3>:3: SettingWithCopyWarning: \n",
      "A value is trying to be set on a copy of a slice from a DataFrame\n",
      "\n",
      "See the caveats in the documentation: https://pandas.pydata.org/pandas-docs/stable/user_guide/indexing.html#returning-a-view-versus-a-copy\n",
      "  aa['arima_forecast'][-5:] = predictions\n",
      "C:\\Users\\WALDENIO_NOT\\anaconda3\\lib\\site-packages\\pandas\\core\\indexing.py:670: SettingWithCopyWarning: \n",
      "A value is trying to be set on a copy of a slice from a DataFrame\n",
      "\n",
      "See the caveats in the documentation: https://pandas.pydata.org/pandas-docs/stable/user_guide/indexing.html#returning-a-view-versus-a-copy\n",
      "  iloc._setitem_with_indexer(indexer, value)\n"
     ]
    }
   ],
   "source": [
    "aa = df.copy()\n",
    "aa['arima_forecast'] = 0\n",
    "aa['arima_forecast'][-5:] = predictions"
   ]
  },
  {
   "cell_type": "code",
   "execution_count": 87,
   "metadata": {},
   "outputs": [
    {
     "data": {
      "text/plain": [
       "<AxesSubplot:xlabel='year,month'>"
      ]
     },
     "execution_count": 87,
     "metadata": {},
     "output_type": "execute_result"
    },
    {
     "data": {
      "image/png": "[encoded data removed]",
      "text/plain": [
       "<Figure size 1080x360 with 1 Axes>"
      ]
     },
     "metadata": {
      "needs_background": "light"
     },
     "output_type": "display_data"
    }
   ],
   "source": [
    "aa[-5:].plot(figsize=(15,5), color=['#1f77b4','lightgrey','#ff7f0e'])"
   ]
  },
  {
   "cell_type": "code",
   "execution_count": 88,
   "metadata": {},
   "outputs": [
    {
     "data": {
      "text/html": [
       "<div>\n",
       "<style scoped>\n",
       "    .dataframe tbody tr th:only-of-type {\n",
       "        vertical-align: middle;\n",
       "    }\n",
       "\n",
       "    .dataframe tbody tr th {\n",
       "        vertical-align: top;\n",
       "    }\n",
       "\n",
       "    .dataframe thead th {\n",
       "        text-align: right;\n",
       "    }\n",
       "</style>\n",
       "<table border=\"1\" class=\"dataframe\">\n",
       "  <thead>\n",
       "    <tr style=\"text-align: right;\">\n",
       "      <th></th>\n",
       "      <th></th>\n",
       "      <th>known_revenue</th>\n",
       "      <th>estimated_revenue</th>\n",
       "      <th>arima_forecast</th>\n",
       "    </tr>\n",
       "    <tr>\n",
       "      <th>year</th>\n",
       "      <th>month</th>\n",
       "      <th></th>\n",
       "      <th></th>\n",
       "      <th></th>\n",
       "    </tr>\n",
       "  </thead>\n",
       "  <tbody>\n",
       "    <tr>\n",
       "      <th rowspan=\"12\" valign=\"top\">2017</th>\n",
       "      <th>1</th>\n",
       "      <td>127482.37</td>\n",
       "      <td>15551.25</td>\n",
       "      <td>0.00</td>\n",
       "    </tr>\n",
       "    <tr>\n",
       "      <th>2</th>\n",
       "      <td>271239.32</td>\n",
       "      <td>57997.55</td>\n",
       "      <td>0.00</td>\n",
       "    </tr>\n",
       "    <tr>\n",
       "      <th>3</th>\n",
       "      <td>414330.95</td>\n",
       "      <td>132913.77</td>\n",
       "      <td>0.00</td>\n",
       "    </tr>\n",
       "    <tr>\n",
       "      <th>4</th>\n",
       "      <td>390812.40</td>\n",
       "      <td>271017.55</td>\n",
       "      <td>0.00</td>\n",
       "    </tr>\n",
       "    <tr>\n",
       "      <th>5</th>\n",
       "      <td>566851.40</td>\n",
       "      <td>358794.22</td>\n",
       "      <td>0.00</td>\n",
       "    </tr>\n",
       "    <tr>\n",
       "      <th>6</th>\n",
       "      <td>490050.37</td>\n",
       "      <td>457331.58</td>\n",
       "      <td>0.00</td>\n",
       "    </tr>\n",
       "    <tr>\n",
       "      <th>7</th>\n",
       "      <td>566299.08</td>\n",
       "      <td>482571.39</td>\n",
       "      <td>0.00</td>\n",
       "    </tr>\n",
       "    <tr>\n",
       "      <th>8</th>\n",
       "      <td>645832.36</td>\n",
       "      <td>541066.95</td>\n",
       "      <td>0.00</td>\n",
       "    </tr>\n",
       "    <tr>\n",
       "      <th>9</th>\n",
       "      <td>701077.49</td>\n",
       "      <td>567393.94</td>\n",
       "      <td>0.00</td>\n",
       "    </tr>\n",
       "    <tr>\n",
       "      <th>10</th>\n",
       "      <td>751117.01</td>\n",
       "      <td>637736.31</td>\n",
       "      <td>0.00</td>\n",
       "    </tr>\n",
       "    <tr>\n",
       "      <th>11</th>\n",
       "      <td>1153364.20</td>\n",
       "      <td>699342.29</td>\n",
       "      <td>0.00</td>\n",
       "    </tr>\n",
       "    <tr>\n",
       "      <th>12</th>\n",
       "      <td>843078.29</td>\n",
       "      <td>868519.57</td>\n",
       "      <td>0.00</td>\n",
       "    </tr>\n",
       "    <tr>\n",
       "      <th rowspan=\"8\" valign=\"top\">2018</th>\n",
       "      <th>1</th>\n",
       "      <td>1077887.46</td>\n",
       "      <td>915853.17</td>\n",
       "      <td>0.00</td>\n",
       "    </tr>\n",
       "    <tr>\n",
       "      <th>2</th>\n",
       "      <td>966168.41</td>\n",
       "      <td>1024776.65</td>\n",
       "      <td>0.00</td>\n",
       "    </tr>\n",
       "    <tr>\n",
       "      <th>3</th>\n",
       "      <td>1120598.24</td>\n",
       "      <td>962378.05</td>\n",
       "      <td>0.00</td>\n",
       "    </tr>\n",
       "    <tr>\n",
       "      <th>4</th>\n",
       "      <td>1132878.93</td>\n",
       "      <td>1054884.70</td>\n",
       "      <td>944309.93</td>\n",
       "    </tr>\n",
       "    <tr>\n",
       "      <th>5</th>\n",
       "      <td>1128774.52</td>\n",
       "      <td>1047217.12</td>\n",
       "      <td>1106828.69</td>\n",
       "    </tr>\n",
       "    <tr>\n",
       "      <th>6</th>\n",
       "      <td>1011978.29</td>\n",
       "      <td>1074233.35</td>\n",
       "      <td>942535.25</td>\n",
       "    </tr>\n",
       "    <tr>\n",
       "      <th>7</th>\n",
       "      <td>1027807.28</td>\n",
       "      <td>1058778.39</td>\n",
       "      <td>1023722.27</td>\n",
       "    </tr>\n",
       "    <tr>\n",
       "      <th>8</th>\n",
       "      <td>985491.64</td>\n",
       "      <td>1060076.29</td>\n",
       "      <td>901574.17</td>\n",
       "    </tr>\n",
       "  </tbody>\n",
       "</table>\n",
       "</div>"
      ],
      "text/plain": [
       "            known_revenue  estimated_revenue  arima_forecast\n",
       "year month                                                  \n",
       "2017 1          127482.37           15551.25            0.00\n",
       "     2          271239.32           57997.55            0.00\n",
       "     3          414330.95          132913.77            0.00\n",
       "     4          390812.40          271017.55            0.00\n",
       "     5          566851.40          358794.22            0.00\n",
       "     6          490050.37          457331.58            0.00\n",
       "     7          566299.08          482571.39            0.00\n",
       "     8          645832.36          541066.95            0.00\n",
       "     9          701077.49          567393.94            0.00\n",
       "     10         751117.01          637736.31            0.00\n",
       "     11        1153364.20          699342.29            0.00\n",
       "     12         843078.29          868519.57            0.00\n",
       "2018 1         1077887.46          915853.17            0.00\n",
       "     2          966168.41         1024776.65            0.00\n",
       "     3         1120598.24          962378.05            0.00\n",
       "     4         1132878.93         1054884.70       944309.93\n",
       "     5         1128774.52         1047217.12      1106828.69\n",
       "     6         1011978.29         1074233.35       942535.25\n",
       "     7         1027807.28         1058778.39      1023722.27\n",
       "     8          985491.64         1060076.29       901574.17"
      ]
     },
     "execution_count": 88,
     "metadata": {},
     "output_type": "execute_result"
    }
   ],
   "source": [
    "aa.round(2)"
   ]
  }
 ],
 "metadata": {
  "kernelspec": {
   "display_name": "Python 3",
   "language": "python",
   "name": "python3"
  },
  "language_info": {
   "codemirror_mode": {
    "name": "ipython",
    "version": 3
   },
   "file_extension": ".py",
   "mimetype": "text/x-python",
   "name": "python",
   "nbconvert_exporter": "python",
   "pygments_lexer": "ipython3",
   "version": "3.8.5"
  }
 },
 "nbformat": 4,
 "nbformat_minor": 4
}
