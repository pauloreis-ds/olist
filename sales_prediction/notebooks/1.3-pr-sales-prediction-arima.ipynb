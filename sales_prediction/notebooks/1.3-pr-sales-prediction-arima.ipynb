{
 "cells": [
  {
   "cell_type": "markdown",
   "metadata": {},
   "source": [
    "### Sales Forecast\n",
    "\n",
    "**Motivation! What's the context?**\n",
    "- In 2017 Olist started to forecast its monthly sales based on the average revenue from 3 months before. But now the company wants to be able to predict future sales more accurately with a wider time range (3 months).\n",
    "\n",
    "**Why?**\n",
    "- To efficiently allocate resources for future projects, growth and manage its cash flow. \n",
    "\n",
    "**Who are the stakeholders?**\n",
    "- The financial sector will use the forecast to the set operating budgets and to project cash flows.\n",
    "- And the marketing team, who will have the opportunity to schedule promotions if it appears sales <br>\n",
    "will be weak and will be able to better allocate budget among other marketing activities.\n",
    "\n",
    "**What is the deliverable?**\n",
    "- A dashboard with the information about the forecast.\n",
    "\n",
    "\n",
    "> **ps: We will use the data to forecast the second quarter of 2018 and the third quarter will be our \"production data\".**"
   ]
  },
  {
   "cell_type": "markdown",
   "metadata": {},
   "source": [
    "## Agenda\n",
    "\n",
    "[Cycles Notes](#Cycles-Notes)<br>\n",
    "\n",
    "[](#)<br>\n",
    "&nbsp;[](#)<br>\n",
    "&nbsp;[](#)<br>\n",
    "&nbsp;[](#)<br>\n",
    "&nbsp;[](#)<br>\n",
    "&nbsp;[](#)<br>\n",
    "&nbsp;[](#)<br>\n",
    "\n",
    "&nbsp;&nbsp;[](#)<br>\n",
    "&nbsp;&nbsp;[](#)<br>\n",
    "&nbsp;&nbsp;[](#)<br>\n",
    "&nbsp;&nbsp;[](#)<br>\n",
    "&nbsp;&nbsp;[](#)<br>\n",
    "&nbsp;&nbsp;[](#)<br>\n"
   ]
  },
  {
   "cell_type": "markdown",
   "metadata": {},
   "source": [
    "# Cycles Notes\n",
    "\n",
    "**1st - .**\n",
    "\n",
    "**2nd - .**\n",
    "\n",
    "**3rd - .**"
   ]
  },
  {
   "cell_type": "code",
   "execution_count": 159,
   "metadata": {},
   "outputs": [],
   "source": [
    "from notebook_utils.utils import *\n",
    "from notebook_utils.ml_utils import *\n",
    "\n",
    "import os \n",
    "import pandas as pd\n",
    "import numpy as np\n",
    "import matplotlib.pyplot as plt\n",
    "\n",
    "from statsmodels.tsa.arima.model import ARIMA"
   ]
  },
  {
   "cell_type": "code",
   "execution_count": 2,
   "metadata": {},
   "outputs": [],
   "source": [
    "directory = Directory(\"1.3-pr-sales-prediction-arima\")"
   ]
  },
  {
   "cell_type": "markdown",
   "metadata": {},
   "source": [
    "## 0.0 Loading Data\n",
    "\n",
    "Since We are not preprocessing any data we can use the project proposal serie itself."
   ]
  },
  {
   "cell_type": "code",
   "execution_count": 3,
   "metadata": {},
   "outputs": [
    {
     "data": {
      "text/html": [
       "<div>\n",
       "<style scoped>\n",
       "    .dataframe tbody tr th:only-of-type {\n",
       "        vertical-align: middle;\n",
       "    }\n",
       "\n",
       "    .dataframe tbody tr th {\n",
       "        vertical-align: top;\n",
       "    }\n",
       "\n",
       "    .dataframe thead th {\n",
       "        text-align: right;\n",
       "    }\n",
       "</style>\n",
       "<table border=\"1\" class=\"dataframe\">\n",
       "  <thead>\n",
       "    <tr style=\"text-align: right;\">\n",
       "      <th></th>\n",
       "      <th></th>\n",
       "      <th>known_revenue</th>\n",
       "      <th>estimated_revenue</th>\n",
       "    </tr>\n",
       "    <tr>\n",
       "      <th>year</th>\n",
       "      <th>month</th>\n",
       "      <th></th>\n",
       "      <th></th>\n",
       "    </tr>\n",
       "  </thead>\n",
       "  <tbody>\n",
       "    <tr>\n",
       "      <th rowspan=\"12\" valign=\"top\">2017</th>\n",
       "      <th>1</th>\n",
       "      <td>127482.37</td>\n",
       "      <td>15551.25</td>\n",
       "    </tr>\n",
       "    <tr>\n",
       "      <th>2</th>\n",
       "      <td>271239.32</td>\n",
       "      <td>57997.55</td>\n",
       "    </tr>\n",
       "    <tr>\n",
       "      <th>3</th>\n",
       "      <td>414330.95</td>\n",
       "      <td>132913.77</td>\n",
       "    </tr>\n",
       "    <tr>\n",
       "      <th>4</th>\n",
       "      <td>390812.40</td>\n",
       "      <td>271017.55</td>\n",
       "    </tr>\n",
       "    <tr>\n",
       "      <th>5</th>\n",
       "      <td>566851.40</td>\n",
       "      <td>358794.22</td>\n",
       "    </tr>\n",
       "    <tr>\n",
       "      <th>6</th>\n",
       "      <td>490050.37</td>\n",
       "      <td>457331.58</td>\n",
       "    </tr>\n",
       "    <tr>\n",
       "      <th>7</th>\n",
       "      <td>566299.08</td>\n",
       "      <td>482571.39</td>\n",
       "    </tr>\n",
       "    <tr>\n",
       "      <th>8</th>\n",
       "      <td>645832.36</td>\n",
       "      <td>541066.95</td>\n",
       "    </tr>\n",
       "    <tr>\n",
       "      <th>9</th>\n",
       "      <td>701077.49</td>\n",
       "      <td>567393.94</td>\n",
       "    </tr>\n",
       "    <tr>\n",
       "      <th>10</th>\n",
       "      <td>751117.01</td>\n",
       "      <td>637736.31</td>\n",
       "    </tr>\n",
       "    <tr>\n",
       "      <th>11</th>\n",
       "      <td>1153364.20</td>\n",
       "      <td>699342.29</td>\n",
       "    </tr>\n",
       "    <tr>\n",
       "      <th>12</th>\n",
       "      <td>843078.29</td>\n",
       "      <td>868519.57</td>\n",
       "    </tr>\n",
       "    <tr>\n",
       "      <th rowspan=\"8\" valign=\"top\">2018</th>\n",
       "      <th>1</th>\n",
       "      <td>1077887.46</td>\n",
       "      <td>915853.17</td>\n",
       "    </tr>\n",
       "    <tr>\n",
       "      <th>2</th>\n",
       "      <td>966168.41</td>\n",
       "      <td>1024776.65</td>\n",
       "    </tr>\n",
       "    <tr>\n",
       "      <th>3</th>\n",
       "      <td>1120598.24</td>\n",
       "      <td>962378.05</td>\n",
       "    </tr>\n",
       "    <tr>\n",
       "      <th>4</th>\n",
       "      <td>1132878.93</td>\n",
       "      <td>1054884.70</td>\n",
       "    </tr>\n",
       "    <tr>\n",
       "      <th>5</th>\n",
       "      <td>1128774.52</td>\n",
       "      <td>1047217.12</td>\n",
       "    </tr>\n",
       "    <tr>\n",
       "      <th>6</th>\n",
       "      <td>1011978.29</td>\n",
       "      <td>1074233.35</td>\n",
       "    </tr>\n",
       "    <tr>\n",
       "      <th>7</th>\n",
       "      <td>1027807.28</td>\n",
       "      <td>1058778.39</td>\n",
       "    </tr>\n",
       "    <tr>\n",
       "      <th>8</th>\n",
       "      <td>985491.64</td>\n",
       "      <td>1060076.29</td>\n",
       "    </tr>\n",
       "  </tbody>\n",
       "</table>\n",
       "</div>"
      ],
      "text/plain": [
       "            known_revenue  estimated_revenue\n",
       "year month                                  \n",
       "2017 1          127482.37           15551.25\n",
       "     2          271239.32           57997.55\n",
       "     3          414330.95          132913.77\n",
       "     4          390812.40          271017.55\n",
       "     5          566851.40          358794.22\n",
       "     6          490050.37          457331.58\n",
       "     7          566299.08          482571.39\n",
       "     8          645832.36          541066.95\n",
       "     9          701077.49          567393.94\n",
       "     10         751117.01          637736.31\n",
       "     11        1153364.20          699342.29\n",
       "     12         843078.29          868519.57\n",
       "2018 1         1077887.46          915853.17\n",
       "     2          966168.41         1024776.65\n",
       "     3         1120598.24          962378.05\n",
       "     4         1132878.93         1054884.70\n",
       "     5         1128774.52         1047217.12\n",
       "     6         1011978.29         1074233.35\n",
       "     7         1027807.28         1058778.39\n",
       "     8          985491.64         1060076.29"
      ]
     },
     "execution_count": 3,
     "metadata": {},
     "output_type": "execute_result"
    }
   ],
   "source": [
    "df = pd.read_pickle(os.path.join(os.path.join(directory.DATA_DIR, 'sales_forecast_data'), 'olist_2017_forecasts_table_model.pkl'))\n",
    "df.round(2)"
   ]
  },
  {
   "cell_type": "markdown",
   "metadata": {},
   "source": [
    "### 0.1 Train and Test Data Frame"
   ]
  },
  {
   "cell_type": "code",
   "execution_count": 212,
   "metadata": {},
   "outputs": [],
   "source": [
    "y_train = df[:-5]['known_revenue']\n",
    "y_test = df[-5:]['known_revenue']"
   ]
  },
  {
   "cell_type": "markdown",
   "metadata": {},
   "source": [
    "## 1.0 ARIMA"
   ]
  },
  {
   "cell_type": "code",
   "execution_count": 213,
   "metadata": {},
   "outputs": [
    {
     "name": "stdout",
     "output_type": "stream",
     "text": [
      "On average, our predictions are 3.95% above or below the real value.\n",
      "Which means an error of about R$ 43742.62\n"
     ]
    },
    {
     "data": {
      "text/plain": [
       "(43742.62, 3.9499222196971155)"
      ]
     },
     "execution_count": 213,
     "metadata": {},
     "output_type": "execute_result"
    }
   ],
   "source": [
    "model = ARIMA(y_train.values, order=(2,0,0)).fit()\n",
    "predictions = model.forecast(5)\n",
    "evaluation(y_test, predictions)"
   ]
  },
  {
   "cell_type": "code",
   "execution_count": 214,
   "metadata": {},
   "outputs": [
    {
     "data": {
      "image/png": "[encoded data removed]",
      "text/plain": [
       "<Figure size 1080x360 with 1 Axes>"
      ]
     },
     "metadata": {
      "needs_background": "light"
     },
     "output_type": "display_data"
    }
   ],
   "source": [
    "arima_evaluation = pd.concat([pd.Series(y_test.ravel(), name='revenue'), pd.Series(predictions.ravel(), name='prediction')], axis=1)\n",
    "arima_evaluation.plot(figsize=(15,5));"
   ]
  },
  {
   "cell_type": "code",
   "execution_count": 215,
   "metadata": {},
   "outputs": [
    {
     "name": "stdout",
     "output_type": "stream",
     "text": [
      "On average, our predictions are 5.7% above or below the real value.\n",
      "Which means an error of about R$ 64127.08\n"
     ]
    },
    {
     "data": {
      "text/plain": [
       "(64127.08, 5.7032082465927845)"
      ]
     },
     "execution_count": 215,
     "metadata": {},
     "output_type": "execute_result"
    }
   ],
   "source": [
    "evaluation(y_test[:3], predictions[:3])"
   ]
  },
  {
   "cell_type": "code",
   "execution_count": 216,
   "metadata": {},
   "outputs": [
    {
     "name": "stdout",
     "output_type": "stream",
     "text": [
      "On average, our predictions are 1.32% above or below the real value.\n",
      "Which means an error of about R$ 13165.92\n"
     ]
    },
    {
     "data": {
      "text/plain": [
       "(13165.92, 1.3199931793536126)"
      ]
     },
     "execution_count": 216,
     "metadata": {},
     "output_type": "execute_result"
    }
   ],
   "source": [
    "evaluation(y_test[3:], predictions[3:])"
   ]
  },
  {
   "cell_type": "code",
   "execution_count": 361,
   "metadata": {},
   "outputs": [],
   "source": [
    "olist_forecast = df.copy()\n",
    "olist_forecast['arima_forecast'] = np.concatenate( ( np.zeros(olist_forecast['known_revenue'][:-5].shape), predictions ) )"
   ]
  },
  {
   "cell_type": "code",
   "execution_count": 362,
   "metadata": {},
   "outputs": [
    {
     "data": {
      "image/png": "[encoded data removed]",
      "text/plain": [
       "<Figure size 1080x360 with 1 Axes>"
      ]
     },
     "metadata": {
      "needs_background": "light"
     },
     "output_type": "display_data"
    }
   ],
   "source": [
    "aux = olist_forecast[-5:].copy()\n",
    "aux.index = pd.to_datetime(['2018-04-30', '2018-05-31', '2018-06-30',\n",
    "                            '2018-07-31', '2018-08-31'])\n",
    "plt.box(False)\n",
    "aux['estimated_revenue'].plot(figsize=(15,5), color=['lightgrey'], linewidth=.9);\n",
    "aux['arima_forecast'].plot(figsize=(15,5), color=['#ff7f0e'], linewidth=2);\n",
    "ax = aux['known_revenue'].plot(figsize=(15,5), color=['#1f77b4'], linewidth=2);\n",
    "plt.tick_params(axis='both', which='both', length=0)\n",
    "plt.text(\"2018-08-31\", 1062000, \"Estimated Revenue\", color='#7f7f7f', size=14)\n",
    "plt.text(\"2018-08-31\", 1007000, \"Arima Forecast\", color='#ff7f0e', size=14, weight='bold')\n",
    "plt.text(\"2018-08-31\", 988000, \"Revenue\", color='#1f77b4', size=14, weight='bold')\n",
    "plt.ticklabel_format(axis=\"y\", style=\"plain\")\n",
    "ax.yaxis.set_major_formatter('R$ {x:,.0f}')\n",
    "plt.show()"
   ]
  },
  {
   "cell_type": "code",
   "execution_count": 363,
   "metadata": {},
   "outputs": [],
   "source": [
    "diff = abs(olist_forecast['known_revenue'][-5:] - olist_forecast['estimated_revenue'][-5:])\n",
    "olist_forecast['abs_moving_average_error'] = np.concatenate( ( np.zeros(olist_forecast['known_revenue'][:-5].shape), diff ) )\n",
    "diff = abs(olist_forecast['known_revenue'][-5:] - olist_forecast['arima_forecast'][-5:])\n",
    "olist_forecast['abs_arima_error'] = np.concatenate( ( np.zeros(olist_forecast['known_revenue'][:-5].shape), diff ) )\n",
    "# olist_forecast.round(2)"
   ]
  },
  {
   "cell_type": "code",
   "execution_count": 366,
   "metadata": {},
   "outputs": [
    {
     "data": {
      "text/html": [
       "<div>\n",
       "<style scoped>\n",
       "    .dataframe tbody tr th:only-of-type {\n",
       "        vertical-align: middle;\n",
       "    }\n",
       "\n",
       "    .dataframe tbody tr th {\n",
       "        vertical-align: top;\n",
       "    }\n",
       "\n",
       "    .dataframe thead th {\n",
       "        text-align: right;\n",
       "    }\n",
       "</style>\n",
       "<table border=\"1\" class=\"dataframe\">\n",
       "  <thead>\n",
       "    <tr style=\"text-align: right;\">\n",
       "      <th></th>\n",
       "      <th>known_revenue</th>\n",
       "      <th>estimated_revenue</th>\n",
       "      <th>arima_forecast</th>\n",
       "      <th>abs_moving_average_error</th>\n",
       "      <th>abs_arima_error</th>\n",
       "      <th>arima_is_better</th>\n",
       "    </tr>\n",
       "    <tr>\n",
       "      <th>month</th>\n",
       "      <th></th>\n",
       "      <th></th>\n",
       "      <th></th>\n",
       "      <th></th>\n",
       "      <th></th>\n",
       "      <th></th>\n",
       "    </tr>\n",
       "  </thead>\n",
       "  <tbody>\n",
       "    <tr>\n",
       "      <th>1</th>\n",
       "      <td>1077887.46</td>\n",
       "      <td>915853.17</td>\n",
       "      <td>0.00</td>\n",
       "      <td>0.00</td>\n",
       "      <td>0.00</td>\n",
       "      <td>False</td>\n",
       "    </tr>\n",
       "    <tr>\n",
       "      <th>2</th>\n",
       "      <td>966168.41</td>\n",
       "      <td>1024776.65</td>\n",
       "      <td>0.00</td>\n",
       "      <td>0.00</td>\n",
       "      <td>0.00</td>\n",
       "      <td>False</td>\n",
       "    </tr>\n",
       "    <tr>\n",
       "      <th>3</th>\n",
       "      <td>1120598.24</td>\n",
       "      <td>962378.05</td>\n",
       "      <td>0.00</td>\n",
       "      <td>0.00</td>\n",
       "      <td>0.00</td>\n",
       "      <td>False</td>\n",
       "    </tr>\n",
       "    <tr>\n",
       "      <th>4</th>\n",
       "      <td>1132878.93</td>\n",
       "      <td>1054884.70</td>\n",
       "      <td>1025409.58</td>\n",
       "      <td>77994.23</td>\n",
       "      <td>107469.35</td>\n",
       "      <td>False</td>\n",
       "    </tr>\n",
       "    <tr>\n",
       "      <th>5</th>\n",
       "      <td>1128774.52</td>\n",
       "      <td>1047217.12</td>\n",
       "      <td>1053715.82</td>\n",
       "      <td>81557.40</td>\n",
       "      <td>75058.70</td>\n",
       "      <td>True</td>\n",
       "    </tr>\n",
       "    <tr>\n",
       "      <th>6</th>\n",
       "      <td>1011978.29</td>\n",
       "      <td>1074233.35</td>\n",
       "      <td>1021831.49</td>\n",
       "      <td>62255.06</td>\n",
       "      <td>9853.20</td>\n",
       "      <td>True</td>\n",
       "    </tr>\n",
       "    <tr>\n",
       "      <th>7</th>\n",
       "      <td>1027807.28</td>\n",
       "      <td>1058778.39</td>\n",
       "      <td>1020156.53</td>\n",
       "      <td>30971.11</td>\n",
       "      <td>7650.75</td>\n",
       "      <td>True</td>\n",
       "    </tr>\n",
       "    <tr>\n",
       "      <th>8</th>\n",
       "      <td>985491.64</td>\n",
       "      <td>1060076.29</td>\n",
       "      <td>1004172.73</td>\n",
       "      <td>74584.65</td>\n",
       "      <td>18681.09</td>\n",
       "      <td>True</td>\n",
       "    </tr>\n",
       "  </tbody>\n",
       "</table>\n",
       "</div>"
      ],
      "text/plain": [
       "       known_revenue  estimated_revenue  arima_forecast  \\\n",
       "month                                                     \n",
       "1         1077887.46          915853.17            0.00   \n",
       "2          966168.41         1024776.65            0.00   \n",
       "3         1120598.24          962378.05            0.00   \n",
       "4         1132878.93         1054884.70      1025409.58   \n",
       "5         1128774.52         1047217.12      1053715.82   \n",
       "6         1011978.29         1074233.35      1021831.49   \n",
       "7         1027807.28         1058778.39      1020156.53   \n",
       "8          985491.64         1060076.29      1004172.73   \n",
       "\n",
       "       abs_moving_average_error  abs_arima_error  arima_is_better  \n",
       "month                                                              \n",
       "1                          0.00             0.00            False  \n",
       "2                          0.00             0.00            False  \n",
       "3                          0.00             0.00            False  \n",
       "4                      77994.23        107469.35            False  \n",
       "5                      81557.40         75058.70             True  \n",
       "6                      62255.06          9853.20             True  \n",
       "7                      30971.11          7650.75             True  \n",
       "8                      74584.65         18681.09             True  "
      ]
     },
     "execution_count": 366,
     "metadata": {},
     "output_type": "execute_result"
    }
   ],
   "source": [
    "olist_forecast['arima_is_better'] = olist_forecast.apply(lambda row: True if\n",
    "                                                         row['abs_moving_average_error'] > row['abs_arima_error']\n",
    "                                                         else False, axis=1)\n",
    "olist_forecast.loc[2018].round(2)"
   ]
  }
 ],
 "metadata": {
  "kernelspec": {
   "display_name": "Python 3",
   "language": "python",
   "name": "python3"
  },
  "language_info": {
   "codemirror_mode": {
    "name": "ipython",
    "version": 3
   },
   "file_extension": ".py",
   "mimetype": "text/x-python",
   "name": "python",
   "nbconvert_exporter": "python",
   "pygments_lexer": "ipython3",
   "version": "3.8.5"
  }
 },
 "nbformat": 4,
 "nbformat_minor": 4
}
