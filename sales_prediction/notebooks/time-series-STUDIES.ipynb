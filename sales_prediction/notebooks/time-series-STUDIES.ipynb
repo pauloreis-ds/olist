{
 "cells": [
  {
   "cell_type": "markdown",
   "metadata": {},
   "source": [
    "[Forecasting: Principles and Practice](https://otexts.com/fpp2/)\n",
    "\n",
    "## Agenda\n",
    "\n",
    "[0.0 Loading Data](#0.0-Loading-Data)<br>\n",
    "\n",
    "[1.0 Decomposition](#1.0-Decomposition)<br>\n",
    "&nbsp;[1.2 Monthly](#1.2-Monthly)<br>\n",
    "\n",
    "[2.0 Stationarity](#2.0-Stationarity)<br>\n",
    "\n",
    "[3.0 Autocorrelation](#3.0-Autocorrelation)<br>\n",
    "\n",
    "[4.0 Partial Autocorrelation](#4.0-Partial-Autocorrelation)<br>\n",
    "\n",
    "\n",
    "[6.0 ARIMA](#6.0-ARIMA)<br>\n",
    "&nbsp;[Finding Best P, D, Q](#Finding-Best-P,-D,-Q)<br>\n",
    "&nbsp;[6.1 Model used in the Project](#6.1-Model-used-in-the-Project)<br>\n",
    "\n",
    "[7.0 Model Adjustments](#7.0-Model-Adjustments)<br>\n",
    "&nbsp;[7.1 Stationarity](#7.1-Stationarity)<br>\n",
    "\n",
    "[8.0 Residuals Analysis](#8.0-Residuals-Analysis)<br>"
   ]
  },
  {
   "cell_type": "code",
   "execution_count": 1,
   "metadata": {},
   "outputs": [],
   "source": [
    "from notebook_utils.utils import *\n",
    "from notebook_utils.ml_utils import *\n",
    "\n",
    "import os \n",
    "import pandas as pd\n",
    "import numpy as np\n",
    "import matplotlib.pyplot as plt\n",
    "\n",
    "from statsmodels.tsa.seasonal import seasonal_decompose\n",
    "from statsmodels.tsa.stattools import pacf, acf\n",
    "from statsmodels.graphics.tsaplots import plot_acf, plot_pacf\n",
    "from statsmodels.tsa.stattools import adfuller\n",
    "\n",
    "from statsmodels.tsa.arima.model import ARIMA\n",
    "\n",
    "import itertools\n",
    "import warnings\n",
    "\n",
    "from sklearn.metrics import mean_squared_error"
   ]
  },
  {
   "cell_type": "code",
   "execution_count": 2,
   "metadata": {},
   "outputs": [],
   "source": [
    "directory = Directory(\"1.2-pr-sales-prediction-time-series-analysis-STUDIES\")"
   ]
  },
  {
   "cell_type": "code",
   "execution_count": 3,
   "metadata": {},
   "outputs": [],
   "source": [
    "def fig(x=15, y=5):\n",
    "    plt.rcParams['figure.figsize'] = (x, y)"
   ]
  },
  {
   "cell_type": "markdown",
   "metadata": {},
   "source": [
    "## 0.0 Loading Data"
   ]
  },
  {
   "cell_type": "code",
   "execution_count": 4,
   "metadata": {},
   "outputs": [],
   "source": [
    "# data_frame_to_process = pd.read_pickle(os.path.join(os.path.join(directory.DATA_DIR, \"sales_forecast_data\"), \"ml_data_to_preprocess.pkl\"))\n",
    "# data_frame_to_process['revenue'] = data_frame_to_process['freight_value'] + data_frame_to_process['price']\n",
    "# df = data_frame_to_process.groupby([data_frame_to_process['order_purchase_timestamp'].dt.date])[['revenue']].sum()\n",
    "# df.index = pd.to_datetime(df.index)\n",
    "# df.head()"
   ]
  },
  {
   "cell_type": "code",
   "execution_count": 5,
   "metadata": {},
   "outputs": [
    {
     "data": {
      "text/html": [
       "<div>\n",
       "<style scoped>\n",
       "    .dataframe tbody tr th:only-of-type {\n",
       "        vertical-align: middle;\n",
       "    }\n",
       "\n",
       "    .dataframe tbody tr th {\n",
       "        vertical-align: top;\n",
       "    }\n",
       "\n",
       "    .dataframe thead th {\n",
       "        text-align: right;\n",
       "    }\n",
       "</style>\n",
       "<table border=\"1\" class=\"dataframe\">\n",
       "  <thead>\n",
       "    <tr style=\"text-align: right;\">\n",
       "      <th></th>\n",
       "      <th>known_revenue</th>\n",
       "      <th>estimated_revenue</th>\n",
       "    </tr>\n",
       "  </thead>\n",
       "  <tbody>\n",
       "    <tr>\n",
       "      <th>2017-01-31</th>\n",
       "      <td>127482.37</td>\n",
       "      <td>15551.25</td>\n",
       "    </tr>\n",
       "    <tr>\n",
       "      <th>2017-02-28</th>\n",
       "      <td>271239.32</td>\n",
       "      <td>57997.55</td>\n",
       "    </tr>\n",
       "    <tr>\n",
       "      <th>2017-03-31</th>\n",
       "      <td>414330.95</td>\n",
       "      <td>132913.77</td>\n",
       "    </tr>\n",
       "    <tr>\n",
       "      <th>2017-04-30</th>\n",
       "      <td>390812.40</td>\n",
       "      <td>271017.55</td>\n",
       "    </tr>\n",
       "    <tr>\n",
       "      <th>2017-05-31</th>\n",
       "      <td>566851.40</td>\n",
       "      <td>358794.22</td>\n",
       "    </tr>\n",
       "    <tr>\n",
       "      <th>2017-06-30</th>\n",
       "      <td>490050.37</td>\n",
       "      <td>457331.58</td>\n",
       "    </tr>\n",
       "    <tr>\n",
       "      <th>2017-07-31</th>\n",
       "      <td>566299.08</td>\n",
       "      <td>482571.39</td>\n",
       "    </tr>\n",
       "    <tr>\n",
       "      <th>2017-08-31</th>\n",
       "      <td>645832.36</td>\n",
       "      <td>541066.95</td>\n",
       "    </tr>\n",
       "    <tr>\n",
       "      <th>2017-09-30</th>\n",
       "      <td>701077.49</td>\n",
       "      <td>567393.94</td>\n",
       "    </tr>\n",
       "    <tr>\n",
       "      <th>2017-10-31</th>\n",
       "      <td>751117.01</td>\n",
       "      <td>637736.31</td>\n",
       "    </tr>\n",
       "    <tr>\n",
       "      <th>2017-11-30</th>\n",
       "      <td>1153364.20</td>\n",
       "      <td>699342.29</td>\n",
       "    </tr>\n",
       "    <tr>\n",
       "      <th>2017-12-31</th>\n",
       "      <td>843078.29</td>\n",
       "      <td>868519.57</td>\n",
       "    </tr>\n",
       "    <tr>\n",
       "      <th>2018-01-31</th>\n",
       "      <td>1077887.46</td>\n",
       "      <td>915853.17</td>\n",
       "    </tr>\n",
       "    <tr>\n",
       "      <th>2018-02-28</th>\n",
       "      <td>966168.41</td>\n",
       "      <td>1024776.65</td>\n",
       "    </tr>\n",
       "    <tr>\n",
       "      <th>2018-03-31</th>\n",
       "      <td>1120598.24</td>\n",
       "      <td>962378.05</td>\n",
       "    </tr>\n",
       "    <tr>\n",
       "      <th>2018-04-30</th>\n",
       "      <td>1132878.93</td>\n",
       "      <td>1054884.70</td>\n",
       "    </tr>\n",
       "    <tr>\n",
       "      <th>2018-05-31</th>\n",
       "      <td>1128774.52</td>\n",
       "      <td>1047217.12</td>\n",
       "    </tr>\n",
       "    <tr>\n",
       "      <th>2018-06-30</th>\n",
       "      <td>1011978.29</td>\n",
       "      <td>1074233.35</td>\n",
       "    </tr>\n",
       "    <tr>\n",
       "      <th>2018-07-31</th>\n",
       "      <td>1027807.28</td>\n",
       "      <td>1091210.58</td>\n",
       "    </tr>\n",
       "    <tr>\n",
       "      <th>2018-08-31</th>\n",
       "      <td>985491.64</td>\n",
       "      <td>1077321.13</td>\n",
       "    </tr>\n",
       "  </tbody>\n",
       "</table>\n",
       "</div>"
      ],
      "text/plain": [
       "            known_revenue  estimated_revenue\n",
       "2017-01-31      127482.37           15551.25\n",
       "2017-02-28      271239.32           57997.55\n",
       "2017-03-31      414330.95          132913.77\n",
       "2017-04-30      390812.40          271017.55\n",
       "2017-05-31      566851.40          358794.22\n",
       "2017-06-30      490050.37          457331.58\n",
       "2017-07-31      566299.08          482571.39\n",
       "2017-08-31      645832.36          541066.95\n",
       "2017-09-30      701077.49          567393.94\n",
       "2017-10-31      751117.01          637736.31\n",
       "2017-11-30     1153364.20          699342.29\n",
       "2017-12-31      843078.29          868519.57\n",
       "2018-01-31     1077887.46          915853.17\n",
       "2018-02-28      966168.41         1024776.65\n",
       "2018-03-31     1120598.24          962378.05\n",
       "2018-04-30     1132878.93         1054884.70\n",
       "2018-05-31     1128774.52         1047217.12\n",
       "2018-06-30     1011978.29         1074233.35\n",
       "2018-07-31     1027807.28         1091210.58\n",
       "2018-08-31      985491.64         1077321.13"
      ]
     },
     "execution_count": 5,
     "metadata": {},
     "output_type": "execute_result"
    }
   ],
   "source": [
    "df = pd.read_pickle(os.path.join(os.path.join(directory.DATA_DIR, 'sales_forecast_data'), 'olist_2017_forecasts_table_model.pkl'))\n",
    "dates_index = ['2017-01-31', '2017-02-28', '2017-03-31', '2017-04-30',\n",
    "               '2017-05-31', '2017-06-30', '2017-07-31', '2017-08-31',\n",
    "               '2017-09-30', '2017-10-31', '2017-11-30', '2017-12-31',\n",
    "               '2018-01-31', '2018-02-28', '2018-03-31', '2018-04-30',\n",
    "               '2018-05-31', '2018-06-30', '2018-07-31', '2018-08-31']\n",
    "df.index = pd.to_datetime(dates_index)\n",
    "annual_forecast = df.copy()\n",
    "df.round(2)"
   ]
  },
  {
   "cell_type": "markdown",
   "metadata": {},
   "source": [
    "## 1.0 Decomposition\n",
    "\n",
    "Time series with **trend**, or with **seasonality**, are not stationary\n",
    "\n",
    "We want the residuals to be as small as possible.\n",
    "\n",
    "        Season = SARIMA\n",
    "        \n",
    "        Seasonal: less than 1 year.\n",
    "        Cyclical: more than 1 year.\n"
   ]
  },
  {
   "cell_type": "code",
   "execution_count": 6,
   "metadata": {},
   "outputs": [
    {
     "data": {
      "image/png": "[encoded data removed]",
      "text/plain": [
       "<Figure size 1080x648 with 4 Axes>"
      ]
     },
     "metadata": {
      "needs_background": "light"
     },
     "output_type": "display_data"
    }
   ],
   "source": [
    "fig(15, 9)\n",
    "decomposition = seasonal_decompose(df['known_revenue'], period=1)\n",
    "decomposition.plot()\n",
    "plt.show()"
   ]
  },
  {
   "cell_type": "markdown",
   "metadata": {},
   "source": [
    "## 2.0 Stationarity\n",
    "\n",
    "**A stationary time series is one whose properties do not depend on the time at which the series is observed.<br> \n",
    "Thus, time series with trends, or with seasonality, are not stationary**\n",
    "\n",
    "_Mean and variance are constant over a long time period._\n",
    "\n",
    "<a href=\"https://machinelearningmastery.com/time-series-data-stationary-python/\" target=\"_blank\"><strong>Stationary: p-value <= 0.05</strong></a>"
   ]
  },
  {
   "cell_type": "code",
   "execution_count": 7,
   "metadata": {
    "scrolled": true
   },
   "outputs": [
    {
     "name": "stdout",
     "output_type": "stream",
     "text": [
      "ADF Statistic: -2.272699\n",
      "p-value: 0.180924\n",
      "Stationary: False\n",
      "Critical Values:\n",
      "\t1%: -3.859\n",
      "\t5%: -3.042\n",
      "\t10%: -2.661\n"
     ]
    }
   ],
   "source": [
    "result = adfuller(df['known_revenue'])\n",
    "print('ADF Statistic: %f' % result[0])\n",
    "print('p-value: %f' % result[1])\n",
    "print('Stationary:', (result[1] <= 0.05))\n",
    "print('Critical Values:')\n",
    "for key, value in result[4].items():\n",
    "    print('\\t%s: %.3f' % (key, value))"
   ]
  },
  {
   "cell_type": "code",
   "execution_count": 8,
   "metadata": {},
   "outputs": [
    {
     "name": "stdout",
     "output_type": "stream",
     "text": [
      "p-value: 0.000000\n",
      "Stationary: True\n"
     ]
    }
   ],
   "source": [
    "result = adfuller(df['known_revenue'].diff().dropna())\n",
    "print('p-value: %f' % result[1])\n",
    "print('Stationary:', (result[1] <= 0.05))"
   ]
  },
  {
   "cell_type": "code",
   "execution_count": 9,
   "metadata": {},
   "outputs": [],
   "source": [
    "# df['known_revenue'].diff().dropna().plot(figsize=(15,5));"
   ]
  },
  {
   "cell_type": "markdown",
   "metadata": {},
   "source": [
    "## 3.0 Autocorrelation\n",
    "\n",
    "A autocorrelação de uma série, nada mais é do que a correlação de uma série temporal com uma cópia 'atrasada' de si mesma.\n",
    "\n",
    "**q - acp_plot**\n",
    "\n",
    "> Autocorrelation defines AutoRegressive component (p) or P comes from PACF?\n",
    "\n",
    "    We can use a lag of 2 when modeling a monthly time frame. (fora do intervalo de não significância\n",
    "    (intervalo de confiança para o valor 0))"
   ]
  },
  {
   "cell_type": "code",
   "execution_count": 10,
   "metadata": {},
   "outputs": [
    {
     "name": "stdout",
     "output_type": "stream",
     "text": [
      "Autocorrelation for monthly revenue with lag equals 1: 88.0%\n",
      "Autocorrelation for monthly revenue with lag equals 2: 91.0%\n",
      "Autocorrelation for monthly revenue with lag equals 3: 83.0%\n",
      "Autocorrelation for monthly revenue with lag equals 4: 81.0%\n",
      "Autocorrelation for monthly revenue with lag equals 5: 75.0%\n",
      "Autocorrelation for monthly revenue with lag equals 6: 76.0%\n",
      "Autocorrelation for monthly revenue with lag equals 7: 53.0%\n"
     ]
    },
    {
     "data": {
      "image/png": "[encoded data removed]",
      "text/plain": [
       "<Figure size 1080x360 with 1 Axes>"
      ]
     },
     "metadata": {
      "needs_background": "light"
     },
     "output_type": "display_data"
    }
   ],
   "source": [
    "for lag in range(1, 8):\n",
    "    autocorrelation = df['known_revenue'].autocorr(lag)\n",
    "    print(f\"Autocorrelation for monthly revenue with lag equals {lag}: {np.round(autocorrelation*100)}%\" )\n",
    "\n",
    "fig(15, 5)\n",
    "plot_acf(df['known_revenue'], alpha = 0.05);"
   ]
  },
  {
   "cell_type": "code",
   "execution_count": 11,
   "metadata": {},
   "outputs": [],
   "source": [
    "# lag = 2 # 13\n",
    "# fig(15,4)\n",
    "\n",
    "# plt.scatter(df['known_revenue'], df['known_revenue'].shift(lag))\n",
    "# plt.show()\n",
    "# df['known_revenue'].plot()\n",
    "# df['known_revenue'].shift(lag).plot();"
   ]
  },
  {
   "cell_type": "markdown",
   "metadata": {},
   "source": [
    "**diff**"
   ]
  },
  {
   "cell_type": "code",
   "execution_count": 12,
   "metadata": {},
   "outputs": [],
   "source": [
    "# plot_acf(df['known_revenue'].diff().dropna(), alpha = 0.05);"
   ]
  },
  {
   "cell_type": "markdown",
   "metadata": {},
   "source": [
    "## 4.0 Partial Autocorrelation\n",
    "\n",
    "> Partial Autocorrelation defines Moving average component (q) or o\tACF gives q?\n",
    "\n",
    "**P - current value of y is dependent on how many previous lagged.**"
   ]
  },
  {
   "cell_type": "code",
   "execution_count": 13,
   "metadata": {},
   "outputs": [
    {
     "data": {
      "image/png": "[encoded data removed]",
      "text/plain": [
       "<Figure size 1080x360 with 1 Axes>"
      ]
     },
     "metadata": {
      "needs_background": "light"
     },
     "output_type": "display_data"
    }
   ],
   "source": [
    "plot_pacf(df['known_revenue'], lags=9, alpha = 0.05);"
   ]
  },
  {
   "cell_type": "markdown",
   "metadata": {},
   "source": [
    "**diff**"
   ]
  },
  {
   "cell_type": "code",
   "execution_count": 14,
   "metadata": {},
   "outputs": [
    {
     "data": {
      "image/png": "[encoded data removed]",
      "text/plain": [
       "<Figure size 1080x360 with 1 Axes>"
      ]
     },
     "metadata": {
      "needs_background": "light"
     },
     "output_type": "display_data"
    }
   ],
   "source": [
    "plot_pacf(df['known_revenue'].diff().dropna(), lags=8, alpha = 0.05);"
   ]
  },
  {
   "cell_type": "markdown",
   "metadata": {},
   "source": [
    "## 5.0 Transformations"
   ]
  },
  {
   "cell_type": "markdown",
   "metadata": {},
   "source": [
    "Removing Trend"
   ]
  },
  {
   "cell_type": "markdown",
   "metadata": {},
   "source": [
    "## 6.0 ARIMA\n",
    "\n",
    "**Autoregressive component:** AR stands for autoregressive.  Autoregressive parameter is denoted by p.  When p =0, it means that there is no auto-correlation in the series.  When p=1, it means that the series auto-correlation is till one lag.\n",
    "    \n",
    "    \tFuture values of Y is dependent of {N} lag values of Y.\n",
    "\n",
    "**Integrated:** In ARIMA time series analysis, integrated is denoted by d.  Integration is the inverse of differencing.  When d=0, it means the series is stationary and we do not need to take the difference of it.  When d=1, it means that the series is not stationary and to make it stationary, we need to take the first difference.  When d=2, it means that the series has been differenced twice.  Usually, more than two time difference is not reliable.\n",
    "\n",
    "**Moving average component:** MA stands for moving the average, which is denoted by q.  In ARIMA, moving average q=1 means that it is an error term and there is auto-correlation with one lag.\n",
    "\n",
    "        Future values of Y is dependent of previous lagged values of white noise ie the irregular component.\n",
    "        white noise is just  the error. error is the differerence between the actual value and predicted value.\n",
    "        So we take into considerration the error also to predict the future value.\n",
    "        \n",
    "        Autocorrelation between the errors.\n"
   ]
  },
  {
   "cell_type": "markdown",
   "metadata": {},
   "source": [
    "**Train - Test - Validation Set**"
   ]
  },
  {
   "cell_type": "code",
   "execution_count": 15,
   "metadata": {},
   "outputs": [],
   "source": [
    "training_data = df.loc['2017-01-31':'2018-03-31', 'known_revenue']\n",
    "testing_data = df.loc['2018-04-30':'2018-06-30', 'known_revenue']\n",
    "production_data = df.loc['2018-07-31':, 'known_revenue']\n",
    "\n",
    "final_training_data = df.loc['2017-01-31':'2018-06-30', 'known_revenue']"
   ]
  },
  {
   "cell_type": "markdown",
   "metadata": {},
   "source": [
    "## Finding Best P, D, Q"
   ]
  },
  {
   "cell_type": "code",
   "execution_count": 70,
   "metadata": {
    "scrolled": true
   },
   "outputs": [],
   "source": [
    "with warnings.catch_warnings():\n",
    "    warnings.simplefilter(\"ignore\")\n",
    "\n",
    "    p = range(0, 8)\n",
    "    q = range(0, 8)\n",
    "    d = range(0, 2)\n",
    "\n",
    "    pdq_combination = list(itertools.product(p,d,q)) # 128 combinations\n",
    "\n",
    "    rmse = []\n",
    "    index = []\n",
    "\n",
    "    for pdq in pdq_combination:\n",
    "        try:\n",
    "            model = ARIMA(training_data.values, order=(pdq)).fit()\n",
    "            predictions = model.forecast(len(testing_data))\n",
    "            error = np.sqrt(mean_squared_error(testing_data, predictions) # Your Metric - mean_squared_error\n",
    "            index.append(pdq)\n",
    "            rmse.append(error)\n",
    "        except:\n",
    "            continue"
   ]
  },
  {
   "cell_type": "code",
   "execution_count": 71,
   "metadata": {},
   "outputs": [],
   "source": [
    "pdq_parameters = pd.DataFrame(data=rmse, columns=['rmse'], index=pd.Series(index, name='pdq')).sort_values('rmse')"
   ]
  },
  {
   "cell_type": "markdown",
   "metadata": {},
   "source": [
    "### 6.1 Model used in the Project"
   ]
  },
  {
   "cell_type": "code",
   "execution_count": 25,
   "metadata": {},
   "outputs": [],
   "source": [
    "def train_test_arima(autoregressive_component, integrated, moving_average_component, return_models=False, evaluate=True):\n",
    "    p, d, q = autoregressive_component, integrated, moving_average_component\n",
    "    \n",
    "    model = ARIMA(training_data.values, order=(p, d, q)).fit()\n",
    "    if evaluate:\n",
    "        evaluation(testing_data, model.forecast(3), \"2nd Quarter of 2018\")\n",
    "        print()\n",
    "    \n",
    "    final_model = ARIMA(final_training_data.values, order=(p, d, q)).fit()\n",
    "    if evaluate:\n",
    "        evaluation(production_data, final_model.forecast(2), \"3rd Quarter of 2018\")\n",
    "    \n",
    "    if return_models: return model, final_model"
   ]
  },
  {
   "cell_type": "code",
   "execution_count": 26,
   "metadata": {},
   "outputs": [
    {
     "name": "stdout",
     "output_type": "stream",
     "text": [
      "2nd Quarter of 2018\n",
      "On average, our predictions are 5.7% above or below the real value.\n",
      "Which means an error of about R$ 64,127.08\n",
      "\n",
      "3rd Quarter of 2018\n",
      "On average, our predictions are 3.18% above or below the real value.\n",
      "Which means an error of about R$ 31,915.91\n"
     ]
    }
   ],
   "source": [
    "train_test_arima(2, 0, 0)"
   ]
  },
  {
   "cell_type": "markdown",
   "metadata": {},
   "source": [
    "## 7.0 Model Adjustments"
   ]
  },
  {
   "cell_type": "markdown",
   "metadata": {},
   "source": [
    "### 7.1 Stationarity\n",
    "\n",
    "Our series is not [2.0 Stationarity](#2.0-Stationarity). Then:\n",
    "\n",
    "\n",
    "_integrated is denoted by d._\n",
    "\n",
    "_When d=1, it means that the series is not stationary and to make it stationary,_"
   ]
  },
  {
   "cell_type": "code",
   "execution_count": 27,
   "metadata": {},
   "outputs": [
    {
     "name": "stdout",
     "output_type": "stream",
     "text": [
      "2nd Quarter of 2018\n",
      "On average, our predictions are 4.82% above or below the real value.\n",
      "Which means an error of about R$ 52,517.09\n",
      "\n",
      "3rd Quarter of 2018\n",
      "On average, our predictions are 0.63% above or below the real value.\n",
      "Which means an error of about R$ 6,370.43\n"
     ]
    }
   ],
   "source": [
    "train_test_arima(2, 1, 0) # q from diff"
   ]
  },
  {
   "cell_type": "code",
   "execution_count": null,
   "metadata": {},
   "outputs": [],
   "source": [
    "# train_test_arima(2, 1, 1) # partial autocorrelation q"
   ]
  },
  {
   "cell_type": "markdown",
   "metadata": {},
   "source": [
    "<strong>O que o rapaz disse sobre:</strong>\n",
    "\n",
    "<font color=\"grey\">\n",
    "\n",
    "_Autocorrelation defines moving average component._\n",
    "\n",
    "_Partial Autocorrelation defines autoregressive component._\n",
    "\n",
    "\n",
    "<strong>Outspoken:</strong>\n",
    "\n",
    "_Autocorrelation = autoregressive component_\n",
    "</font>"
   ]
  },
  {
   "cell_type": "code",
   "execution_count": null,
   "metadata": {},
   "outputs": [],
   "source": [
    "# fig()\n",
    "# plot_acf(df['known_revenue'], alpha = 0.05);\n",
    "# plot_pacf(df['known_revenue'], lags=9, alpha = 0.05);"
   ]
  },
  {
   "cell_type": "code",
   "execution_count": 62,
   "metadata": {},
   "outputs": [
    {
     "name": "stdout",
     "output_type": "stream",
     "text": [
      "2nd Quarter of 2018\n",
      "On average, our predictions are 7.23% above or below the real value.\n",
      "Which means an error of about R$ 77,695.68\n",
      "\n",
      "3rd Quarter of 2018\n",
      "On average, our predictions are 1.76% above or below the real value.\n",
      "Which means an error of about R$ 17,508.07\n"
     ]
    }
   ],
   "source": [
    "train_test_arima(1, 1, 2)"
   ]
  },
  {
   "cell_type": "markdown",
   "metadata": {},
   "source": [
    "**Best PDQ Search**"
   ]
  },
  {
   "cell_type": "code",
   "execution_count": 74,
   "metadata": {},
   "outputs": [
    {
     "data": {
      "text/html": [
       "<div>\n",
       "<style scoped>\n",
       "    .dataframe tbody tr th:only-of-type {\n",
       "        vertical-align: middle;\n",
       "    }\n",
       "\n",
       "    .dataframe tbody tr th {\n",
       "        vertical-align: top;\n",
       "    }\n",
       "\n",
       "    .dataframe thead th {\n",
       "        text-align: right;\n",
       "    }\n",
       "</style>\n",
       "<table border=\"1\" class=\"dataframe\">\n",
       "  <thead>\n",
       "    <tr style=\"text-align: right;\">\n",
       "      <th>pdq</th>\n",
       "      <th>(6, 1, 3)</th>\n",
       "      <th>(7, 1, 2)</th>\n",
       "      <th>(5, 1, 3)</th>\n",
       "      <th>(2, 1, 3)</th>\n",
       "      <th>(0, 1, 0)</th>\n",
       "      <th>(3, 0, 2)</th>\n",
       "      <th>(4, 0, 2)</th>\n",
       "      <th>(7, 0, 2)</th>\n",
       "      <th>(3, 0, 1)</th>\n",
       "      <th>(2, 1, 0)</th>\n",
       "    </tr>\n",
       "  </thead>\n",
       "  <tbody>\n",
       "    <tr>\n",
       "      <th>rmse</th>\n",
       "      <td>43025.594586</td>\n",
       "      <td>43025.604571</td>\n",
       "      <td>43025.607274</td>\n",
       "      <td>43025.614168</td>\n",
       "      <td>43025.64</td>\n",
       "      <td>50501.887383</td>\n",
       "      <td>51181.685864</td>\n",
       "      <td>51804.944259</td>\n",
       "      <td>52428.097901</td>\n",
       "      <td>52517.093694</td>\n",
       "    </tr>\n",
       "  </tbody>\n",
       "</table>\n",
       "</div>"
      ],
      "text/plain": [
       "pdq      (6, 1, 3)     (7, 1, 2)     (5, 1, 3)     (2, 1, 3)  (0, 1, 0)  \\\n",
       "rmse  43025.594586  43025.604571  43025.607274  43025.614168   43025.64   \n",
       "\n",
       "pdq      (3, 0, 2)     (4, 0, 2)     (7, 0, 2)     (3, 0, 1)     (2, 1, 0)  \n",
       "rmse  50501.887383  51181.685864  51804.944259  52428.097901  52517.093694  "
      ]
     },
     "execution_count": 74,
     "metadata": {},
     "output_type": "execute_result"
    }
   ],
   "source": [
    "pdq_parameters.head(10).T # (2, 1, 0) in top 10"
   ]
  },
  {
   "cell_type": "code",
   "execution_count": 69,
   "metadata": {},
   "outputs": [
    {
     "name": "stderr",
     "output_type": "stream",
     "text": [
      "C:\\Users\\WALDENIO_NOT\\anaconda3\\lib\\site-packages\\statsmodels\\tsa\\statespace\\sarimax.py:965: UserWarning: Non-stationary starting autoregressive parameters found. Using zeros as starting parameters.\n",
      "  warn('Non-stationary starting autoregressive parameters'\n",
      "C:\\Users\\WALDENIO_NOT\\anaconda3\\lib\\site-packages\\statsmodels\\tsa\\statespace\\sarimax.py:977: UserWarning: Non-invertible starting MA parameters found. Using zeros as starting parameters.\n",
      "  warn('Non-invertible starting MA parameters found.'\n"
     ]
    },
    {
     "name": "stdout",
     "output_type": "stream",
     "text": [
      "2nd Quarter of 2018\n",
      "On average, our predictions are 4.18% above or below the real value.\n",
      "Which means an error of about R$ 43,025.59\n",
      "\n"
     ]
    },
    {
     "name": "stderr",
     "output_type": "stream",
     "text": [
      "C:\\Users\\WALDENIO_NOT\\anaconda3\\lib\\site-packages\\statsmodels\\tsa\\statespace\\sarimax.py:965: UserWarning: Non-stationary starting autoregressive parameters found. Using zeros as starting parameters.\n",
      "  warn('Non-stationary starting autoregressive parameters'\n",
      "C:\\Users\\WALDENIO_NOT\\anaconda3\\lib\\site-packages\\statsmodels\\tsa\\statespace\\sarimax.py:977: UserWarning: Non-invertible starting MA parameters found. Using zeros as starting parameters.\n",
      "  warn('Non-invertible starting MA parameters found.'\n"
     ]
    },
    {
     "name": "stdout",
     "output_type": "stream",
     "text": [
      "3rd Quarter of 2018\n",
      "On average, our predictions are 2.11% above or below the real value.\n",
      "Which means an error of about R$ 21,157.82\n"
     ]
    }
   ],
   "source": [
    "train_test_arima(6, 1, 3)"
   ]
  },
  {
   "cell_type": "markdown",
   "metadata": {},
   "source": [
    "## 8.0 Residuals Analysis"
   ]
  },
  {
   "cell_type": "code",
   "execution_count": 28,
   "metadata": {},
   "outputs": [],
   "source": [
    "model_p, model_p_final = train_test_arima(2, 0, 0, return_models=True, evaluate=False)\n",
    "final_model, final_model_final = train_test_arima(2, 1, 0, return_models=True, evaluate=False)"
   ]
  },
  {
   "cell_type": "code",
   "execution_count": null,
   "metadata": {},
   "outputs": [],
   "source": [
    "# print(final_model_final.summary())"
   ]
  },
  {
   "cell_type": "markdown",
   "metadata": {},
   "source": [
    "So what?"
   ]
  },
  {
   "cell_type": "code",
   "execution_count": 29,
   "metadata": {},
   "outputs": [
    {
     "data": {
      "image/png": "[encoded data removed]",
      "text/plain": [
       "<Figure size 1080x360 with 1 Axes>"
      ]
     },
     "metadata": {
      "needs_background": "light"
     },
     "output_type": "display_data"
    }
   ],
   "source": [
    "# Lower the better\n",
    "pd.Series(model_p.resid).plot();\n",
    "pd.Series(model_p_final.resid).plot(color='orange');"
   ]
  },
  {
   "cell_type": "code",
   "execution_count": 30,
   "metadata": {},
   "outputs": [
    {
     "data": {
      "image/png": "[encoded data removed]",
      "text/plain": [
       "<Figure size 1080x360 with 1 Axes>"
      ]
     },
     "metadata": {
      "needs_background": "light"
     },
     "output_type": "display_data"
    }
   ],
   "source": [
    "pd.Series(final_model.resid).plot();\n",
    "pd.Series(final_model_final.resid).plot(color='orange');"
   ]
  },
  {
   "cell_type": "code",
   "execution_count": 31,
   "metadata": {},
   "outputs": [
    {
     "data": {
      "image/png": "[encoded data removed]",
      "text/plain": [
       "<Figure size 1080x360 with 1 Axes>"
      ]
     },
     "metadata": {
      "needs_background": "light"
     },
     "output_type": "display_data"
    }
   ],
   "source": [
    "# Must be not skewed\n",
    "pd.Series(model_p_final.resid).plot(kind='kde');\n",
    "pd.Series(final_model_final.resid).plot(kind='kde', color='orange');"
   ]
  },
  {
   "cell_type": "code",
   "execution_count": 32,
   "metadata": {},
   "outputs": [
    {
     "data": {
      "text/html": [
       "<div>\n",
       "<style scoped>\n",
       "    .dataframe tbody tr th:only-of-type {\n",
       "        vertical-align: middle;\n",
       "    }\n",
       "\n",
       "    .dataframe tbody tr th {\n",
       "        vertical-align: top;\n",
       "    }\n",
       "\n",
       "    .dataframe thead th {\n",
       "        text-align: right;\n",
       "    }\n",
       "</style>\n",
       "<table border=\"1\" class=\"dataframe\">\n",
       "  <thead>\n",
       "    <tr style=\"text-align: right;\">\n",
       "      <th></th>\n",
       "      <th>count</th>\n",
       "      <th>mean</th>\n",
       "      <th>std</th>\n",
       "      <th>min</th>\n",
       "      <th>25%</th>\n",
       "      <th>50%</th>\n",
       "      <th>75%</th>\n",
       "      <th>max</th>\n",
       "    </tr>\n",
       "  </thead>\n",
       "  <tbody>\n",
       "    <tr>\n",
       "      <th>0</th>\n",
       "      <td>18.0</td>\n",
       "      <td>38379.48</td>\n",
       "      <td>200459.75</td>\n",
       "      <td>-614729.91</td>\n",
       "      <td>9491.17</td>\n",
       "      <td>80332.95</td>\n",
       "      <td>105359.32</td>\n",
       "      <td>425138.65</td>\n",
       "    </tr>\n",
       "  </tbody>\n",
       "</table>\n",
       "</div>"
      ],
      "text/plain": [
       "   count      mean        std        min      25%       50%        75%  \\\n",
       "0   18.0  38379.48  200459.75 -614729.91  9491.17  80332.95  105359.32   \n",
       "\n",
       "         max  \n",
       "0  425138.65  "
      ]
     },
     "metadata": {},
     "output_type": "display_data"
    },
    {
     "data": {
      "text/html": [
       "<div>\n",
       "<style scoped>\n",
       "    .dataframe tbody tr th:only-of-type {\n",
       "        vertical-align: middle;\n",
       "    }\n",
       "\n",
       "    .dataframe tbody tr th {\n",
       "        vertical-align: top;\n",
       "    }\n",
       "\n",
       "    .dataframe thead th {\n",
       "        text-align: right;\n",
       "    }\n",
       "</style>\n",
       "<table border=\"1\" class=\"dataframe\">\n",
       "  <thead>\n",
       "    <tr style=\"text-align: right;\">\n",
       "      <th></th>\n",
       "      <th>count</th>\n",
       "      <th>mean</th>\n",
       "      <th>std</th>\n",
       "      <th>min</th>\n",
       "      <th>25%</th>\n",
       "      <th>50%</th>\n",
       "      <th>75%</th>\n",
       "      <th>max</th>\n",
       "    </tr>\n",
       "  </thead>\n",
       "  <tbody>\n",
       "    <tr>\n",
       "      <th>0</th>\n",
       "      <td>18.0</td>\n",
       "      <td>48406.84</td>\n",
       "      <td>133851.96</td>\n",
       "      <td>-234081.51</td>\n",
       "      <td>-21794.36</td>\n",
       "      <td>42647.57</td>\n",
       "      <td>123970.56</td>\n",
       "      <td>393323.55</td>\n",
       "    </tr>\n",
       "  </tbody>\n",
       "</table>\n",
       "</div>"
      ],
      "text/plain": [
       "   count      mean        std        min       25%       50%        75%  \\\n",
       "0   18.0  48406.84  133851.96 -234081.51 -21794.36  42647.57  123970.56   \n",
       "\n",
       "         max  \n",
       "0  393323.55  "
      ]
     },
     "metadata": {},
     "output_type": "display_data"
    }
   ],
   "source": [
    "# Mean Close to 0\n",
    "display(pd.DataFrame(model_p_final.resid).describe().T.round(2))\n",
    "display(pd.DataFrame(final_model_final.resid).describe().T.round(2))"
   ]
  },
  {
   "cell_type": "markdown",
   "metadata": {},
   "source": [
    "- Posso usar esse esquema para outros projetos? O que acrescentar? O que fazer diferente?\n"
   ]
  }
 ],
 "metadata": {
  "kernelspec": {
   "display_name": "Python 3",
   "language": "python",
   "name": "python3"
  },
  "language_info": {
   "codemirror_mode": {
    "name": "ipython",
    "version": 3
   },
   "file_extension": ".py",
   "mimetype": "text/x-python",
   "name": "python",
   "nbconvert_exporter": "python",
   "pygments_lexer": "ipython3",
   "version": "3.8.5"
  }
 },
 "nbformat": 4,
 "nbformat_minor": 4
}
