{
 "cells": [
  {
   "cell_type": "markdown",
   "metadata": {},
   "source": [
    "### Sales Forecast\n",
    "\n",
    "**Motivation! What's the context?**\n",
    "- In 2017 Olist started to forecast its monthly sales based on the average revenue from 3 months before. But now the company  wants to be able to predict future sales more accurately.\n",
    "\n",
    "**Why?**\n",
    "- To efficiently allocate resources for future projects, growth and manage its cash flow. \n",
    "\n",
    "**Who are the stakeholders?**\n",
    "- The financial sector will use the forecast to the set operating budgets and to project cash flows.\n",
    "- And the marketing team, who will have the opportunity to schedule promotions if it appears sales <br>\n",
    "will be weak and will be able to better allocate budget among other marketing activities.\n",
    "\n",
    "**What is the deliverable?**\n",
    "- A dashboard with the information about the forecast.\n",
    "\n",
    "\n",
    "> **ps: We will use the data to forecast the second quarter of 2018 and the third quarter will be our \"production data\".**"
   ]
  },
  {
   "cell_type": "markdown",
   "metadata": {},
   "source": [
    "## Agenda\n",
    "\n",
    "[Cycles Notes](#Cycles-Notes)<br>\n",
    "\n",
    "[0.0 Loading Data](#0.0-Loading-Data)<br>\n",
    "&nbsp;[0.1 Train Test Time Period](#0.1-Train-Test-Time-Period)<br>\n",
    "\n",
    "[1.0 Feature Engineering](#1.0-Feature-Engineering)<br>\n",
    "\n",
    "[2.0 Modeling](#2.0-Modeling)<br>\n",
    "&nbsp;[2.1 Training Test Split](#2.1-Training-Test-Split)<br>\n",
    "&nbsp;[2.2 Random Forest](#2.2-Random-Forest)<br>\n",
    "&nbsp;&nbsp;[2.2.1 Last month orders to next month revenue](#2.2.1-Last-month-orders-to-next-month-revenue)<br>\n",
    "\n",
    "[3.0 ARIMA](#3.0-ARIMA)<br>"
   ]
  },
  {
   "cell_type": "markdown",
   "metadata": {},
   "source": [
    "# Cycles Notes\n",
    "\n",
    "**1st - Is the number of orders quite predictive?**\n",
    "\n",
    "On average, our predictions are 4.09% above or below the real value.<br>\n",
    "Which means an error of about R$ 42939.1\n",
    "\n",
    "        Yes. This is not a feature we have at prediction time, though.\n",
    "        \n",
    "        Crazily, We could use the number of orders from last month to estimate\n",
    "        the next one, but this doesn't help much when forecasting a larger period.\n",
    "\n",
    "**2nd - Hummmm... Tempting.**\n",
    "\n",
    "On average, our predictions are 5.16% above or below the real value.<br>\n",
    "Which means an error of about R$ 53323.36\n",
    "\n",
    "        It can be useful if we need a quick prediction for 1 month distance, which\n",
    "        is not our objective here, so...\n",
    "        \n",
    "        If ARIMA doesn't help much, we can go back to ML models creating new flags\n",
    "        as last_month_revenue_is_greater_than_this_one...\n",
    "\n",
    "**3rd - ARIMA Is Good.**\n",
    "\n",
    "On average, our predictions are 7.43% above or below the real value.<br>\n",
    "Which means an error of about R$ 79515.33\n",
    "\n",
    "        We are close to beating the baseline and and we also have saved some time,\n",
    "        since we don't have to work on feature engineering for the next cycle.\n",
    "\n",
    "Let's focus our attention on time series analysis to improve this model.<br>\n",
    "[1.2-pr-sales-prediction-machine-learning-arima](#)"
   ]
  },
  {
   "cell_type": "code",
   "execution_count": 1,
   "metadata": {},
   "outputs": [],
   "source": [
    "from notebook_utils.utils import *\n",
    "from notebook_utils.ml_utils import *\n",
    "\n",
    "import os \n",
    "import pandas as pd\n",
    "import numpy as np\n",
    "\n",
    "from sklearn.ensemble import RandomForestRegressor\n",
    "\n",
    "from statsmodels.tsa.arima.model import ARIMA"
   ]
  },
  {
   "cell_type": "code",
   "execution_count": 2,
   "metadata": {},
   "outputs": [],
   "source": [
    "directory = Directory(\"1.1-pr-sales-prediction-machine-learning\")"
   ]
  },
  {
   "cell_type": "markdown",
   "metadata": {},
   "source": [
    "## 0.0 Loading Data"
   ]
  },
  {
   "cell_type": "code",
   "execution_count": 3,
   "metadata": {},
   "outputs": [],
   "source": [
    "data_frame_to_process = pd.read_pickle(os.path.join(os.path.join(directory.DATA_DIR, \"sales_forecast_data\"), \"ml_data_to_preprocess.pkl\"))\n",
    "data_frame_to_process['revenue'] = data_frame_to_process['freight_value'] + data_frame_to_process['price']\n",
    "\n",
    "data_frame = data_frame_to_process.copy()"
   ]
  },
  {
   "cell_type": "markdown",
   "metadata": {},
   "source": [
    "### 0.1 Train Test Time Period"
   ]
  },
  {
   "cell_type": "code",
   "execution_count": 4,
   "metadata": {},
   "outputs": [],
   "source": [
    "mask = (data_frame['order_purchase_timestamp'] < '2018-4-1')\n",
    "x_train_index = data_frame.loc[mask].drop(columns=['revenue']).index\n",
    "\n",
    "mask = (data_frame['order_purchase_timestamp'] >= '2018-4-1')\n",
    "x_test_index = data_frame.loc[mask].drop(columns=['revenue']).index"
   ]
  },
  {
   "cell_type": "markdown",
   "metadata": {},
   "source": [
    "## 1.0 Feature Engineering"
   ]
  },
  {
   "cell_type": "code",
   "execution_count": 5,
   "metadata": {},
   "outputs": [],
   "source": [
    "# data_frame.columns"
   ]
  },
  {
   "cell_type": "code",
   "execution_count": 6,
   "metadata": {},
   "outputs": [
    {
     "data": {
      "text/html": [
       "<div>\n",
       "<style scoped>\n",
       "    .dataframe tbody tr th:only-of-type {\n",
       "        vertical-align: middle;\n",
       "    }\n",
       "\n",
       "    .dataframe tbody tr th {\n",
       "        vertical-align: top;\n",
       "    }\n",
       "\n",
       "    .dataframe thead th {\n",
       "        text-align: right;\n",
       "    }\n",
       "</style>\n",
       "<table border=\"1\" class=\"dataframe\">\n",
       "  <thead>\n",
       "    <tr style=\"text-align: right;\">\n",
       "      <th></th>\n",
       "      <th></th>\n",
       "      <th>revenue</th>\n",
       "      <th>n_orders</th>\n",
       "    </tr>\n",
       "    <tr>\n",
       "      <th>order_purchase_timestamp</th>\n",
       "      <th>order_purchase_timestamp</th>\n",
       "      <th></th>\n",
       "      <th></th>\n",
       "    </tr>\n",
       "  </thead>\n",
       "  <tbody>\n",
       "    <tr>\n",
       "      <th rowspan=\"12\" valign=\"top\">2017</th>\n",
       "      <th>1</th>\n",
       "      <td>127367.44</td>\n",
       "      <td>911</td>\n",
       "    </tr>\n",
       "    <tr>\n",
       "      <th>2</th>\n",
       "      <td>269399.65</td>\n",
       "      <td>1845</td>\n",
       "    </tr>\n",
       "    <tr>\n",
       "      <th>3</th>\n",
       "      <td>413517.85</td>\n",
       "      <td>2891</td>\n",
       "    </tr>\n",
       "    <tr>\n",
       "      <th>4</th>\n",
       "      <td>390205.37</td>\n",
       "      <td>2563</td>\n",
       "    </tr>\n",
       "    <tr>\n",
       "      <th>5</th>\n",
       "      <td>564882.30</td>\n",
       "      <td>3992</td>\n",
       "    </tr>\n",
       "    <tr>\n",
       "      <th>6</th>\n",
       "      <td>487400.36</td>\n",
       "      <td>3472</td>\n",
       "    </tr>\n",
       "    <tr>\n",
       "      <th>7</th>\n",
       "      <td>564067.13</td>\n",
       "      <td>4409</td>\n",
       "    </tr>\n",
       "    <tr>\n",
       "      <th>8</th>\n",
       "      <td>643593.37</td>\n",
       "      <td>4782</td>\n",
       "    </tr>\n",
       "    <tr>\n",
       "      <th>9</th>\n",
       "      <td>697148.71</td>\n",
       "      <td>4724</td>\n",
       "    </tr>\n",
       "    <tr>\n",
       "      <th>10</th>\n",
       "      <td>749240.68</td>\n",
       "      <td>5201</td>\n",
       "    </tr>\n",
       "    <tr>\n",
       "      <th>11</th>\n",
       "      <td>1149233.20</td>\n",
       "      <td>8452</td>\n",
       "    </tr>\n",
       "    <tr>\n",
       "      <th>12</th>\n",
       "      <td>841078.16</td>\n",
       "      <td>6171</td>\n",
       "    </tr>\n",
       "    <tr>\n",
       "      <th rowspan=\"8\" valign=\"top\">2018</th>\n",
       "      <th>1</th>\n",
       "      <td>1076273.40</td>\n",
       "      <td>8022</td>\n",
       "    </tr>\n",
       "    <tr>\n",
       "      <th>2</th>\n",
       "      <td>963208.29</td>\n",
       "      <td>7495</td>\n",
       "    </tr>\n",
       "    <tr>\n",
       "      <th>3</th>\n",
       "      <td>1117526.68</td>\n",
       "      <td>7994</td>\n",
       "    </tr>\n",
       "    <tr>\n",
       "      <th>4</th>\n",
       "      <td>1130099.01</td>\n",
       "      <td>7805</td>\n",
       "    </tr>\n",
       "    <tr>\n",
       "      <th>5</th>\n",
       "      <td>1126620.93</td>\n",
       "      <td>7789</td>\n",
       "    </tr>\n",
       "    <tr>\n",
       "      <th>6</th>\n",
       "      <td>1009037.40</td>\n",
       "      <td>6990</td>\n",
       "    </tr>\n",
       "    <tr>\n",
       "      <th>7</th>\n",
       "      <td>1024797.19</td>\n",
       "      <td>6941</td>\n",
       "    </tr>\n",
       "    <tr>\n",
       "      <th>8</th>\n",
       "      <td>982649.62</td>\n",
       "      <td>7120</td>\n",
       "    </tr>\n",
       "  </tbody>\n",
       "</table>\n",
       "</div>"
      ],
      "text/plain": [
       "                                                      revenue  n_orders\n",
       "order_purchase_timestamp order_purchase_timestamp                      \n",
       "2017                     1                          127367.44       911\n",
       "                         2                          269399.65      1845\n",
       "                         3                          413517.85      2891\n",
       "                         4                          390205.37      2563\n",
       "                         5                          564882.30      3992\n",
       "                         6                          487400.36      3472\n",
       "                         7                          564067.13      4409\n",
       "                         8                          643593.37      4782\n",
       "                         9                          697148.71      4724\n",
       "                         10                         749240.68      5201\n",
       "                         11                        1149233.20      8452\n",
       "                         12                         841078.16      6171\n",
       "2018                     1                         1076273.40      8022\n",
       "                         2                          963208.29      7495\n",
       "                         3                         1117526.68      7994\n",
       "                         4                         1130099.01      7805\n",
       "                         5                         1126620.93      7789\n",
       "                         6                         1009037.40      6990\n",
       "                         7                         1024797.19      6941\n",
       "                         8                          982649.62      7120"
      ]
     },
     "execution_count": 6,
     "metadata": {},
     "output_type": "execute_result"
    }
   ],
   "source": [
    "functions = {'revenue':'sum', 'order_id':'count'}\n",
    "df = data_frame.groupby([data_frame['order_purchase_timestamp'].dt.year,\n",
    "                         data_frame['order_purchase_timestamp'].dt.month]).\\\n",
    "                agg(functions)\n",
    "df.columns = ['revenue','n_orders']\n",
    "df"
   ]
  },
  {
   "cell_type": "markdown",
   "metadata": {},
   "source": [
    "## 2.0 Modeling\n",
    "### 2.1 Training Test Split"
   ]
  },
  {
   "cell_type": "code",
   "execution_count": 7,
   "metadata": {},
   "outputs": [],
   "source": [
    "x_train = pd.concat([df.loc[2017, :], df.loc[2018, :].loc[:3]]).drop(columns='revenue')\n",
    "y_train = pd.concat([df.loc[2017, 'revenue'], df.loc[2018, 'revenue'].loc[:3]])\n",
    "\n",
    "x_test = df.loc[2018, :].loc[4:].drop(columns='revenue')\n",
    "y_test = df.loc[2018, 'revenue'].loc[4:]"
   ]
  },
  {
   "cell_type": "markdown",
   "metadata": {},
   "source": [
    "### 2.2 Random Forest"
   ]
  },
  {
   "cell_type": "code",
   "execution_count": 8,
   "metadata": {},
   "outputs": [
    {
     "name": "stdout",
     "output_type": "stream",
     "text": [
      "On average, our predictions are 4.48% above or below the real value.\n",
      "Which means an error of about R$ 46525.66\n"
     ]
    },
    {
     "data": {
      "text/plain": [
       "(46525.66, 4.482309094184328)"
      ]
     },
     "execution_count": 8,
     "metadata": {},
     "output_type": "execute_result"
    }
   ],
   "source": [
    "rf = RandomForestRegressor(min_samples_leaf=1)\n",
    "rf.fit(x_train, y_train)\n",
    "\n",
    "rf_predictions = rf.predict(x_test)\n",
    "evaluation(y_test, rf_predictions)"
   ]
  },
  {
   "cell_type": "code",
   "execution_count": 9,
   "metadata": {},
   "outputs": [
    {
     "data": {
      "image/png": "[encoded data removed]",
      "text/plain": [
       "<Figure size 1080x360 with 1 Axes>"
      ]
     },
     "metadata": {
      "needs_background": "light"
     },
     "output_type": "display_data"
    }
   ],
   "source": [
    "rf_evaluation = pd.concat([pd.Series(y_test.ravel(), name='revenue'), pd.Series(rf_predictions.ravel(), name='prediction')], axis=1)\n",
    "rf_evaluation.plot(figsize=(15,5));"
   ]
  },
  {
   "cell_type": "markdown",
   "metadata": {},
   "source": [
    "#### 2.2.1 Last month orders to next month revenue"
   ]
  },
  {
   "cell_type": "code",
   "execution_count": 10,
   "metadata": {},
   "outputs": [
    {
     "data": {
      "text/html": [
       "<div>\n",
       "<style scoped>\n",
       "    .dataframe tbody tr th:only-of-type {\n",
       "        vertical-align: middle;\n",
       "    }\n",
       "\n",
       "    .dataframe tbody tr th {\n",
       "        vertical-align: top;\n",
       "    }\n",
       "\n",
       "    .dataframe thead th {\n",
       "        text-align: right;\n",
       "    }\n",
       "</style>\n",
       "<table border=\"1\" class=\"dataframe\">\n",
       "  <thead>\n",
       "    <tr style=\"text-align: right;\">\n",
       "      <th></th>\n",
       "      <th>n_orders</th>\n",
       "    </tr>\n",
       "    <tr>\n",
       "      <th>order_purchase_timestamp</th>\n",
       "      <th></th>\n",
       "    </tr>\n",
       "  </thead>\n",
       "  <tbody>\n",
       "    <tr>\n",
       "      <th>3</th>\n",
       "      <td>7994</td>\n",
       "    </tr>\n",
       "    <tr>\n",
       "      <th>4</th>\n",
       "      <td>7805</td>\n",
       "    </tr>\n",
       "    <tr>\n",
       "      <th>5</th>\n",
       "      <td>7789</td>\n",
       "    </tr>\n",
       "    <tr>\n",
       "      <th>6</th>\n",
       "      <td>6990</td>\n",
       "    </tr>\n",
       "    <tr>\n",
       "      <th>7</th>\n",
       "      <td>6941</td>\n",
       "    </tr>\n",
       "  </tbody>\n",
       "</table>\n",
       "</div>"
      ],
      "text/plain": [
       "                          n_orders\n",
       "order_purchase_timestamp          \n",
       "3                             7994\n",
       "4                             7805\n",
       "5                             7789\n",
       "6                             6990\n",
       "7                             6941"
      ]
     },
     "execution_count": 10,
     "metadata": {},
     "output_type": "execute_result"
    }
   ],
   "source": [
    "new_x_test = x_test.copy()\n",
    "new_x_test = new_x_test.append(x_train.iloc[-1]).sort_index()\n",
    "new_x_test[:-1]"
   ]
  },
  {
   "cell_type": "code",
   "execution_count": 11,
   "metadata": {},
   "outputs": [
    {
     "name": "stdout",
     "output_type": "stream",
     "text": [
      "On average, our predictions are 4.84% above or below the real value.\n",
      "Which means an error of about R$ 49866.82\n"
     ]
    },
    {
     "data": {
      "text/plain": [
       "(49866.82, 4.836721616775937)"
      ]
     },
     "execution_count": 11,
     "metadata": {},
     "output_type": "execute_result"
    }
   ],
   "source": [
    "rf_predictions = rf.predict(new_x_test[:-1])\n",
    "evaluation(y_test, rf_predictions)"
   ]
  },
  {
   "cell_type": "code",
   "execution_count": 12,
   "metadata": {},
   "outputs": [
    {
     "data": {
      "image/png": "[encoded data removed]",
      "text/plain": [
       "<Figure size 1080x360 with 1 Axes>"
      ]
     },
     "metadata": {
      "needs_background": "light"
     },
     "output_type": "display_data"
    }
   ],
   "source": [
    "rf_evaluation = pd.concat([pd.Series(y_test.ravel(), name='revenue'), pd.Series(rf_predictions.ravel(), name='prediction')], axis=1)\n",
    "rf_evaluation.plot(figsize=(15,5));"
   ]
  },
  {
   "cell_type": "markdown",
   "metadata": {},
   "source": [
    "## 3.0 ARIMA"
   ]
  },
  {
   "cell_type": "code",
   "execution_count": 13,
   "metadata": {},
   "outputs": [
    {
     "name": "stdout",
     "output_type": "stream",
     "text": [
      "On average, our predictions are 7.43% above or below the real value.\n",
      "Which means an error of about R$ 79515.33\n"
     ]
    },
    {
     "name": "stderr",
     "output_type": "stream",
     "text": [
      "C:\\Users\\WALDENIO_NOT\\anaconda3\\lib\\site-packages\\statsmodels\\tsa\\statespace\\sarimax.py:965: UserWarning: Non-stationary starting autoregressive parameters found. Using zeros as starting parameters.\n",
      "  warn('Non-stationary starting autoregressive parameters'\n"
     ]
    },
    {
     "data": {
      "text/plain": [
       "(79515.33, 7.4265980846324675)"
      ]
     },
     "execution_count": 13,
     "metadata": {},
     "output_type": "execute_result"
    }
   ],
   "source": [
    "model = ARIMA(y_train.values, order=(5,1,0)).fit()\n",
    "predictions = model.forecast(5)\n",
    "evaluation(y_test, predictions)"
   ]
  },
  {
   "cell_type": "code",
   "execution_count": 14,
   "metadata": {},
   "outputs": [
    {
     "data": {
      "image/png": "[encoded data removed]",
      "text/plain": [
       "<Figure size 1080x360 with 1 Axes>"
      ]
     },
     "metadata": {
      "needs_background": "light"
     },
     "output_type": "display_data"
    }
   ],
   "source": [
    "arima_evaluation = pd.concat([pd.Series(y_test.ravel(), name='revenue'), pd.Series(predictions.ravel(), name='prediction')], axis=1)\n",
    "arima_evaluation.plot(figsize=(15,5));"
   ]
  },
  {
   "cell_type": "code",
   "execution_count": 15,
   "metadata": {},
   "outputs": [
    {
     "name": "stdout",
     "output_type": "stream",
     "text": [
      "On average, our predictions are 6.56% above or below the real value.\n",
      "Which means an error of about R$ 73701.51\n"
     ]
    },
    {
     "data": {
      "text/plain": [
       "(73701.51, 6.560150314625545)"
      ]
     },
     "execution_count": 15,
     "metadata": {},
     "output_type": "execute_result"
    }
   ],
   "source": [
    "evaluation(y_test[:3], predictions[:3])"
   ]
  },
  {
   "cell_type": "code",
   "execution_count": 16,
   "metadata": {},
   "outputs": [
    {
     "name": "stdout",
     "output_type": "stream",
     "text": [
      "On average, our predictions are 8.73% above or below the real value.\n",
      "Which means an error of about R$ 88236.05\n"
     ]
    },
    {
     "data": {
      "text/plain": [
       "(88236.05, 8.726269739642849)"
      ]
     },
     "execution_count": 16,
     "metadata": {},
     "output_type": "execute_result"
    }
   ],
   "source": [
    "evaluation(y_test[3:], predictions[3:])"
   ]
  },
  {
   "cell_type": "markdown",
   "metadata": {},
   "source": [
    "**Let's focus our attention on time series analysis to improve this model.**"
   ]
  }
 ],
 "metadata": {
  "kernelspec": {
   "display_name": "Python 3",
   "language": "python",
   "name": "python3"
  },
  "language_info": {
   "codemirror_mode": {
    "name": "ipython",
    "version": 3
   },
   "file_extension": ".py",
   "mimetype": "text/x-python",
   "name": "python",
   "nbconvert_exporter": "python",
   "pygments_lexer": "ipython3",
   "version": "3.8.5"
  }
 },
 "nbformat": 4,
 "nbformat_minor": 4
}
