{
 "cells": [
  {
   "cell_type": "markdown",
   "metadata": {},
   "source": [
    "### Sales Forecast\n",
    "\n",
    "**Motivation! What's the context?**\n",
    "- In 2017 Olist started to forecast its monthly sales based on the average revenue from 3 months before. But now the company  wants to be able to predict future sales more accurately.\n",
    "\n",
    "**Why?**\n",
    "- To efficiently allocate resources for future projects, growth and manage its cash flow. \n",
    "\n",
    "**Who are the stakeholders?**\n",
    "- The financial sector will use the forecast to the set operating budgets and to project cash flows.\n",
    "- And the marketing team, who will have the opportunity to schedule promotions if it appears sales <br>\n",
    "will be weak and will be able to better allocate budget among other marketing activities.\n",
    "\n",
    "**What is the deliverable?**\n",
    "- A dashboard with the information about the forecast.\n",
    "\n",
    "\n",
    "> **ps: We will use the data to forecast the second quarter of 2018 and the third quarter will be our \"production data\".**"
   ]
  },
  {
   "cell_type": "markdown",
   "metadata": {},
   "source": [
    "## Agenda"
   ]
  },
  {
   "cell_type": "markdown",
   "metadata": {},
   "source": [
    "# Cycle Notes\n",
    "\n",
    "**1st - .**\n",
    "\n",
    "hummm\n",
    "\n",
    "        hummm\n",
    "        \n",
    "\n",
    "**2nd - .**\n",
    "\n",
    "hummm\n",
    "\n",
    "        hummm\n",
    "\n",
    "**3rd - .**\n",
    "\n",
    "hummm\n",
    "\n",
    "        hummm\n"
   ]
  },
  {
   "cell_type": "code",
   "execution_count": 2,
   "metadata": {},
   "outputs": [],
   "source": [
    "import os \n",
    "import pandas as pd\n",
    "import numpy as np"
   ]
  },
  {
   "cell_type": "code",
   "execution_count": 3,
   "metadata": {},
   "outputs": [],
   "source": [
    "# Settings\n",
    "__file__ = \"1.1-pr-sales-prediction-eda\"\n",
    "THIS_DIR = os.path.dirname(os.path.abspath(__file__))\n",
    "BASE_DIR = os.path.dirname(os.path.dirname(os.path.dirname(os.path.abspath(__file__))))\n",
    "DATA_DIR = os.path.join(os.path.join(BASE_DIR, 'data'))"
   ]
  },
  {
   "cell_type": "code",
   "execution_count": 4,
   "metadata": {},
   "outputs": [],
   "source": [
    "def evaluation(y_true, y_pred, show_results=True):\n",
    "    mae = mean_absolute_error(y_true, y_pred).round(2)\n",
    "    mape = mean_absolute_percentage_error(y_true, y_pred) * 100\n",
    "    if show_results:\n",
    "        print(f'''On average, our predictions are {mape.round(2)}% above or below the real value.''')\n",
    "        print(f'''Which means an error of about R$ {mae}''')\n",
    "    return mae, mape"
   ]
  },
  {
   "cell_type": "markdown",
   "metadata": {},
   "source": [
    "## 0.0 Loading Data"
   ]
  },
  {
   "cell_type": "code",
   "execution_count": 5,
   "metadata": {},
   "outputs": [],
   "source": [
    "data_frame_to_process = pd.read_pickle(os.path.join(os.path.join(DATA_DIR, \"sales_forecast_data\"), \"ml_data_to_preprocess.pkl\"))\n",
    "data_frame_to_process['revenue'] = data_frame_to_process['freight_value'] + data_frame_to_process['price']"
   ]
  },
  {
   "cell_type": "code",
   "execution_count": 7,
   "metadata": {},
   "outputs": [
    {
     "name": "stdout",
     "output_type": "stream",
     "text": [
      "<class 'pandas.core.frame.DataFrame'>\n",
      "Int64Index: 109569 entries, 0 to 110179\n",
      "Data columns (total 41 columns):\n",
      " #   Column                              Non-Null Count   Dtype         \n",
      "---  ------                              --------------   -----         \n",
      " 0   order_id                            109569 non-null  object        \n",
      " 1   customer_id                         109569 non-null  object        \n",
      " 2   order_status                        109569 non-null  object        \n",
      " 3   order_purchase_timestamp            109569 non-null  datetime64[ns]\n",
      " 4   order_approved_at                   109569 non-null  datetime64[ns]\n",
      " 5   order_delivered_carrier_date        109569 non-null  datetime64[ns]\n",
      " 6   order_delivered_customer_date       109569 non-null  datetime64[ns]\n",
      " 7   order_estimated_delivery_date       109569 non-null  datetime64[ns]\n",
      " 8   customer_unique_id                  109569 non-null  object        \n",
      " 9   customer_zip_code_prefix            109569 non-null  int64         \n",
      " 10  customer_city                       109569 non-null  object        \n",
      " 11  customer_state                      109569 non-null  object        \n",
      " 12  order_item_id                       109569 non-null  int64         \n",
      " 13  product_id                          109569 non-null  object        \n",
      " 14  seller_id                           109569 non-null  object        \n",
      " 15  shipping_limit_date                 109569 non-null  datetime64[ns]\n",
      " 16  price                               109569 non-null  float64       \n",
      " 17  freight_value                       109569 non-null  float64       \n",
      " 18  geolocation_zip_code_prefix         109569 non-null  float64       \n",
      " 19  geolocation_lat                     109569 non-null  float64       \n",
      " 20  geolocation_lng                     109569 non-null  float64       \n",
      " 21  geolocation_city                    109569 non-null  object        \n",
      " 22  geolocation_state                   109569 non-null  object        \n",
      " 23  purchase_timestamp_is_holyday       109569 non-null  bool          \n",
      " 24  estimated_delivery_date_is_holyday  109569 non-null  bool          \n",
      " 25  purchase_timestamp_year             109569 non-null  int64         \n",
      " 26  estimated_delivery_date_year        109569 non-null  int64         \n",
      " 27  purchase_timestamp_month            109569 non-null  int64         \n",
      " 28  estimated_delivery_date_month       109569 non-null  int64         \n",
      " 29  purchase_timestamp_day              109569 non-null  int64         \n",
      " 30  estimated_delivery_date_day         109569 non-null  int64         \n",
      " 31  purchase_timestamp_weekofyear       109569 non-null  UInt32        \n",
      " 32  estimated_delivery_date_weekofyear  109569 non-null  UInt32        \n",
      " 33  freight_percentage_from_price       109569 non-null  float64       \n",
      " 34  region                              109569 non-null  object        \n",
      " 35  sellers_in_state                    109569 non-null  int64         \n",
      " 36  sellers_in_region                   109569 non-null  int64         \n",
      " 37  purchase_timestamp_dayofweek        109569 non-null  int64         \n",
      " 38  estimated_delivery_date_dayofweek   109569 non-null  int64         \n",
      " 39  city_is_capital                     109569 non-null  bool          \n",
      " 40  revenue                             109569 non-null  float64       \n",
      "dtypes: UInt32(2), bool(3), datetime64[ns](6), float64(7), int64(12), object(11)\n",
      "memory usage: 32.3+ MB\n"
     ]
    }
   ],
   "source": [
    "data_frame_to_process.info()"
   ]
  }
 ],
 "metadata": {
  "kernelspec": {
   "display_name": "Python 3",
   "language": "python",
   "name": "python3"
  },
  "language_info": {
   "codemirror_mode": {
    "name": "ipython",
    "version": 3
   },
   "file_extension": ".py",
   "mimetype": "text/x-python",
   "name": "python",
   "nbconvert_exporter": "python",
   "pygments_lexer": "ipython3",
   "version": "3.8.5"
  }
 },
 "nbformat": 4,
 "nbformat_minor": 4
}
